{
 "cells": [
  {
   "cell_type": "code",
   "execution_count": 1,
   "id": "081ed82a-b4af-4693-9256-7c1b142599b0",
   "metadata": {
    "tags": []
   },
   "outputs": [],
   "source": [
    "import pandas as pd\n",
    "import numpy as np\n",
    "import plotly.express as px\n",
    "import seaborn as sns\n",
    "from matplotlib import pyplot as plt\n",
    "pd.options.display.max_columns = None\n",
    "import geopandas as gpd\n",
    "import geoplot as gp\n",
    "import plotly.figure_factory as ff"
   ]
  },
  {
   "cell_type": "markdown",
   "id": "2d539515-16bf-41ca-8775-ecd91ba346e1",
   "metadata": {},
   "source": [
    "\n",
    "\n",
    "Introduction\n",
    "\n",
    "Hello reader, my goal in this study is to analyze the variables that either contribute or correlate with a specific Youtuber around their success in 2023, specifically in their subscribers and earnings. The goal is to understand which variables are most influential on success for a Youtuber, in which at the same time we must figure out how to measure success.\n",
    "\n",
    "The main variables I'll be analyzing are Category, Enrollment %, Country, Population, Uploads, and Video Views. I chose these because they can have varying degrees of impact depending on the type of viewer and for their purpose.\n",
    "\n",
    "Although these there are many factors that can contribute to a Youtubers success that we may not understand yet, we will figure out how to measure success and look to predict future success with the information available.\n",
    "\n",
    "HERE IS MY GITHUB FOR CODE.\n",
    "\n",
    "Data\n",
    "\n",
    "I used a dataset from Kaggle: https://www.kaggle.com/datasets/nelgiriyewithana/global-youtube-statistics-2023"
   ]
  },
  {
   "cell_type": "code",
   "execution_count": 14,
   "id": "22bded1c-33a2-46c1-b195-d67c089f8f84",
   "metadata": {
    "tags": []
   },
   "outputs": [],
   "source": [
    "rawdf = pd.read_csv('Global_YouTube_Statistics.csv',encoding ='latin-1')"
   ]
  },
  {
   "cell_type": "code",
   "execution_count": 45,
   "id": "3c1fb207-d890-4533-8e54-8390b925d7cb",
   "metadata": {
    "tags": []
   },
   "outputs": [
    {
     "data": {
      "text/html": [
       "<div>\n",
       "<style scoped>\n",
       "    .dataframe tbody tr th:only-of-type {\n",
       "        vertical-align: middle;\n",
       "    }\n",
       "\n",
       "    .dataframe tbody tr th {\n",
       "        vertical-align: top;\n",
       "    }\n",
       "\n",
       "    .dataframe thead th {\n",
       "        text-align: right;\n",
       "    }\n",
       "</style>\n",
       "<table border=\"1\" class=\"dataframe\">\n",
       "  <thead>\n",
       "    <tr style=\"text-align: right;\">\n",
       "      <th></th>\n",
       "      <th>rank</th>\n",
       "      <th>Youtuber</th>\n",
       "      <th>subscribers</th>\n",
       "      <th>video views</th>\n",
       "      <th>category</th>\n",
       "      <th>Title</th>\n",
       "      <th>uploads</th>\n",
       "      <th>Country</th>\n",
       "      <th>Abbreviation</th>\n",
       "      <th>channel_type</th>\n",
       "      <th>video_views_rank</th>\n",
       "      <th>country_rank</th>\n",
       "      <th>channel_type_rank</th>\n",
       "      <th>video_views_for_the_last_30_days</th>\n",
       "      <th>lowest_monthly_earnings</th>\n",
       "      <th>highest_monthly_earnings</th>\n",
       "      <th>lowest_yearly_earnings</th>\n",
       "      <th>highest_yearly_earnings</th>\n",
       "      <th>subscribers_for_last_30_days</th>\n",
       "      <th>created_year</th>\n",
       "      <th>created_month</th>\n",
       "      <th>created_date</th>\n",
       "      <th>Gross tertiary education enrollment (%)</th>\n",
       "      <th>Population</th>\n",
       "      <th>Unemployment rate</th>\n",
       "      <th>Urban_population</th>\n",
       "      <th>Latitude</th>\n",
       "      <th>Longitude</th>\n",
       "    </tr>\n",
       "  </thead>\n",
       "  <tbody>\n",
       "    <tr>\n",
       "      <th>0</th>\n",
       "      <td>1</td>\n",
       "      <td>T-Series</td>\n",
       "      <td>245000000</td>\n",
       "      <td>2.280000e+11</td>\n",
       "      <td>Music</td>\n",
       "      <td>T-Series</td>\n",
       "      <td>20082</td>\n",
       "      <td>India</td>\n",
       "      <td>IN</td>\n",
       "      <td>Music</td>\n",
       "      <td>1.0</td>\n",
       "      <td>1.0</td>\n",
       "      <td>1.0</td>\n",
       "      <td>2.258000e+09</td>\n",
       "      <td>564600.0</td>\n",
       "      <td>9000000.00</td>\n",
       "      <td>6800000.00</td>\n",
       "      <td>1.084000e+08</td>\n",
       "      <td>2000000.0</td>\n",
       "      <td>2006.0</td>\n",
       "      <td>Mar</td>\n",
       "      <td>13.0</td>\n",
       "      <td>28.1</td>\n",
       "      <td>1.366418e+09</td>\n",
       "      <td>5.36</td>\n",
       "      <td>471031528.0</td>\n",
       "      <td>20.593684</td>\n",
       "      <td>78.962880</td>\n",
       "    </tr>\n",
       "    <tr>\n",
       "      <th>1</th>\n",
       "      <td>2</td>\n",
       "      <td>YouTube Movies</td>\n",
       "      <td>170000000</td>\n",
       "      <td>0.000000e+00</td>\n",
       "      <td>Film &amp; Animation</td>\n",
       "      <td>youtubemovies</td>\n",
       "      <td>1</td>\n",
       "      <td>United States</td>\n",
       "      <td>US</td>\n",
       "      <td>Games</td>\n",
       "      <td>4055159.0</td>\n",
       "      <td>7670.0</td>\n",
       "      <td>7423.0</td>\n",
       "      <td>1.200000e+01</td>\n",
       "      <td>0.0</td>\n",
       "      <td>0.05</td>\n",
       "      <td>0.04</td>\n",
       "      <td>5.800000e-01</td>\n",
       "      <td>NaN</td>\n",
       "      <td>2006.0</td>\n",
       "      <td>Mar</td>\n",
       "      <td>5.0</td>\n",
       "      <td>88.2</td>\n",
       "      <td>3.282395e+08</td>\n",
       "      <td>14.70</td>\n",
       "      <td>270663028.0</td>\n",
       "      <td>37.090240</td>\n",
       "      <td>-95.712891</td>\n",
       "    </tr>\n",
       "    <tr>\n",
       "      <th>2</th>\n",
       "      <td>3</td>\n",
       "      <td>MrBeast</td>\n",
       "      <td>166000000</td>\n",
       "      <td>2.836884e+10</td>\n",
       "      <td>Entertainment</td>\n",
       "      <td>MrBeast</td>\n",
       "      <td>741</td>\n",
       "      <td>United States</td>\n",
       "      <td>US</td>\n",
       "      <td>Entertainment</td>\n",
       "      <td>48.0</td>\n",
       "      <td>1.0</td>\n",
       "      <td>1.0</td>\n",
       "      <td>1.348000e+09</td>\n",
       "      <td>337000.0</td>\n",
       "      <td>5400000.00</td>\n",
       "      <td>4000000.00</td>\n",
       "      <td>6.470000e+07</td>\n",
       "      <td>8000000.0</td>\n",
       "      <td>2012.0</td>\n",
       "      <td>Feb</td>\n",
       "      <td>20.0</td>\n",
       "      <td>88.2</td>\n",
       "      <td>3.282395e+08</td>\n",
       "      <td>14.70</td>\n",
       "      <td>270663028.0</td>\n",
       "      <td>37.090240</td>\n",
       "      <td>-95.712891</td>\n",
       "    </tr>\n",
       "    <tr>\n",
       "      <th>3</th>\n",
       "      <td>4</td>\n",
       "      <td>Cocomelon - Nursery Rhymes</td>\n",
       "      <td>162000000</td>\n",
       "      <td>1.640000e+11</td>\n",
       "      <td>Education</td>\n",
       "      <td>Cocomelon - Nursery Rhymes</td>\n",
       "      <td>966</td>\n",
       "      <td>United States</td>\n",
       "      <td>US</td>\n",
       "      <td>Education</td>\n",
       "      <td>2.0</td>\n",
       "      <td>2.0</td>\n",
       "      <td>1.0</td>\n",
       "      <td>1.975000e+09</td>\n",
       "      <td>493800.0</td>\n",
       "      <td>7900000.00</td>\n",
       "      <td>5900000.00</td>\n",
       "      <td>9.480000e+07</td>\n",
       "      <td>1000000.0</td>\n",
       "      <td>2006.0</td>\n",
       "      <td>Sep</td>\n",
       "      <td>1.0</td>\n",
       "      <td>88.2</td>\n",
       "      <td>3.282395e+08</td>\n",
       "      <td>14.70</td>\n",
       "      <td>270663028.0</td>\n",
       "      <td>37.090240</td>\n",
       "      <td>-95.712891</td>\n",
       "    </tr>\n",
       "    <tr>\n",
       "      <th>4</th>\n",
       "      <td>5</td>\n",
       "      <td>SET India</td>\n",
       "      <td>159000000</td>\n",
       "      <td>1.480000e+11</td>\n",
       "      <td>Shows</td>\n",
       "      <td>SET India</td>\n",
       "      <td>116536</td>\n",
       "      <td>India</td>\n",
       "      <td>IN</td>\n",
       "      <td>Entertainment</td>\n",
       "      <td>3.0</td>\n",
       "      <td>2.0</td>\n",
       "      <td>2.0</td>\n",
       "      <td>1.824000e+09</td>\n",
       "      <td>455900.0</td>\n",
       "      <td>7300000.00</td>\n",
       "      <td>5500000.00</td>\n",
       "      <td>8.750000e+07</td>\n",
       "      <td>1000000.0</td>\n",
       "      <td>2006.0</td>\n",
       "      <td>Sep</td>\n",
       "      <td>20.0</td>\n",
       "      <td>28.1</td>\n",
       "      <td>1.366418e+09</td>\n",
       "      <td>5.36</td>\n",
       "      <td>471031528.0</td>\n",
       "      <td>20.593684</td>\n",
       "      <td>78.962880</td>\n",
       "    </tr>\n",
       "    <tr>\n",
       "      <th>5</th>\n",
       "      <td>6</td>\n",
       "      <td>Music</td>\n",
       "      <td>119000000</td>\n",
       "      <td>0.000000e+00</td>\n",
       "      <td>NaN</td>\n",
       "      <td>Music</td>\n",
       "      <td>0</td>\n",
       "      <td>NaN</td>\n",
       "      <td>NaN</td>\n",
       "      <td>Music</td>\n",
       "      <td>4057944.0</td>\n",
       "      <td>NaN</td>\n",
       "      <td>NaN</td>\n",
       "      <td>NaN</td>\n",
       "      <td>0.0</td>\n",
       "      <td>0.00</td>\n",
       "      <td>0.00</td>\n",
       "      <td>0.000000e+00</td>\n",
       "      <td>NaN</td>\n",
       "      <td>2013.0</td>\n",
       "      <td>Sep</td>\n",
       "      <td>24.0</td>\n",
       "      <td>NaN</td>\n",
       "      <td>NaN</td>\n",
       "      <td>NaN</td>\n",
       "      <td>NaN</td>\n",
       "      <td>NaN</td>\n",
       "      <td>NaN</td>\n",
       "    </tr>\n",
       "  </tbody>\n",
       "</table>\n",
       "</div>"
      ],
      "text/plain": [
       "   rank                    Youtuber  subscribers   video views  \\\n",
       "0     1                    T-Series    245000000  2.280000e+11   \n",
       "1     2              YouTube Movies    170000000  0.000000e+00   \n",
       "2     3                     MrBeast    166000000  2.836884e+10   \n",
       "3     4  Cocomelon - Nursery Rhymes    162000000  1.640000e+11   \n",
       "4     5                   SET India    159000000  1.480000e+11   \n",
       "5     6                       Music    119000000  0.000000e+00   \n",
       "\n",
       "           category                       Title  uploads        Country  \\\n",
       "0             Music                    T-Series    20082          India   \n",
       "1  Film & Animation               youtubemovies        1  United States   \n",
       "2     Entertainment                     MrBeast      741  United States   \n",
       "3         Education  Cocomelon - Nursery Rhymes      966  United States   \n",
       "4             Shows                   SET India   116536          India   \n",
       "5               NaN                       Music        0            NaN   \n",
       "\n",
       "  Abbreviation   channel_type  video_views_rank  country_rank  \\\n",
       "0           IN          Music               1.0           1.0   \n",
       "1           US          Games         4055159.0        7670.0   \n",
       "2           US  Entertainment              48.0           1.0   \n",
       "3           US      Education               2.0           2.0   \n",
       "4           IN  Entertainment               3.0           2.0   \n",
       "5          NaN          Music         4057944.0           NaN   \n",
       "\n",
       "   channel_type_rank  video_views_for_the_last_30_days  \\\n",
       "0                1.0                      2.258000e+09   \n",
       "1             7423.0                      1.200000e+01   \n",
       "2                1.0                      1.348000e+09   \n",
       "3                1.0                      1.975000e+09   \n",
       "4                2.0                      1.824000e+09   \n",
       "5                NaN                               NaN   \n",
       "\n",
       "   lowest_monthly_earnings  highest_monthly_earnings  lowest_yearly_earnings  \\\n",
       "0                 564600.0                9000000.00              6800000.00   \n",
       "1                      0.0                      0.05                    0.04   \n",
       "2                 337000.0                5400000.00              4000000.00   \n",
       "3                 493800.0                7900000.00              5900000.00   \n",
       "4                 455900.0                7300000.00              5500000.00   \n",
       "5                      0.0                      0.00                    0.00   \n",
       "\n",
       "   highest_yearly_earnings  subscribers_for_last_30_days  created_year  \\\n",
       "0             1.084000e+08                     2000000.0        2006.0   \n",
       "1             5.800000e-01                           NaN        2006.0   \n",
       "2             6.470000e+07                     8000000.0        2012.0   \n",
       "3             9.480000e+07                     1000000.0        2006.0   \n",
       "4             8.750000e+07                     1000000.0        2006.0   \n",
       "5             0.000000e+00                           NaN        2013.0   \n",
       "\n",
       "  created_month  created_date  Gross tertiary education enrollment (%)  \\\n",
       "0           Mar          13.0                                     28.1   \n",
       "1           Mar           5.0                                     88.2   \n",
       "2           Feb          20.0                                     88.2   \n",
       "3           Sep           1.0                                     88.2   \n",
       "4           Sep          20.0                                     28.1   \n",
       "5           Sep          24.0                                      NaN   \n",
       "\n",
       "     Population  Unemployment rate  Urban_population   Latitude  Longitude  \n",
       "0  1.366418e+09               5.36       471031528.0  20.593684  78.962880  \n",
       "1  3.282395e+08              14.70       270663028.0  37.090240 -95.712891  \n",
       "2  3.282395e+08              14.70       270663028.0  37.090240 -95.712891  \n",
       "3  3.282395e+08              14.70       270663028.0  37.090240 -95.712891  \n",
       "4  1.366418e+09               5.36       471031528.0  20.593684  78.962880  \n",
       "5           NaN                NaN               NaN        NaN        NaN  "
      ]
     },
     "execution_count": 45,
     "metadata": {},
     "output_type": "execute_result"
    }
   ],
   "source": [
    "rawdf.head(6)"
   ]
  },
  {
   "cell_type": "markdown",
   "id": "7aa1d262-d57f-4110-868f-8a7cd721686a",
   "metadata": {
    "tags": []
   },
   "source": [
    "From playing around in the dataset, I saw that there were certain Youtuber's that were errors, you can see here as 'Music' at rank 6 is not a Youtuber, but possibly just a bug in reading a category of music."
   ]
  },
  {
   "cell_type": "markdown",
   "id": "91223091-3844-4767-b150-f9f32c2ff21d",
   "metadata": {},
   "source": [
    "To single these out, I searched for video views less than 1, and it is pretty clear that these are errors since they have large amounts of subscribers with no earnings estimates or video views, with many NaN values"
   ]
  },
  {
   "cell_type": "code",
   "execution_count": 16,
   "id": "086ad025-d420-4dc9-980d-0caa675b3f0d",
   "metadata": {
    "tags": []
   },
   "outputs": [],
   "source": [
    "df = rawdf.drop(rawdf[rawdf['video views'] < 1].index)"
   ]
  },
  {
   "cell_type": "code",
   "execution_count": 21,
   "id": "b5c9f326-7b67-4753-a856-9fbdecc23019",
   "metadata": {
    "tags": []
   },
   "outputs": [
    {
     "data": {
      "text/html": [
       "<div>\n",
       "<style scoped>\n",
       "    .dataframe tbody tr th:only-of-type {\n",
       "        vertical-align: middle;\n",
       "    }\n",
       "\n",
       "    .dataframe tbody tr th {\n",
       "        vertical-align: top;\n",
       "    }\n",
       "\n",
       "    .dataframe thead th {\n",
       "        text-align: right;\n",
       "    }\n",
       "</style>\n",
       "<table border=\"1\" class=\"dataframe\">\n",
       "  <thead>\n",
       "    <tr style=\"text-align: right;\">\n",
       "      <th></th>\n",
       "      <th>rank</th>\n",
       "      <th>Youtuber</th>\n",
       "      <th>subscribers</th>\n",
       "      <th>video views</th>\n",
       "      <th>category</th>\n",
       "      <th>Title</th>\n",
       "      <th>uploads</th>\n",
       "      <th>Country</th>\n",
       "      <th>Abbreviation</th>\n",
       "      <th>channel_type</th>\n",
       "      <th>video_views_rank</th>\n",
       "      <th>country_rank</th>\n",
       "      <th>channel_type_rank</th>\n",
       "      <th>video_views_for_the_last_30_days</th>\n",
       "      <th>lowest_monthly_earnings</th>\n",
       "      <th>highest_monthly_earnings</th>\n",
       "      <th>lowest_yearly_earnings</th>\n",
       "      <th>highest_yearly_earnings</th>\n",
       "      <th>subscribers_for_last_30_days</th>\n",
       "      <th>created_year</th>\n",
       "      <th>created_month</th>\n",
       "      <th>created_date</th>\n",
       "      <th>Gross tertiary education enrollment (%)</th>\n",
       "      <th>Population</th>\n",
       "      <th>Unemployment rate</th>\n",
       "      <th>Urban_population</th>\n",
       "      <th>Latitude</th>\n",
       "      <th>Longitude</th>\n",
       "    </tr>\n",
       "  </thead>\n",
       "  <tbody>\n",
       "    <tr>\n",
       "      <th>0</th>\n",
       "      <td>1</td>\n",
       "      <td>T-Series</td>\n",
       "      <td>245000000</td>\n",
       "      <td>2.280000e+11</td>\n",
       "      <td>Music</td>\n",
       "      <td>T-Series</td>\n",
       "      <td>20082</td>\n",
       "      <td>India</td>\n",
       "      <td>IN</td>\n",
       "      <td>Music</td>\n",
       "      <td>1.0</td>\n",
       "      <td>1.0</td>\n",
       "      <td>1.0</td>\n",
       "      <td>2.258000e+09</td>\n",
       "      <td>564600.0</td>\n",
       "      <td>9000000.0</td>\n",
       "      <td>6800000.0</td>\n",
       "      <td>108400000.0</td>\n",
       "      <td>2000000.0</td>\n",
       "      <td>2006.0</td>\n",
       "      <td>Mar</td>\n",
       "      <td>13.0</td>\n",
       "      <td>28.1</td>\n",
       "      <td>1.366418e+09</td>\n",
       "      <td>5.36</td>\n",
       "      <td>471031528.0</td>\n",
       "      <td>20.593684</td>\n",
       "      <td>78.962880</td>\n",
       "    </tr>\n",
       "    <tr>\n",
       "      <th>2</th>\n",
       "      <td>3</td>\n",
       "      <td>MrBeast</td>\n",
       "      <td>166000000</td>\n",
       "      <td>2.836884e+10</td>\n",
       "      <td>Entertainment</td>\n",
       "      <td>MrBeast</td>\n",
       "      <td>741</td>\n",
       "      <td>United States</td>\n",
       "      <td>US</td>\n",
       "      <td>Entertainment</td>\n",
       "      <td>48.0</td>\n",
       "      <td>1.0</td>\n",
       "      <td>1.0</td>\n",
       "      <td>1.348000e+09</td>\n",
       "      <td>337000.0</td>\n",
       "      <td>5400000.0</td>\n",
       "      <td>4000000.0</td>\n",
       "      <td>64700000.0</td>\n",
       "      <td>8000000.0</td>\n",
       "      <td>2012.0</td>\n",
       "      <td>Feb</td>\n",
       "      <td>20.0</td>\n",
       "      <td>88.2</td>\n",
       "      <td>3.282395e+08</td>\n",
       "      <td>14.70</td>\n",
       "      <td>270663028.0</td>\n",
       "      <td>37.090240</td>\n",
       "      <td>-95.712891</td>\n",
       "    </tr>\n",
       "    <tr>\n",
       "      <th>3</th>\n",
       "      <td>4</td>\n",
       "      <td>Cocomelon - Nursery Rhymes</td>\n",
       "      <td>162000000</td>\n",
       "      <td>1.640000e+11</td>\n",
       "      <td>Education</td>\n",
       "      <td>Cocomelon - Nursery Rhymes</td>\n",
       "      <td>966</td>\n",
       "      <td>United States</td>\n",
       "      <td>US</td>\n",
       "      <td>Education</td>\n",
       "      <td>2.0</td>\n",
       "      <td>2.0</td>\n",
       "      <td>1.0</td>\n",
       "      <td>1.975000e+09</td>\n",
       "      <td>493800.0</td>\n",
       "      <td>7900000.0</td>\n",
       "      <td>5900000.0</td>\n",
       "      <td>94800000.0</td>\n",
       "      <td>1000000.0</td>\n",
       "      <td>2006.0</td>\n",
       "      <td>Sep</td>\n",
       "      <td>1.0</td>\n",
       "      <td>88.2</td>\n",
       "      <td>3.282395e+08</td>\n",
       "      <td>14.70</td>\n",
       "      <td>270663028.0</td>\n",
       "      <td>37.090240</td>\n",
       "      <td>-95.712891</td>\n",
       "    </tr>\n",
       "    <tr>\n",
       "      <th>4</th>\n",
       "      <td>5</td>\n",
       "      <td>SET India</td>\n",
       "      <td>159000000</td>\n",
       "      <td>1.480000e+11</td>\n",
       "      <td>Shows</td>\n",
       "      <td>SET India</td>\n",
       "      <td>116536</td>\n",
       "      <td>India</td>\n",
       "      <td>IN</td>\n",
       "      <td>Entertainment</td>\n",
       "      <td>3.0</td>\n",
       "      <td>2.0</td>\n",
       "      <td>2.0</td>\n",
       "      <td>1.824000e+09</td>\n",
       "      <td>455900.0</td>\n",
       "      <td>7300000.0</td>\n",
       "      <td>5500000.0</td>\n",
       "      <td>87500000.0</td>\n",
       "      <td>1000000.0</td>\n",
       "      <td>2006.0</td>\n",
       "      <td>Sep</td>\n",
       "      <td>20.0</td>\n",
       "      <td>28.1</td>\n",
       "      <td>1.366418e+09</td>\n",
       "      <td>5.36</td>\n",
       "      <td>471031528.0</td>\n",
       "      <td>20.593684</td>\n",
       "      <td>78.962880</td>\n",
       "    </tr>\n",
       "    <tr>\n",
       "      <th>6</th>\n",
       "      <td>7</td>\n",
       "      <td>ýýý Kids Diana Show</td>\n",
       "      <td>112000000</td>\n",
       "      <td>9.324704e+10</td>\n",
       "      <td>People &amp; Blogs</td>\n",
       "      <td>ýýý Kids Diana Show</td>\n",
       "      <td>1111</td>\n",
       "      <td>United States</td>\n",
       "      <td>US</td>\n",
       "      <td>Entertainment</td>\n",
       "      <td>5.0</td>\n",
       "      <td>3.0</td>\n",
       "      <td>3.0</td>\n",
       "      <td>7.316740e+08</td>\n",
       "      <td>182900.0</td>\n",
       "      <td>2900000.0</td>\n",
       "      <td>2200000.0</td>\n",
       "      <td>35100000.0</td>\n",
       "      <td>NaN</td>\n",
       "      <td>2015.0</td>\n",
       "      <td>May</td>\n",
       "      <td>12.0</td>\n",
       "      <td>88.2</td>\n",
       "      <td>3.282395e+08</td>\n",
       "      <td>14.70</td>\n",
       "      <td>270663028.0</td>\n",
       "      <td>37.090240</td>\n",
       "      <td>-95.712891</td>\n",
       "    </tr>\n",
       "  </tbody>\n",
       "</table>\n",
       "</div>"
      ],
      "text/plain": [
       "   rank                    Youtuber  subscribers   video views  \\\n",
       "0     1                    T-Series    245000000  2.280000e+11   \n",
       "2     3                     MrBeast    166000000  2.836884e+10   \n",
       "3     4  Cocomelon - Nursery Rhymes    162000000  1.640000e+11   \n",
       "4     5                   SET India    159000000  1.480000e+11   \n",
       "6     7         ýýý Kids Diana Show    112000000  9.324704e+10   \n",
       "\n",
       "         category                       Title  uploads        Country  \\\n",
       "0           Music                    T-Series    20082          India   \n",
       "2   Entertainment                     MrBeast      741  United States   \n",
       "3       Education  Cocomelon - Nursery Rhymes      966  United States   \n",
       "4           Shows                   SET India   116536          India   \n",
       "6  People & Blogs         ýýý Kids Diana Show     1111  United States   \n",
       "\n",
       "  Abbreviation   channel_type  video_views_rank  country_rank  \\\n",
       "0           IN          Music               1.0           1.0   \n",
       "2           US  Entertainment              48.0           1.0   \n",
       "3           US      Education               2.0           2.0   \n",
       "4           IN  Entertainment               3.0           2.0   \n",
       "6           US  Entertainment               5.0           3.0   \n",
       "\n",
       "   channel_type_rank  video_views_for_the_last_30_days  \\\n",
       "0                1.0                      2.258000e+09   \n",
       "2                1.0                      1.348000e+09   \n",
       "3                1.0                      1.975000e+09   \n",
       "4                2.0                      1.824000e+09   \n",
       "6                3.0                      7.316740e+08   \n",
       "\n",
       "   lowest_monthly_earnings  highest_monthly_earnings  lowest_yearly_earnings  \\\n",
       "0                 564600.0                 9000000.0               6800000.0   \n",
       "2                 337000.0                 5400000.0               4000000.0   \n",
       "3                 493800.0                 7900000.0               5900000.0   \n",
       "4                 455900.0                 7300000.0               5500000.0   \n",
       "6                 182900.0                 2900000.0               2200000.0   \n",
       "\n",
       "   highest_yearly_earnings  subscribers_for_last_30_days  created_year  \\\n",
       "0              108400000.0                     2000000.0        2006.0   \n",
       "2               64700000.0                     8000000.0        2012.0   \n",
       "3               94800000.0                     1000000.0        2006.0   \n",
       "4               87500000.0                     1000000.0        2006.0   \n",
       "6               35100000.0                           NaN        2015.0   \n",
       "\n",
       "  created_month  created_date  Gross tertiary education enrollment (%)  \\\n",
       "0           Mar          13.0                                     28.1   \n",
       "2           Feb          20.0                                     88.2   \n",
       "3           Sep           1.0                                     88.2   \n",
       "4           Sep          20.0                                     28.1   \n",
       "6           May          12.0                                     88.2   \n",
       "\n",
       "     Population  Unemployment rate  Urban_population   Latitude  Longitude  \n",
       "0  1.366418e+09               5.36       471031528.0  20.593684  78.962880  \n",
       "2  3.282395e+08              14.70       270663028.0  37.090240 -95.712891  \n",
       "3  3.282395e+08              14.70       270663028.0  37.090240 -95.712891  \n",
       "4  1.366418e+09               5.36       471031528.0  20.593684  78.962880  \n",
       "6  3.282395e+08              14.70       270663028.0  37.090240 -95.712891  "
      ]
     },
     "execution_count": 21,
     "metadata": {},
     "output_type": "execute_result"
    }
   ],
   "source": [
    "df.head(5)"
   ]
  },
  {
   "cell_type": "markdown",
   "id": "7c96727c-1485-48e3-8587-cab75179fc53",
   "metadata": {},
   "source": [
    "After further exploration, we can see that channel_type and category are different."
   ]
  },
  {
   "cell_type": "code",
   "execution_count": 22,
   "id": "223b8031-22db-41ee-acfa-3d5b0632cb90",
   "metadata": {
    "tags": []
   },
   "outputs": [
    {
     "data": {
      "text/plain": [
       "array(['Music', 'Entertainment', 'Education', 'Shows', 'People & Blogs',\n",
       "       'Gaming', 'Sports', 'Film & Animation', 'Howto & Style',\n",
       "       'News & Politics', 'Comedy', 'Trailers', 'Nonprofits & Activism',\n",
       "       nan, 'Science & Technology', 'Movies', 'Pets & Animals',\n",
       "       'Autos & Vehicles', 'Travel & Events'], dtype=object)"
      ]
     },
     "execution_count": 22,
     "metadata": {},
     "output_type": "execute_result"
    }
   ],
   "source": [
    "df.category.unique()"
   ]
  },
  {
   "cell_type": "code",
   "execution_count": 23,
   "id": "13fb7c2b-4655-4c8d-8c72-4e19a24de8c4",
   "metadata": {
    "tags": []
   },
   "outputs": [
    {
     "data": {
      "text/plain": [
       "array(['Music', 'Entertainment', 'Education', 'People', 'Sports', 'Film',\n",
       "       'News', nan, 'Games', 'Comedy', 'Howto', 'Nonprofit', 'Autos',\n",
       "       'Tech', 'Animals'], dtype=object)"
      ]
     },
     "execution_count": 23,
     "metadata": {},
     "output_type": "execute_result"
    }
   ],
   "source": [
    "df.channel_type.unique()"
   ]
  },
  {
   "cell_type": "markdown",
   "id": "fa7d8a6c-9339-47ed-b4b7-7ee73bb663e5",
   "metadata": {},
   "source": [
    "From a bit of research, I found that the category selection seemed to be more in-line with the native YouTube categories. I will clean the category section since there was also some NaNs or incomplete values. For any NaNs on the category part I will input the corresponding channel_type if needed."
   ]
  },
  {
   "cell_type": "code",
   "execution_count": 25,
   "id": "b411139e-d89a-4716-b562-c63458f12995",
   "metadata": {
    "jupyter": {
     "source_hidden": true
    },
    "tags": []
   },
   "outputs": [],
   "source": [
    "def cat_cleaner(string):\n",
    "    if string == 'Animals': \n",
    "        return 'Pets & Animals'\n",
    "    elif string == 'Autos': \n",
    "        return 'Autos & Vehicles'\n",
    "    elif string == 'Film': \n",
    "        return 'Film & Animation'\n",
    "    elif string == 'Games': \n",
    "        return 'Gaming'\n",
    "    elif string == 'Howto': \n",
    "        return 'Howto & Style'\n",
    "    elif string == 'News': \n",
    "        return 'News & Politics'\n",
    "    elif string == 'Nonprofit': \n",
    "        return 'Nonprofits & Activism'\n",
    "    elif string == 'People': \n",
    "        return 'People & Blogs'\n",
    "    elif string == 'Tech': \n",
    "        return 'Science & Technology'\n",
    "    else:\n",
    "        return string "
   ]
  },
  {
   "cell_type": "code",
   "execution_count": 26,
   "id": "29cdeb9c-9398-4e51-8bf1-0b22c29fff4b",
   "metadata": {
    "tags": []
   },
   "outputs": [],
   "source": [
    "for index, row in df.iterrows():\n",
    "    if df.category.isnull()[index]:\n",
    "        df.category[index] = cat_cleaner(df.channel_type[index])"
   ]
  },
  {
   "cell_type": "code",
   "execution_count": 81,
   "id": "0fad1ac0-836c-4979-977e-33d7b64ba511",
   "metadata": {
    "jupyter": {
     "source_hidden": true
    },
    "tags": []
   },
   "outputs": [],
   "source": [
    "#adjusting a few specific cases I saw in the top few records\n",
    "df[df.Youtuber == 'Busy Fun Ltd']['category'].index\n",
    "df.at[445, 'category'] = 'Comedy'\n",
    "df[df.Youtuber == 'KL BRO Biju Rithvik'].Country.index\n",
    "df.at[302, 'Country'] = 'India'"
   ]
  },
  {
   "cell_type": "markdown",
   "id": "01278046-5bfd-4b0d-99bd-d62f7171c398",
   "metadata": {
    "tags": []
   },
   "source": [
    "Now that we've cleaned a bit of the data, it would be interesting to see if the top 10 in subscribers are the same or very similiar to the top 10 in highest_yearly_earnings. Or if there seems to be other variables that play a larger part."
   ]
  },
  {
   "cell_type": "code",
   "execution_count": 106,
   "id": "7067f38d-ff83-49f8-b538-6fb89bd819fb",
   "metadata": {
    "tags": []
   },
   "outputs": [
    {
     "data": {
      "text/html": [
       "<div>\n",
       "<style scoped>\n",
       "    .dataframe tbody tr th:only-of-type {\n",
       "        vertical-align: middle;\n",
       "    }\n",
       "\n",
       "    .dataframe tbody tr th {\n",
       "        vertical-align: top;\n",
       "    }\n",
       "\n",
       "    .dataframe thead th {\n",
       "        text-align: right;\n",
       "    }\n",
       "</style>\n",
       "<table border=\"1\" class=\"dataframe\">\n",
       "  <thead>\n",
       "    <tr style=\"text-align: right;\">\n",
       "      <th></th>\n",
       "      <th>Youtuber</th>\n",
       "      <th>subscribers</th>\n",
       "      <th>Country</th>\n",
       "    </tr>\n",
       "  </thead>\n",
       "  <tbody>\n",
       "    <tr>\n",
       "      <th>0</th>\n",
       "      <td>T-Series</td>\n",
       "      <td>245000000.0</td>\n",
       "      <td>India</td>\n",
       "    </tr>\n",
       "    <tr>\n",
       "      <th>2</th>\n",
       "      <td>MrBeast</td>\n",
       "      <td>166000000.0</td>\n",
       "      <td>United States</td>\n",
       "    </tr>\n",
       "    <tr>\n",
       "      <th>3</th>\n",
       "      <td>Cocomelon - Nursery Rhymes</td>\n",
       "      <td>162000000.0</td>\n",
       "      <td>United States</td>\n",
       "    </tr>\n",
       "    <tr>\n",
       "      <th>4</th>\n",
       "      <td>SET India</td>\n",
       "      <td>159000000.0</td>\n",
       "      <td>India</td>\n",
       "    </tr>\n",
       "    <tr>\n",
       "      <th>6</th>\n",
       "      <td>ýýý Kids Diana Show</td>\n",
       "      <td>112000000.0</td>\n",
       "      <td>United States</td>\n",
       "    </tr>\n",
       "    <tr>\n",
       "      <th>7</th>\n",
       "      <td>PewDiePie</td>\n",
       "      <td>111000000.0</td>\n",
       "      <td>Japan</td>\n",
       "    </tr>\n",
       "    <tr>\n",
       "      <th>8</th>\n",
       "      <td>Like Nastya</td>\n",
       "      <td>106000000.0</td>\n",
       "      <td>Russia</td>\n",
       "    </tr>\n",
       "    <tr>\n",
       "      <th>9</th>\n",
       "      <td>Vlad and Niki</td>\n",
       "      <td>98900000.0</td>\n",
       "      <td>United States</td>\n",
       "    </tr>\n",
       "    <tr>\n",
       "      <th>10</th>\n",
       "      <td>Zee Music Company</td>\n",
       "      <td>96700000.0</td>\n",
       "      <td>India</td>\n",
       "    </tr>\n",
       "    <tr>\n",
       "      <th>11</th>\n",
       "      <td>WWE</td>\n",
       "      <td>96000000.0</td>\n",
       "      <td>United States</td>\n",
       "    </tr>\n",
       "  </tbody>\n",
       "</table>\n",
       "</div>"
      ],
      "text/plain": [
       "                      Youtuber  subscribers        Country\n",
       "0                     T-Series  245000000.0          India\n",
       "2                      MrBeast  166000000.0  United States\n",
       "3   Cocomelon - Nursery Rhymes  162000000.0  United States\n",
       "4                    SET India  159000000.0          India\n",
       "6          ýýý Kids Diana Show  112000000.0  United States\n",
       "7                    PewDiePie  111000000.0          Japan\n",
       "8                  Like Nastya  106000000.0         Russia\n",
       "9                Vlad and Niki   98900000.0  United States\n",
       "10           Zee Music Company   96700000.0          India\n",
       "11                         WWE   96000000.0  United States"
      ]
     },
     "execution_count": 106,
     "metadata": {},
     "output_type": "execute_result"
    }
   ],
   "source": [
    "top10_subscribership = df[['Youtuber','subscribers','Country']].sort_values(by=['subscribers'],ascending=False).head(10)\n",
    "top10_subscribership"
   ]
  },
  {
   "cell_type": "code",
   "execution_count": 83,
   "id": "289d092e-7f87-4f98-a226-bfabab39c775",
   "metadata": {
    "tags": []
   },
   "outputs": [
    {
     "data": {
      "text/html": [
       "<div>\n",
       "<style scoped>\n",
       "    .dataframe tbody tr th:only-of-type {\n",
       "        vertical-align: middle;\n",
       "    }\n",
       "\n",
       "    .dataframe tbody tr th {\n",
       "        vertical-align: top;\n",
       "    }\n",
       "\n",
       "    .dataframe thead th {\n",
       "        text-align: right;\n",
       "    }\n",
       "</style>\n",
       "<table border=\"1\" class=\"dataframe\">\n",
       "  <thead>\n",
       "    <tr style=\"text-align: right;\">\n",
       "      <th></th>\n",
       "      <th>Youtuber</th>\n",
       "      <th>highest_yearly_earnings</th>\n",
       "      <th>Country</th>\n",
       "    </tr>\n",
       "  </thead>\n",
       "  <tbody>\n",
       "    <tr>\n",
       "      <th>495</th>\n",
       "      <td>ýýýýýýýýý KIMPRO</td>\n",
       "      <td>163400000.0</td>\n",
       "      <td>South Korea</td>\n",
       "    </tr>\n",
       "    <tr>\n",
       "      <th>417</th>\n",
       "      <td>DaFuq!?Boom!</td>\n",
       "      <td>110600000.0</td>\n",
       "      <td>United States</td>\n",
       "    </tr>\n",
       "    <tr>\n",
       "      <th>0</th>\n",
       "      <td>T-Series</td>\n",
       "      <td>108400000.0</td>\n",
       "      <td>India</td>\n",
       "    </tr>\n",
       "    <tr>\n",
       "      <th>302</th>\n",
       "      <td>KL BRO Biju Rithvik</td>\n",
       "      <td>97600000.0</td>\n",
       "      <td>India</td>\n",
       "    </tr>\n",
       "    <tr>\n",
       "      <th>3</th>\n",
       "      <td>Cocomelon - Nursery Rhymes</td>\n",
       "      <td>94800000.0</td>\n",
       "      <td>United States</td>\n",
       "    </tr>\n",
       "    <tr>\n",
       "      <th>4</th>\n",
       "      <td>SET India</td>\n",
       "      <td>87500000.0</td>\n",
       "      <td>India</td>\n",
       "    </tr>\n",
       "    <tr>\n",
       "      <th>21</th>\n",
       "      <td>Zee TV</td>\n",
       "      <td>81900000.0</td>\n",
       "      <td>India</td>\n",
       "    </tr>\n",
       "    <tr>\n",
       "      <th>139</th>\n",
       "      <td>StarPlus</td>\n",
       "      <td>80000000.0</td>\n",
       "      <td>India</td>\n",
       "    </tr>\n",
       "    <tr>\n",
       "      <th>15</th>\n",
       "      <td>Sony SAB</td>\n",
       "      <td>79600000.0</td>\n",
       "      <td>India</td>\n",
       "    </tr>\n",
       "    <tr>\n",
       "      <th>83</th>\n",
       "      <td>GR6 EXPLODE</td>\n",
       "      <td>78500000.0</td>\n",
       "      <td>Brazil</td>\n",
       "    </tr>\n",
       "  </tbody>\n",
       "</table>\n",
       "</div>"
      ],
      "text/plain": [
       "                       Youtuber  highest_yearly_earnings        Country\n",
       "495            ýýýýýýýýý KIMPRO              163400000.0    South Korea\n",
       "417                DaFuq!?Boom!              110600000.0  United States\n",
       "0                      T-Series              108400000.0          India\n",
       "302         KL BRO Biju Rithvik               97600000.0          India\n",
       "3    Cocomelon - Nursery Rhymes               94800000.0  United States\n",
       "4                     SET India               87500000.0          India\n",
       "21                       Zee TV               81900000.0          India\n",
       "139                    StarPlus               80000000.0          India\n",
       "15                     Sony SAB               79600000.0          India\n",
       "83                  GR6 EXPLODE               78500000.0         Brazil"
      ]
     },
     "execution_count": 83,
     "metadata": {},
     "output_type": "execute_result"
    }
   ],
   "source": [
    "top10_earnings = df[['Youtuber','highest_yearly_earnings','Country']].sort_values(by=['highest_yearly_earnings'],ascending=False).head(10)\n",
    "top10_earnings"
   ]
  },
  {
   "cell_type": "markdown",
   "id": "922c1314-0bc5-4f65-a78a-fbdf69b3dacc",
   "metadata": {},
   "source": [
    "Just being from the US, I expected MrBeast to be in the top expected earners, however from this data that shows to not be true. Perhaps there is more money to be made in other countries?\n",
    "\n",
    "It looks like US dominates the subscribers top 10, however India dominates the exp earnings top 10"
   ]
  },
  {
   "cell_type": "code",
   "execution_count": 158,
   "id": "116a3b65-c5d1-45c9-be35-e1fc8184d758",
   "metadata": {
    "tags": []
   },
   "outputs": [
    {
     "data": {
      "application/vnd.plotly.v1+json": {
       "config": {
        "plotlyServerURL": "https://plot.ly"
       },
       "data": [
        {
         "alignmentgroup": "True",
         "hovertemplate": "Country=India<br>Youtuber=%{x}<br>subscribers=%{y}<extra></extra>",
         "legendgroup": "India",
         "marker": {
          "color": "#DC3912",
          "pattern": {
           "shape": ""
          }
         },
         "name": "India",
         "offsetgroup": "India",
         "orientation": "v",
         "showlegend": true,
         "textposition": "auto",
         "type": "bar",
         "x": [
          "T-Series",
          "SET India",
          "Zee Music Company"
         ],
         "xaxis": "x",
         "y": [
          245000000,
          159000000,
          96700000
         ],
         "yaxis": "y"
        },
        {
         "alignmentgroup": "True",
         "hovertemplate": "Country=United States<br>Youtuber=%{x}<br>subscribers=%{y}<extra></extra>",
         "legendgroup": "United States",
         "marker": {
          "color": "#3366CC",
          "pattern": {
           "shape": ""
          }
         },
         "name": "United States",
         "offsetgroup": "United States",
         "orientation": "v",
         "showlegend": true,
         "textposition": "auto",
         "type": "bar",
         "x": [
          "MrBeast",
          "Cocomelon - Nursery Rhymes",
          "ýýý Kids Diana Show",
          "Vlad and Niki",
          "WWE"
         ],
         "xaxis": "x",
         "y": [
          166000000,
          162000000,
          112000000,
          98900000,
          96000000
         ],
         "yaxis": "y"
        },
        {
         "alignmentgroup": "True",
         "hovertemplate": "Country=Japan<br>Youtuber=%{x}<br>subscribers=%{y}<extra></extra>",
         "legendgroup": "Japan",
         "marker": {
          "color": "#FF9900",
          "pattern": {
           "shape": ""
          }
         },
         "name": "Japan",
         "offsetgroup": "Japan",
         "orientation": "v",
         "showlegend": true,
         "textposition": "auto",
         "type": "bar",
         "x": [
          "PewDiePie"
         ],
         "xaxis": "x",
         "y": [
          111000000
         ],
         "yaxis": "y"
        },
        {
         "alignmentgroup": "True",
         "hovertemplate": "Country=Russia<br>Youtuber=%{x}<br>subscribers=%{y}<extra></extra>",
         "legendgroup": "Russia",
         "marker": {
          "color": "#66AA00",
          "pattern": {
           "shape": ""
          }
         },
         "name": "Russia",
         "offsetgroup": "Russia",
         "orientation": "v",
         "showlegend": true,
         "textposition": "auto",
         "type": "bar",
         "x": [
          "Like Nastya"
         ],
         "xaxis": "x",
         "y": [
          106000000
         ],
         "yaxis": "y"
        }
       ],
       "layout": {
        "autosize": true,
        "barmode": "relative",
        "legend": {
         "title": {
          "text": "Country"
         },
         "tracegroupgap": 0
        },
        "margin": {
         "t": 60
        },
        "template": {
         "data": {
          "bar": [
           {
            "error_x": {
             "color": "#2a3f5f"
            },
            "error_y": {
             "color": "#2a3f5f"
            },
            "marker": {
             "line": {
              "color": "#E5ECF6",
              "width": 0.5
             },
             "pattern": {
              "fillmode": "overlay",
              "size": 10,
              "solidity": 0.2
             }
            },
            "type": "bar"
           }
          ],
          "barpolar": [
           {
            "marker": {
             "line": {
              "color": "#E5ECF6",
              "width": 0.5
             },
             "pattern": {
              "fillmode": "overlay",
              "size": 10,
              "solidity": 0.2
             }
            },
            "type": "barpolar"
           }
          ],
          "carpet": [
           {
            "aaxis": {
             "endlinecolor": "#2a3f5f",
             "gridcolor": "white",
             "linecolor": "white",
             "minorgridcolor": "white",
             "startlinecolor": "#2a3f5f"
            },
            "baxis": {
             "endlinecolor": "#2a3f5f",
             "gridcolor": "white",
             "linecolor": "white",
             "minorgridcolor": "white",
             "startlinecolor": "#2a3f5f"
            },
            "type": "carpet"
           }
          ],
          "choropleth": [
           {
            "colorbar": {
             "outlinewidth": 0,
             "ticks": ""
            },
            "type": "choropleth"
           }
          ],
          "contour": [
           {
            "colorbar": {
             "outlinewidth": 0,
             "ticks": ""
            },
            "colorscale": [
             [
              0,
              "#0d0887"
             ],
             [
              0.1111111111111111,
              "#46039f"
             ],
             [
              0.2222222222222222,
              "#7201a8"
             ],
             [
              0.3333333333333333,
              "#9c179e"
             ],
             [
              0.4444444444444444,
              "#bd3786"
             ],
             [
              0.5555555555555556,
              "#d8576b"
             ],
             [
              0.6666666666666666,
              "#ed7953"
             ],
             [
              0.7777777777777778,
              "#fb9f3a"
             ],
             [
              0.8888888888888888,
              "#fdca26"
             ],
             [
              1,
              "#f0f921"
             ]
            ],
            "type": "contour"
           }
          ],
          "contourcarpet": [
           {
            "colorbar": {
             "outlinewidth": 0,
             "ticks": ""
            },
            "type": "contourcarpet"
           }
          ],
          "heatmap": [
           {
            "colorbar": {
             "outlinewidth": 0,
             "ticks": ""
            },
            "colorscale": [
             [
              0,
              "#0d0887"
             ],
             [
              0.1111111111111111,
              "#46039f"
             ],
             [
              0.2222222222222222,
              "#7201a8"
             ],
             [
              0.3333333333333333,
              "#9c179e"
             ],
             [
              0.4444444444444444,
              "#bd3786"
             ],
             [
              0.5555555555555556,
              "#d8576b"
             ],
             [
              0.6666666666666666,
              "#ed7953"
             ],
             [
              0.7777777777777778,
              "#fb9f3a"
             ],
             [
              0.8888888888888888,
              "#fdca26"
             ],
             [
              1,
              "#f0f921"
             ]
            ],
            "type": "heatmap"
           }
          ],
          "heatmapgl": [
           {
            "colorbar": {
             "outlinewidth": 0,
             "ticks": ""
            },
            "colorscale": [
             [
              0,
              "#0d0887"
             ],
             [
              0.1111111111111111,
              "#46039f"
             ],
             [
              0.2222222222222222,
              "#7201a8"
             ],
             [
              0.3333333333333333,
              "#9c179e"
             ],
             [
              0.4444444444444444,
              "#bd3786"
             ],
             [
              0.5555555555555556,
              "#d8576b"
             ],
             [
              0.6666666666666666,
              "#ed7953"
             ],
             [
              0.7777777777777778,
              "#fb9f3a"
             ],
             [
              0.8888888888888888,
              "#fdca26"
             ],
             [
              1,
              "#f0f921"
             ]
            ],
            "type": "heatmapgl"
           }
          ],
          "histogram": [
           {
            "marker": {
             "pattern": {
              "fillmode": "overlay",
              "size": 10,
              "solidity": 0.2
             }
            },
            "type": "histogram"
           }
          ],
          "histogram2d": [
           {
            "colorbar": {
             "outlinewidth": 0,
             "ticks": ""
            },
            "colorscale": [
             [
              0,
              "#0d0887"
             ],
             [
              0.1111111111111111,
              "#46039f"
             ],
             [
              0.2222222222222222,
              "#7201a8"
             ],
             [
              0.3333333333333333,
              "#9c179e"
             ],
             [
              0.4444444444444444,
              "#bd3786"
             ],
             [
              0.5555555555555556,
              "#d8576b"
             ],
             [
              0.6666666666666666,
              "#ed7953"
             ],
             [
              0.7777777777777778,
              "#fb9f3a"
             ],
             [
              0.8888888888888888,
              "#fdca26"
             ],
             [
              1,
              "#f0f921"
             ]
            ],
            "type": "histogram2d"
           }
          ],
          "histogram2dcontour": [
           {
            "colorbar": {
             "outlinewidth": 0,
             "ticks": ""
            },
            "colorscale": [
             [
              0,
              "#0d0887"
             ],
             [
              0.1111111111111111,
              "#46039f"
             ],
             [
              0.2222222222222222,
              "#7201a8"
             ],
             [
              0.3333333333333333,
              "#9c179e"
             ],
             [
              0.4444444444444444,
              "#bd3786"
             ],
             [
              0.5555555555555556,
              "#d8576b"
             ],
             [
              0.6666666666666666,
              "#ed7953"
             ],
             [
              0.7777777777777778,
              "#fb9f3a"
             ],
             [
              0.8888888888888888,
              "#fdca26"
             ],
             [
              1,
              "#f0f921"
             ]
            ],
            "type": "histogram2dcontour"
           }
          ],
          "mesh3d": [
           {
            "colorbar": {
             "outlinewidth": 0,
             "ticks": ""
            },
            "type": "mesh3d"
           }
          ],
          "parcoords": [
           {
            "line": {
             "colorbar": {
              "outlinewidth": 0,
              "ticks": ""
             }
            },
            "type": "parcoords"
           }
          ],
          "pie": [
           {
            "automargin": true,
            "type": "pie"
           }
          ],
          "scatter": [
           {
            "fillpattern": {
             "fillmode": "overlay",
             "size": 10,
             "solidity": 0.2
            },
            "type": "scatter"
           }
          ],
          "scatter3d": [
           {
            "line": {
             "colorbar": {
              "outlinewidth": 0,
              "ticks": ""
             }
            },
            "marker": {
             "colorbar": {
              "outlinewidth": 0,
              "ticks": ""
             }
            },
            "type": "scatter3d"
           }
          ],
          "scattercarpet": [
           {
            "marker": {
             "colorbar": {
              "outlinewidth": 0,
              "ticks": ""
             }
            },
            "type": "scattercarpet"
           }
          ],
          "scattergeo": [
           {
            "marker": {
             "colorbar": {
              "outlinewidth": 0,
              "ticks": ""
             }
            },
            "type": "scattergeo"
           }
          ],
          "scattergl": [
           {
            "marker": {
             "colorbar": {
              "outlinewidth": 0,
              "ticks": ""
             }
            },
            "type": "scattergl"
           }
          ],
          "scattermapbox": [
           {
            "marker": {
             "colorbar": {
              "outlinewidth": 0,
              "ticks": ""
             }
            },
            "type": "scattermapbox"
           }
          ],
          "scatterpolar": [
           {
            "marker": {
             "colorbar": {
              "outlinewidth": 0,
              "ticks": ""
             }
            },
            "type": "scatterpolar"
           }
          ],
          "scatterpolargl": [
           {
            "marker": {
             "colorbar": {
              "outlinewidth": 0,
              "ticks": ""
             }
            },
            "type": "scatterpolargl"
           }
          ],
          "scatterternary": [
           {
            "marker": {
             "colorbar": {
              "outlinewidth": 0,
              "ticks": ""
             }
            },
            "type": "scatterternary"
           }
          ],
          "surface": [
           {
            "colorbar": {
             "outlinewidth": 0,
             "ticks": ""
            },
            "colorscale": [
             [
              0,
              "#0d0887"
             ],
             [
              0.1111111111111111,
              "#46039f"
             ],
             [
              0.2222222222222222,
              "#7201a8"
             ],
             [
              0.3333333333333333,
              "#9c179e"
             ],
             [
              0.4444444444444444,
              "#bd3786"
             ],
             [
              0.5555555555555556,
              "#d8576b"
             ],
             [
              0.6666666666666666,
              "#ed7953"
             ],
             [
              0.7777777777777778,
              "#fb9f3a"
             ],
             [
              0.8888888888888888,
              "#fdca26"
             ],
             [
              1,
              "#f0f921"
             ]
            ],
            "type": "surface"
           }
          ],
          "table": [
           {
            "cells": {
             "fill": {
              "color": "#EBF0F8"
             },
             "line": {
              "color": "white"
             }
            },
            "header": {
             "fill": {
              "color": "#C8D4E3"
             },
             "line": {
              "color": "white"
             }
            },
            "type": "table"
           }
          ]
         },
         "layout": {
          "annotationdefaults": {
           "arrowcolor": "#2a3f5f",
           "arrowhead": 0,
           "arrowwidth": 1
          },
          "autotypenumbers": "strict",
          "coloraxis": {
           "colorbar": {
            "outlinewidth": 0,
            "ticks": ""
           }
          },
          "colorscale": {
           "diverging": [
            [
             0,
             "#8e0152"
            ],
            [
             0.1,
             "#c51b7d"
            ],
            [
             0.2,
             "#de77ae"
            ],
            [
             0.3,
             "#f1b6da"
            ],
            [
             0.4,
             "#fde0ef"
            ],
            [
             0.5,
             "#f7f7f7"
            ],
            [
             0.6,
             "#e6f5d0"
            ],
            [
             0.7,
             "#b8e186"
            ],
            [
             0.8,
             "#7fbc41"
            ],
            [
             0.9,
             "#4d9221"
            ],
            [
             1,
             "#276419"
            ]
           ],
           "sequential": [
            [
             0,
             "#0d0887"
            ],
            [
             0.1111111111111111,
             "#46039f"
            ],
            [
             0.2222222222222222,
             "#7201a8"
            ],
            [
             0.3333333333333333,
             "#9c179e"
            ],
            [
             0.4444444444444444,
             "#bd3786"
            ],
            [
             0.5555555555555556,
             "#d8576b"
            ],
            [
             0.6666666666666666,
             "#ed7953"
            ],
            [
             0.7777777777777778,
             "#fb9f3a"
            ],
            [
             0.8888888888888888,
             "#fdca26"
            ],
            [
             1,
             "#f0f921"
            ]
           ],
           "sequentialminus": [
            [
             0,
             "#0d0887"
            ],
            [
             0.1111111111111111,
             "#46039f"
            ],
            [
             0.2222222222222222,
             "#7201a8"
            ],
            [
             0.3333333333333333,
             "#9c179e"
            ],
            [
             0.4444444444444444,
             "#bd3786"
            ],
            [
             0.5555555555555556,
             "#d8576b"
            ],
            [
             0.6666666666666666,
             "#ed7953"
            ],
            [
             0.7777777777777778,
             "#fb9f3a"
            ],
            [
             0.8888888888888888,
             "#fdca26"
            ],
            [
             1,
             "#f0f921"
            ]
           ]
          },
          "colorway": [
           "#636efa",
           "#EF553B",
           "#00cc96",
           "#ab63fa",
           "#FFA15A",
           "#19d3f3",
           "#FF6692",
           "#B6E880",
           "#FF97FF",
           "#FECB52"
          ],
          "font": {
           "color": "#2a3f5f"
          },
          "geo": {
           "bgcolor": "white",
           "lakecolor": "white",
           "landcolor": "#E5ECF6",
           "showlakes": true,
           "showland": true,
           "subunitcolor": "white"
          },
          "hoverlabel": {
           "align": "left"
          },
          "hovermode": "closest",
          "mapbox": {
           "style": "light"
          },
          "paper_bgcolor": "white",
          "plot_bgcolor": "#E5ECF6",
          "polar": {
           "angularaxis": {
            "gridcolor": "white",
            "linecolor": "white",
            "ticks": ""
           },
           "bgcolor": "#E5ECF6",
           "radialaxis": {
            "gridcolor": "white",
            "linecolor": "white",
            "ticks": ""
           }
          },
          "scene": {
           "xaxis": {
            "backgroundcolor": "#E5ECF6",
            "gridcolor": "white",
            "gridwidth": 2,
            "linecolor": "white",
            "showbackground": true,
            "ticks": "",
            "zerolinecolor": "white"
           },
           "yaxis": {
            "backgroundcolor": "#E5ECF6",
            "gridcolor": "white",
            "gridwidth": 2,
            "linecolor": "white",
            "showbackground": true,
            "ticks": "",
            "zerolinecolor": "white"
           },
           "zaxis": {
            "backgroundcolor": "#E5ECF6",
            "gridcolor": "white",
            "gridwidth": 2,
            "linecolor": "white",
            "showbackground": true,
            "ticks": "",
            "zerolinecolor": "white"
           }
          },
          "shapedefaults": {
           "line": {
            "color": "#2a3f5f"
           }
          },
          "ternary": {
           "aaxis": {
            "gridcolor": "white",
            "linecolor": "white",
            "ticks": ""
           },
           "baxis": {
            "gridcolor": "white",
            "linecolor": "white",
            "ticks": ""
           },
           "bgcolor": "#E5ECF6",
           "caxis": {
            "gridcolor": "white",
            "linecolor": "white",
            "ticks": ""
           }
          },
          "title": {
           "x": 0.05
          },
          "xaxis": {
           "automargin": true,
           "gridcolor": "white",
           "linecolor": "white",
           "ticks": "",
           "title": {
            "standoff": 15
           },
           "zerolinecolor": "white",
           "zerolinewidth": 2
          },
          "yaxis": {
           "automargin": true,
           "gridcolor": "white",
           "linecolor": "white",
           "ticks": "",
           "title": {
            "standoff": 15
           },
           "zerolinecolor": "white",
           "zerolinewidth": 2
          }
         }
        },
        "xaxis": {
         "anchor": "y",
         "autorange": true,
         "categoryorder": "total descending",
         "domain": [
          0,
          1
         ],
         "range": [
          -0.5,
          9.5
         ],
         "title": {
          "text": "Youtuber"
         },
         "type": "category"
        },
        "yaxis": {
         "anchor": "x",
         "autorange": true,
         "domain": [
          0,
          1
         ],
         "range": [
          0,
          257894736.84210527
         ],
         "title": {
          "text": "subscribers"
         },
         "type": "linear"
        }
       }
      },
      "image/png": "[encoded data removed]",
      "text/html": [
       "<div>                            <div id=\"ae33e89e-65d4-4648-9746-2103ccc1ccdc\" class=\"plotly-graph-div\" style=\"height:525px; width:100%;\"></div>            <script type=\"text/javascript\">                require([\"plotly\"], function(Plotly) {                    window.PLOTLYENV=window.PLOTLYENV || {};                                    if (document.getElementById(\"ae33e89e-65d4-4648-9746-2103ccc1ccdc\")) {                    Plotly.newPlot(                        \"ae33e89e-65d4-4648-9746-2103ccc1ccdc\",                        [{\"alignmentgroup\":\"True\",\"hovertemplate\":\"Country=India<br>Youtuber=%{x}<br>subscribers=%{y}<extra></extra>\",\"legendgroup\":\"India\",\"marker\":{\"color\":\"#DC3912\",\"pattern\":{\"shape\":\"\"}},\"name\":\"India\",\"offsetgroup\":\"India\",\"orientation\":\"v\",\"showlegend\":true,\"textposition\":\"auto\",\"x\":[\"T-Series\",\"SET India\",\"Zee Music Company\"],\"xaxis\":\"x\",\"y\":[245000000.0,159000000.0,96700000.0],\"yaxis\":\"y\",\"type\":\"bar\"},{\"alignmentgroup\":\"True\",\"hovertemplate\":\"Country=United States<br>Youtuber=%{x}<br>subscribers=%{y}<extra></extra>\",\"legendgroup\":\"United States\",\"marker\":{\"color\":\"#3366CC\",\"pattern\":{\"shape\":\"\"}},\"name\":\"United States\",\"offsetgroup\":\"United States\",\"orientation\":\"v\",\"showlegend\":true,\"textposition\":\"auto\",\"x\":[\"MrBeast\",\"Cocomelon - Nursery Rhymes\",\"\\u00fd\\u00fd\\u00fd Kids Diana Show\",\"Vlad and Niki\",\"WWE\"],\"xaxis\":\"x\",\"y\":[166000000.0,162000000.0,112000000.0,98900000.0,96000000.0],\"yaxis\":\"y\",\"type\":\"bar\"},{\"alignmentgroup\":\"True\",\"hovertemplate\":\"Country=Japan<br>Youtuber=%{x}<br>subscribers=%{y}<extra></extra>\",\"legendgroup\":\"Japan\",\"marker\":{\"color\":\"#FF9900\",\"pattern\":{\"shape\":\"\"}},\"name\":\"Japan\",\"offsetgroup\":\"Japan\",\"orientation\":\"v\",\"showlegend\":true,\"textposition\":\"auto\",\"x\":[\"PewDiePie\"],\"xaxis\":\"x\",\"y\":[111000000.0],\"yaxis\":\"y\",\"type\":\"bar\"},{\"alignmentgroup\":\"True\",\"hovertemplate\":\"Country=Russia<br>Youtuber=%{x}<br>subscribers=%{y}<extra></extra>\",\"legendgroup\":\"Russia\",\"marker\":{\"color\":\"#66AA00\",\"pattern\":{\"shape\":\"\"}},\"name\":\"Russia\",\"offsetgroup\":\"Russia\",\"orientation\":\"v\",\"showlegend\":true,\"textposition\":\"auto\",\"x\":[\"Like Nastya\"],\"xaxis\":\"x\",\"y\":[106000000.0],\"yaxis\":\"y\",\"type\":\"bar\"}],                        {\"template\":{\"data\":{\"histogram2dcontour\":[{\"type\":\"histogram2dcontour\",\"colorbar\":{\"outlinewidth\":0,\"ticks\":\"\"},\"colorscale\":[[0.0,\"#0d0887\"],[0.1111111111111111,\"#46039f\"],[0.2222222222222222,\"#7201a8\"],[0.3333333333333333,\"#9c179e\"],[0.4444444444444444,\"#bd3786\"],[0.5555555555555556,\"#d8576b\"],[0.6666666666666666,\"#ed7953\"],[0.7777777777777778,\"#fb9f3a\"],[0.8888888888888888,\"#fdca26\"],[1.0,\"#f0f921\"]]}],\"choropleth\":[{\"type\":\"choropleth\",\"colorbar\":{\"outlinewidth\":0,\"ticks\":\"\"}}],\"histogram2d\":[{\"type\":\"histogram2d\",\"colorbar\":{\"outlinewidth\":0,\"ticks\":\"\"},\"colorscale\":[[0.0,\"#0d0887\"],[0.1111111111111111,\"#46039f\"],[0.2222222222222222,\"#7201a8\"],[0.3333333333333333,\"#9c179e\"],[0.4444444444444444,\"#bd3786\"],[0.5555555555555556,\"#d8576b\"],[0.6666666666666666,\"#ed7953\"],[0.7777777777777778,\"#fb9f3a\"],[0.8888888888888888,\"#fdca26\"],[1.0,\"#f0f921\"]]}],\"heatmap\":[{\"type\":\"heatmap\",\"colorbar\":{\"outlinewidth\":0,\"ticks\":\"\"},\"colorscale\":[[0.0,\"#0d0887\"],[0.1111111111111111,\"#46039f\"],[0.2222222222222222,\"#7201a8\"],[0.3333333333333333,\"#9c179e\"],[0.4444444444444444,\"#bd3786\"],[0.5555555555555556,\"#d8576b\"],[0.6666666666666666,\"#ed7953\"],[0.7777777777777778,\"#fb9f3a\"],[0.8888888888888888,\"#fdca26\"],[1.0,\"#f0f921\"]]}],\"heatmapgl\":[{\"type\":\"heatmapgl\",\"colorbar\":{\"outlinewidth\":0,\"ticks\":\"\"},\"colorscale\":[[0.0,\"#0d0887\"],[0.1111111111111111,\"#46039f\"],[0.2222222222222222,\"#7201a8\"],[0.3333333333333333,\"#9c179e\"],[0.4444444444444444,\"#bd3786\"],[0.5555555555555556,\"#d8576b\"],[0.6666666666666666,\"#ed7953\"],[0.7777777777777778,\"#fb9f3a\"],[0.8888888888888888,\"#fdca26\"],[1.0,\"#f0f921\"]]}],\"contourcarpet\":[{\"type\":\"contourcarpet\",\"colorbar\":{\"outlinewidth\":0,\"ticks\":\"\"}}],\"contour\":[{\"type\":\"contour\",\"colorbar\":{\"outlinewidth\":0,\"ticks\":\"\"},\"colorscale\":[[0.0,\"#0d0887\"],[0.1111111111111111,\"#46039f\"],[0.2222222222222222,\"#7201a8\"],[0.3333333333333333,\"#9c179e\"],[0.4444444444444444,\"#bd3786\"],[0.5555555555555556,\"#d8576b\"],[0.6666666666666666,\"#ed7953\"],[0.7777777777777778,\"#fb9f3a\"],[0.8888888888888888,\"#fdca26\"],[1.0,\"#f0f921\"]]}],\"surface\":[{\"type\":\"surface\",\"colorbar\":{\"outlinewidth\":0,\"ticks\":\"\"},\"colorscale\":[[0.0,\"#0d0887\"],[0.1111111111111111,\"#46039f\"],[0.2222222222222222,\"#7201a8\"],[0.3333333333333333,\"#9c179e\"],[0.4444444444444444,\"#bd3786\"],[0.5555555555555556,\"#d8576b\"],[0.6666666666666666,\"#ed7953\"],[0.7777777777777778,\"#fb9f3a\"],[0.8888888888888888,\"#fdca26\"],[1.0,\"#f0f921\"]]}],\"mesh3d\":[{\"type\":\"mesh3d\",\"colorbar\":{\"outlinewidth\":0,\"ticks\":\"\"}}],\"scatter\":[{\"fillpattern\":{\"fillmode\":\"overlay\",\"size\":10,\"solidity\":0.2},\"type\":\"scatter\"}],\"parcoords\":[{\"type\":\"parcoords\",\"line\":{\"colorbar\":{\"outlinewidth\":0,\"ticks\":\"\"}}}],\"scatterpolargl\":[{\"type\":\"scatterpolargl\",\"marker\":{\"colorbar\":{\"outlinewidth\":0,\"ticks\":\"\"}}}],\"bar\":[{\"error_x\":{\"color\":\"#2a3f5f\"},\"error_y\":{\"color\":\"#2a3f5f\"},\"marker\":{\"line\":{\"color\":\"#E5ECF6\",\"width\":0.5},\"pattern\":{\"fillmode\":\"overlay\",\"size\":10,\"solidity\":0.2}},\"type\":\"bar\"}],\"scattergeo\":[{\"type\":\"scattergeo\",\"marker\":{\"colorbar\":{\"outlinewidth\":0,\"ticks\":\"\"}}}],\"scatterpolar\":[{\"type\":\"scatterpolar\",\"marker\":{\"colorbar\":{\"outlinewidth\":0,\"ticks\":\"\"}}}],\"histogram\":[{\"marker\":{\"pattern\":{\"fillmode\":\"overlay\",\"size\":10,\"solidity\":0.2}},\"type\":\"histogram\"}],\"scattergl\":[{\"type\":\"scattergl\",\"marker\":{\"colorbar\":{\"outlinewidth\":0,\"ticks\":\"\"}}}],\"scatter3d\":[{\"type\":\"scatter3d\",\"line\":{\"colorbar\":{\"outlinewidth\":0,\"ticks\":\"\"}},\"marker\":{\"colorbar\":{\"outlinewidth\":0,\"ticks\":\"\"}}}],\"scattermapbox\":[{\"type\":\"scattermapbox\",\"marker\":{\"colorbar\":{\"outlinewidth\":0,\"ticks\":\"\"}}}],\"scatterternary\":[{\"type\":\"scatterternary\",\"marker\":{\"colorbar\":{\"outlinewidth\":0,\"ticks\":\"\"}}}],\"scattercarpet\":[{\"type\":\"scattercarpet\",\"marker\":{\"colorbar\":{\"outlinewidth\":0,\"ticks\":\"\"}}}],\"carpet\":[{\"aaxis\":{\"endlinecolor\":\"#2a3f5f\",\"gridcolor\":\"white\",\"linecolor\":\"white\",\"minorgridcolor\":\"white\",\"startlinecolor\":\"#2a3f5f\"},\"baxis\":{\"endlinecolor\":\"#2a3f5f\",\"gridcolor\":\"white\",\"linecolor\":\"white\",\"minorgridcolor\":\"white\",\"startlinecolor\":\"#2a3f5f\"},\"type\":\"carpet\"}],\"table\":[{\"cells\":{\"fill\":{\"color\":\"#EBF0F8\"},\"line\":{\"color\":\"white\"}},\"header\":{\"fill\":{\"color\":\"#C8D4E3\"},\"line\":{\"color\":\"white\"}},\"type\":\"table\"}],\"barpolar\":[{\"marker\":{\"line\":{\"color\":\"#E5ECF6\",\"width\":0.5},\"pattern\":{\"fillmode\":\"overlay\",\"size\":10,\"solidity\":0.2}},\"type\":\"barpolar\"}],\"pie\":[{\"automargin\":true,\"type\":\"pie\"}]},\"layout\":{\"autotypenumbers\":\"strict\",\"colorway\":[\"#636efa\",\"#EF553B\",\"#00cc96\",\"#ab63fa\",\"#FFA15A\",\"#19d3f3\",\"#FF6692\",\"#B6E880\",\"#FF97FF\",\"#FECB52\"],\"font\":{\"color\":\"#2a3f5f\"},\"hovermode\":\"closest\",\"hoverlabel\":{\"align\":\"left\"},\"paper_bgcolor\":\"white\",\"plot_bgcolor\":\"#E5ECF6\",\"polar\":{\"bgcolor\":\"#E5ECF6\",\"angularaxis\":{\"gridcolor\":\"white\",\"linecolor\":\"white\",\"ticks\":\"\"},\"radialaxis\":{\"gridcolor\":\"white\",\"linecolor\":\"white\",\"ticks\":\"\"}},\"ternary\":{\"bgcolor\":\"#E5ECF6\",\"aaxis\":{\"gridcolor\":\"white\",\"linecolor\":\"white\",\"ticks\":\"\"},\"baxis\":{\"gridcolor\":\"white\",\"linecolor\":\"white\",\"ticks\":\"\"},\"caxis\":{\"gridcolor\":\"white\",\"linecolor\":\"white\",\"ticks\":\"\"}},\"coloraxis\":{\"colorbar\":{\"outlinewidth\":0,\"ticks\":\"\"}},\"colorscale\":{\"sequential\":[[0.0,\"#0d0887\"],[0.1111111111111111,\"#46039f\"],[0.2222222222222222,\"#7201a8\"],[0.3333333333333333,\"#9c179e\"],[0.4444444444444444,\"#bd3786\"],[0.5555555555555556,\"#d8576b\"],[0.6666666666666666,\"#ed7953\"],[0.7777777777777778,\"#fb9f3a\"],[0.8888888888888888,\"#fdca26\"],[1.0,\"#f0f921\"]],\"sequentialminus\":[[0.0,\"#0d0887\"],[0.1111111111111111,\"#46039f\"],[0.2222222222222222,\"#7201a8\"],[0.3333333333333333,\"#9c179e\"],[0.4444444444444444,\"#bd3786\"],[0.5555555555555556,\"#d8576b\"],[0.6666666666666666,\"#ed7953\"],[0.7777777777777778,\"#fb9f3a\"],[0.8888888888888888,\"#fdca26\"],[1.0,\"#f0f921\"]],\"diverging\":[[0,\"#8e0152\"],[0.1,\"#c51b7d\"],[0.2,\"#de77ae\"],[0.3,\"#f1b6da\"],[0.4,\"#fde0ef\"],[0.5,\"#f7f7f7\"],[0.6,\"#e6f5d0\"],[0.7,\"#b8e186\"],[0.8,\"#7fbc41\"],[0.9,\"#4d9221\"],[1,\"#276419\"]]},\"xaxis\":{\"gridcolor\":\"white\",\"linecolor\":\"white\",\"ticks\":\"\",\"title\":{\"standoff\":15},\"zerolinecolor\":\"white\",\"automargin\":true,\"zerolinewidth\":2},\"yaxis\":{\"gridcolor\":\"white\",\"linecolor\":\"white\",\"ticks\":\"\",\"title\":{\"standoff\":15},\"zerolinecolor\":\"white\",\"automargin\":true,\"zerolinewidth\":2},\"scene\":{\"xaxis\":{\"backgroundcolor\":\"#E5ECF6\",\"gridcolor\":\"white\",\"linecolor\":\"white\",\"showbackground\":true,\"ticks\":\"\",\"zerolinecolor\":\"white\",\"gridwidth\":2},\"yaxis\":{\"backgroundcolor\":\"#E5ECF6\",\"gridcolor\":\"white\",\"linecolor\":\"white\",\"showbackground\":true,\"ticks\":\"\",\"zerolinecolor\":\"white\",\"gridwidth\":2},\"zaxis\":{\"backgroundcolor\":\"#E5ECF6\",\"gridcolor\":\"white\",\"linecolor\":\"white\",\"showbackground\":true,\"ticks\":\"\",\"zerolinecolor\":\"white\",\"gridwidth\":2}},\"shapedefaults\":{\"line\":{\"color\":\"#2a3f5f\"}},\"annotationdefaults\":{\"arrowcolor\":\"#2a3f5f\",\"arrowhead\":0,\"arrowwidth\":1},\"geo\":{\"bgcolor\":\"white\",\"landcolor\":\"#E5ECF6\",\"subunitcolor\":\"white\",\"showland\":true,\"showlakes\":true,\"lakecolor\":\"white\"},\"title\":{\"x\":0.05},\"mapbox\":{\"style\":\"light\"}}},\"xaxis\":{\"anchor\":\"y\",\"domain\":[0.0,1.0],\"title\":{\"text\":\"Youtuber\"},\"categoryorder\":\"total descending\"},\"yaxis\":{\"anchor\":\"x\",\"domain\":[0.0,1.0],\"title\":{\"text\":\"subscribers\"}},\"legend\":{\"title\":{\"text\":\"Country\"},\"tracegroupgap\":0},\"margin\":{\"t\":60},\"barmode\":\"relative\"},                        {\"responsive\": true}                    ).then(function(){\n",
       "                            \n",
       "var gd = document.getElementById('ae33e89e-65d4-4648-9746-2103ccc1ccdc');\n",
       "var x = new MutationObserver(function (mutations, observer) {{\n",
       "        var display = window.getComputedStyle(gd).display;\n",
       "        if (!display || display === 'none') {{\n",
       "            console.log([gd, 'removed!']);\n",
       "            Plotly.purge(gd);\n",
       "            observer.disconnect();\n",
       "        }}\n",
       "}});\n",
       "\n",
       "// Listen for the removal of the full notebook cells\n",
       "var notebookContainer = gd.closest('#notebook-container');\n",
       "if (notebookContainer) {{\n",
       "    x.observe(notebookContainer, {childList: true});\n",
       "}}\n",
       "\n",
       "// Listen for the clearing of the current output cell\n",
       "var outputEl = gd.closest('.output');\n",
       "if (outputEl) {{\n",
       "    x.observe(outputEl, {childList: true});\n",
       "}}\n",
       "\n",
       "                        })                };                });            </script>        </div>"
      ]
     },
     "metadata": {},
     "output_type": "display_data"
    }
   ],
   "source": [
    "fig = px.bar(top10_subscribership,x='Youtuber',y='subscribers', color='Country', color_discrete_map={\"India\": '#DC3912', 'United States': '#3366CC', 'Japan': '#FF9900', 'Russia': '#66AA00'})\n",
    "fig.update_layout(xaxis_categoryorder = 'total descending')"
   ]
  },
  {
   "cell_type": "code",
   "execution_count": 159,
   "id": "bd689506-cdf7-4a2a-92c5-2f7700477ce2",
   "metadata": {
    "tags": []
   },
   "outputs": [
    {
     "data": {
      "application/vnd.plotly.v1+json": {
       "config": {
        "plotlyServerURL": "https://plot.ly"
       },
       "data": [
        {
         "alignmentgroup": "True",
         "hovertemplate": "Country=South Korea<br>Youtuber=%{x}<br>highest_yearly_earnings=%{y}<extra></extra>",
         "legendgroup": "South Korea",
         "marker": {
          "color": "#00cc96",
          "pattern": {
           "shape": ""
          }
         },
         "name": "South Korea",
         "offsetgroup": "South Korea",
         "orientation": "v",
         "showlegend": true,
         "textposition": "auto",
         "type": "bar",
         "x": [
          "ýýýýýýýýý KIMPRO"
         ],
         "xaxis": "x",
         "y": [
          163400000
         ],
         "yaxis": "y"
        },
        {
         "alignmentgroup": "True",
         "hovertemplate": "Country=United States<br>Youtuber=%{x}<br>highest_yearly_earnings=%{y}<extra></extra>",
         "legendgroup": "United States",
         "marker": {
          "color": "#3366CC",
          "pattern": {
           "shape": ""
          }
         },
         "name": "United States",
         "offsetgroup": "United States",
         "orientation": "v",
         "showlegend": true,
         "textposition": "auto",
         "type": "bar",
         "x": [
          "DaFuq!?Boom!",
          "Cocomelon - Nursery Rhymes"
         ],
         "xaxis": "x",
         "y": [
          110600000,
          94800000
         ],
         "yaxis": "y"
        },
        {
         "alignmentgroup": "True",
         "hovertemplate": "Country=India<br>Youtuber=%{x}<br>highest_yearly_earnings=%{y}<extra></extra>",
         "legendgroup": "India",
         "marker": {
          "color": "#DC3912",
          "pattern": {
           "shape": ""
          }
         },
         "name": "India",
         "offsetgroup": "India",
         "orientation": "v",
         "showlegend": true,
         "textposition": "auto",
         "type": "bar",
         "x": [
          "T-Series",
          "KL BRO Biju Rithvik",
          "SET India",
          "Zee TV",
          "StarPlus",
          "Sony SAB"
         ],
         "xaxis": "x",
         "y": [
          108400000,
          97600000,
          87500000,
          81900000,
          80000000,
          79600000
         ],
         "yaxis": "y"
        },
        {
         "alignmentgroup": "True",
         "hovertemplate": "Country=Brazil<br>Youtuber=%{x}<br>highest_yearly_earnings=%{y}<extra></extra>",
         "legendgroup": "Brazil",
         "marker": {
          "color": "#ab63fa",
          "pattern": {
           "shape": ""
          }
         },
         "name": "Brazil",
         "offsetgroup": "Brazil",
         "orientation": "v",
         "showlegend": true,
         "textposition": "auto",
         "type": "bar",
         "x": [
          "GR6 EXPLODE"
         ],
         "xaxis": "x",
         "y": [
          78500000
         ],
         "yaxis": "y"
        }
       ],
       "layout": {
        "autosize": true,
        "barmode": "relative",
        "legend": {
         "title": {
          "text": "Country"
         },
         "tracegroupgap": 0
        },
        "margin": {
         "t": 60
        },
        "template": {
         "data": {
          "bar": [
           {
            "error_x": {
             "color": "#2a3f5f"
            },
            "error_y": {
             "color": "#2a3f5f"
            },
            "marker": {
             "line": {
              "color": "#E5ECF6",
              "width": 0.5
             },
             "pattern": {
              "fillmode": "overlay",
              "size": 10,
              "solidity": 0.2
             }
            },
            "type": "bar"
           }
          ],
          "barpolar": [
           {
            "marker": {
             "line": {
              "color": "#E5ECF6",
              "width": 0.5
             },
             "pattern": {
              "fillmode": "overlay",
              "size": 10,
              "solidity": 0.2
             }
            },
            "type": "barpolar"
           }
          ],
          "carpet": [
           {
            "aaxis": {
             "endlinecolor": "#2a3f5f",
             "gridcolor": "white",
             "linecolor": "white",
             "minorgridcolor": "white",
             "startlinecolor": "#2a3f5f"
            },
            "baxis": {
             "endlinecolor": "#2a3f5f",
             "gridcolor": "white",
             "linecolor": "white",
             "minorgridcolor": "white",
             "startlinecolor": "#2a3f5f"
            },
            "type": "carpet"
           }
          ],
          "choropleth": [
           {
            "colorbar": {
             "outlinewidth": 0,
             "ticks": ""
            },
            "type": "choropleth"
           }
          ],
          "contour": [
           {
            "colorbar": {
             "outlinewidth": 0,
             "ticks": ""
            },
            "colorscale": [
             [
              0,
              "#0d0887"
             ],
             [
              0.1111111111111111,
              "#46039f"
             ],
             [
              0.2222222222222222,
              "#7201a8"
             ],
             [
              0.3333333333333333,
              "#9c179e"
             ],
             [
              0.4444444444444444,
              "#bd3786"
             ],
             [
              0.5555555555555556,
              "#d8576b"
             ],
             [
              0.6666666666666666,
              "#ed7953"
             ],
             [
              0.7777777777777778,
              "#fb9f3a"
             ],
             [
              0.8888888888888888,
              "#fdca26"
             ],
             [
              1,
              "#f0f921"
             ]
            ],
            "type": "contour"
           }
          ],
          "contourcarpet": [
           {
            "colorbar": {
             "outlinewidth": 0,
             "ticks": ""
            },
            "type": "contourcarpet"
           }
          ],
          "heatmap": [
           {
            "colorbar": {
             "outlinewidth": 0,
             "ticks": ""
            },
            "colorscale": [
             [
              0,
              "#0d0887"
             ],
             [
              0.1111111111111111,
              "#46039f"
             ],
             [
              0.2222222222222222,
              "#7201a8"
             ],
             [
              0.3333333333333333,
              "#9c179e"
             ],
             [
              0.4444444444444444,
              "#bd3786"
             ],
             [
              0.5555555555555556,
              "#d8576b"
             ],
             [
              0.6666666666666666,
              "#ed7953"
             ],
             [
              0.7777777777777778,
              "#fb9f3a"
             ],
             [
              0.8888888888888888,
              "#fdca26"
             ],
             [
              1,
              "#f0f921"
             ]
            ],
            "type": "heatmap"
           }
          ],
          "heatmapgl": [
           {
            "colorbar": {
             "outlinewidth": 0,
             "ticks": ""
            },
            "colorscale": [
             [
              0,
              "#0d0887"
             ],
             [
              0.1111111111111111,
              "#46039f"
             ],
             [
              0.2222222222222222,
              "#7201a8"
             ],
             [
              0.3333333333333333,
              "#9c179e"
             ],
             [
              0.4444444444444444,
              "#bd3786"
             ],
             [
              0.5555555555555556,
              "#d8576b"
             ],
             [
              0.6666666666666666,
              "#ed7953"
             ],
             [
              0.7777777777777778,
              "#fb9f3a"
             ],
             [
              0.8888888888888888,
              "#fdca26"
             ],
             [
              1,
              "#f0f921"
             ]
            ],
            "type": "heatmapgl"
           }
          ],
          "histogram": [
           {
            "marker": {
             "pattern": {
              "fillmode": "overlay",
              "size": 10,
              "solidity": 0.2
             }
            },
            "type": "histogram"
           }
          ],
          "histogram2d": [
           {
            "colorbar": {
             "outlinewidth": 0,
             "ticks": ""
            },
            "colorscale": [
             [
              0,
              "#0d0887"
             ],
             [
              0.1111111111111111,
              "#46039f"
             ],
             [
              0.2222222222222222,
              "#7201a8"
             ],
             [
              0.3333333333333333,
              "#9c179e"
             ],
             [
              0.4444444444444444,
              "#bd3786"
             ],
             [
              0.5555555555555556,
              "#d8576b"
             ],
             [
              0.6666666666666666,
              "#ed7953"
             ],
             [
              0.7777777777777778,
              "#fb9f3a"
             ],
             [
              0.8888888888888888,
              "#fdca26"
             ],
             [
              1,
              "#f0f921"
             ]
            ],
            "type": "histogram2d"
           }
          ],
          "histogram2dcontour": [
           {
            "colorbar": {
             "outlinewidth": 0,
             "ticks": ""
            },
            "colorscale": [
             [
              0,
              "#0d0887"
             ],
             [
              0.1111111111111111,
              "#46039f"
             ],
             [
              0.2222222222222222,
              "#7201a8"
             ],
             [
              0.3333333333333333,
              "#9c179e"
             ],
             [
              0.4444444444444444,
              "#bd3786"
             ],
             [
              0.5555555555555556,
              "#d8576b"
             ],
             [
              0.6666666666666666,
              "#ed7953"
             ],
             [
              0.7777777777777778,
              "#fb9f3a"
             ],
             [
              0.8888888888888888,
              "#fdca26"
             ],
             [
              1,
              "#f0f921"
             ]
            ],
            "type": "histogram2dcontour"
           }
          ],
          "mesh3d": [
           {
            "colorbar": {
             "outlinewidth": 0,
             "ticks": ""
            },
            "type": "mesh3d"
           }
          ],
          "parcoords": [
           {
            "line": {
             "colorbar": {
              "outlinewidth": 0,
              "ticks": ""
             }
            },
            "type": "parcoords"
           }
          ],
          "pie": [
           {
            "automargin": true,
            "type": "pie"
           }
          ],
          "scatter": [
           {
            "fillpattern": {
             "fillmode": "overlay",
             "size": 10,
             "solidity": 0.2
            },
            "type": "scatter"
           }
          ],
          "scatter3d": [
           {
            "line": {
             "colorbar": {
              "outlinewidth": 0,
              "ticks": ""
             }
            },
            "marker": {
             "colorbar": {
              "outlinewidth": 0,
              "ticks": ""
             }
            },
            "type": "scatter3d"
           }
          ],
          "scattercarpet": [
           {
            "marker": {
             "colorbar": {
              "outlinewidth": 0,
              "ticks": ""
             }
            },
            "type": "scattercarpet"
           }
          ],
          "scattergeo": [
           {
            "marker": {
             "colorbar": {
              "outlinewidth": 0,
              "ticks": ""
             }
            },
            "type": "scattergeo"
           }
          ],
          "scattergl": [
           {
            "marker": {
             "colorbar": {
              "outlinewidth": 0,
              "ticks": ""
             }
            },
            "type": "scattergl"
           }
          ],
          "scattermapbox": [
           {
            "marker": {
             "colorbar": {
              "outlinewidth": 0,
              "ticks": ""
             }
            },
            "type": "scattermapbox"
           }
          ],
          "scatterpolar": [
           {
            "marker": {
             "colorbar": {
              "outlinewidth": 0,
              "ticks": ""
             }
            },
            "type": "scatterpolar"
           }
          ],
          "scatterpolargl": [
           {
            "marker": {
             "colorbar": {
              "outlinewidth": 0,
              "ticks": ""
             }
            },
            "type": "scatterpolargl"
           }
          ],
          "scatterternary": [
           {
            "marker": {
             "colorbar": {
              "outlinewidth": 0,
              "ticks": ""
             }
            },
            "type": "scatterternary"
           }
          ],
          "surface": [
           {
            "colorbar": {
             "outlinewidth": 0,
             "ticks": ""
            },
            "colorscale": [
             [
              0,
              "#0d0887"
             ],
             [
              0.1111111111111111,
              "#46039f"
             ],
             [
              0.2222222222222222,
              "#7201a8"
             ],
             [
              0.3333333333333333,
              "#9c179e"
             ],
             [
              0.4444444444444444,
              "#bd3786"
             ],
             [
              0.5555555555555556,
              "#d8576b"
             ],
             [
              0.6666666666666666,
              "#ed7953"
             ],
             [
              0.7777777777777778,
              "#fb9f3a"
             ],
             [
              0.8888888888888888,
              "#fdca26"
             ],
             [
              1,
              "#f0f921"
             ]
            ],
            "type": "surface"
           }
          ],
          "table": [
           {
            "cells": {
             "fill": {
              "color": "#EBF0F8"
             },
             "line": {
              "color": "white"
             }
            },
            "header": {
             "fill": {
              "color": "#C8D4E3"
             },
             "line": {
              "color": "white"
             }
            },
            "type": "table"
           }
          ]
         },
         "layout": {
          "annotationdefaults": {
           "arrowcolor": "#2a3f5f",
           "arrowhead": 0,
           "arrowwidth": 1
          },
          "autotypenumbers": "strict",
          "coloraxis": {
           "colorbar": {
            "outlinewidth": 0,
            "ticks": ""
           }
          },
          "colorscale": {
           "diverging": [
            [
             0,
             "#8e0152"
            ],
            [
             0.1,
             "#c51b7d"
            ],
            [
             0.2,
             "#de77ae"
            ],
            [
             0.3,
             "#f1b6da"
            ],
            [
             0.4,
             "#fde0ef"
            ],
            [
             0.5,
             "#f7f7f7"
            ],
            [
             0.6,
             "#e6f5d0"
            ],
            [
             0.7,
             "#b8e186"
            ],
            [
             0.8,
             "#7fbc41"
            ],
            [
             0.9,
             "#4d9221"
            ],
            [
             1,
             "#276419"
            ]
           ],
           "sequential": [
            [
             0,
             "#0d0887"
            ],
            [
             0.1111111111111111,
             "#46039f"
            ],
            [
             0.2222222222222222,
             "#7201a8"
            ],
            [
             0.3333333333333333,
             "#9c179e"
            ],
            [
             0.4444444444444444,
             "#bd3786"
            ],
            [
             0.5555555555555556,
             "#d8576b"
            ],
            [
             0.6666666666666666,
             "#ed7953"
            ],
            [
             0.7777777777777778,
             "#fb9f3a"
            ],
            [
             0.8888888888888888,
             "#fdca26"
            ],
            [
             1,
             "#f0f921"
            ]
           ],
           "sequentialminus": [
            [
             0,
             "#0d0887"
            ],
            [
             0.1111111111111111,
             "#46039f"
            ],
            [
             0.2222222222222222,
             "#7201a8"
            ],
            [
             0.3333333333333333,
             "#9c179e"
            ],
            [
             0.4444444444444444,
             "#bd3786"
            ],
            [
             0.5555555555555556,
             "#d8576b"
            ],
            [
             0.6666666666666666,
             "#ed7953"
            ],
            [
             0.7777777777777778,
             "#fb9f3a"
            ],
            [
             0.8888888888888888,
             "#fdca26"
            ],
            [
             1,
             "#f0f921"
            ]
           ]
          },
          "colorway": [
           "#636efa",
           "#EF553B",
           "#00cc96",
           "#ab63fa",
           "#FFA15A",
           "#19d3f3",
           "#FF6692",
           "#B6E880",
           "#FF97FF",
           "#FECB52"
          ],
          "font": {
           "color": "#2a3f5f"
          },
          "geo": {
           "bgcolor": "white",
           "lakecolor": "white",
           "landcolor": "#E5ECF6",
           "showlakes": true,
           "showland": true,
           "subunitcolor": "white"
          },
          "hoverlabel": {
           "align": "left"
          },
          "hovermode": "closest",
          "mapbox": {
           "style": "light"
          },
          "paper_bgcolor": "white",
          "plot_bgcolor": "#E5ECF6",
          "polar": {
           "angularaxis": {
            "gridcolor": "white",
            "linecolor": "white",
            "ticks": ""
           },
           "bgcolor": "#E5ECF6",
           "radialaxis": {
            "gridcolor": "white",
            "linecolor": "white",
            "ticks": ""
           }
          },
          "scene": {
           "xaxis": {
            "backgroundcolor": "#E5ECF6",
            "gridcolor": "white",
            "gridwidth": 2,
            "linecolor": "white",
            "showbackground": true,
            "ticks": "",
            "zerolinecolor": "white"
           },
           "yaxis": {
            "backgroundcolor": "#E5ECF6",
            "gridcolor": "white",
            "gridwidth": 2,
            "linecolor": "white",
            "showbackground": true,
            "ticks": "",
            "zerolinecolor": "white"
           },
           "zaxis": {
            "backgroundcolor": "#E5ECF6",
            "gridcolor": "white",
            "gridwidth": 2,
            "linecolor": "white",
            "showbackground": true,
            "ticks": "",
            "zerolinecolor": "white"
           }
          },
          "shapedefaults": {
           "line": {
            "color": "#2a3f5f"
           }
          },
          "ternary": {
           "aaxis": {
            "gridcolor": "white",
            "linecolor": "white",
            "ticks": ""
           },
           "baxis": {
            "gridcolor": "white",
            "linecolor": "white",
            "ticks": ""
           },
           "bgcolor": "#E5ECF6",
           "caxis": {
            "gridcolor": "white",
            "linecolor": "white",
            "ticks": ""
           }
          },
          "title": {
           "x": 0.05
          },
          "xaxis": {
           "automargin": true,
           "gridcolor": "white",
           "linecolor": "white",
           "ticks": "",
           "title": {
            "standoff": 15
           },
           "zerolinecolor": "white",
           "zerolinewidth": 2
          },
          "yaxis": {
           "automargin": true,
           "gridcolor": "white",
           "linecolor": "white",
           "ticks": "",
           "title": {
            "standoff": 15
           },
           "zerolinecolor": "white",
           "zerolinewidth": 2
          }
         }
        },
        "xaxis": {
         "anchor": "y",
         "autorange": true,
         "categoryorder": "total descending",
         "domain": [
          0,
          1
         ],
         "range": [
          -0.5,
          9.5
         ],
         "title": {
          "text": "Youtuber"
         },
         "type": "category"
        },
        "yaxis": {
         "anchor": "x",
         "autorange": true,
         "domain": [
          0,
          1
         ],
         "range": [
          0,
          172000000
         ],
         "title": {
          "text": "highest_yearly_earnings"
         },
         "type": "linear"
        }
       }
      },
      "image/png": "[encoded data removed]",
      "text/html": [
       "<div>                            <div id=\"fbb5ef46-6b9b-4e1f-94da-b4cac32208cb\" class=\"plotly-graph-div\" style=\"height:525px; width:100%;\"></div>            <script type=\"text/javascript\">                require([\"plotly\"], function(Plotly) {                    window.PLOTLYENV=window.PLOTLYENV || {};                                    if (document.getElementById(\"fbb5ef46-6b9b-4e1f-94da-b4cac32208cb\")) {                    Plotly.newPlot(                        \"fbb5ef46-6b9b-4e1f-94da-b4cac32208cb\",                        [{\"alignmentgroup\":\"True\",\"hovertemplate\":\"Country=South Korea<br>Youtuber=%{x}<br>highest_yearly_earnings=%{y}<extra></extra>\",\"legendgroup\":\"South Korea\",\"marker\":{\"color\":\"#00cc96\",\"pattern\":{\"shape\":\"\"}},\"name\":\"South Korea\",\"offsetgroup\":\"South Korea\",\"orientation\":\"v\",\"showlegend\":true,\"textposition\":\"auto\",\"x\":[\"\\u00fd\\u00fd\\u00fd\\u00fd\\u00fd\\u00fd\\u00fd\\u00fd\\u00fd KIMPRO\"],\"xaxis\":\"x\",\"y\":[163400000.0],\"yaxis\":\"y\",\"type\":\"bar\"},{\"alignmentgroup\":\"True\",\"hovertemplate\":\"Country=United States<br>Youtuber=%{x}<br>highest_yearly_earnings=%{y}<extra></extra>\",\"legendgroup\":\"United States\",\"marker\":{\"color\":\"#3366CC\",\"pattern\":{\"shape\":\"\"}},\"name\":\"United States\",\"offsetgroup\":\"United States\",\"orientation\":\"v\",\"showlegend\":true,\"textposition\":\"auto\",\"x\":[\"DaFuq!?Boom!\",\"Cocomelon - Nursery Rhymes\"],\"xaxis\":\"x\",\"y\":[110600000.0,94800000.0],\"yaxis\":\"y\",\"type\":\"bar\"},{\"alignmentgroup\":\"True\",\"hovertemplate\":\"Country=India<br>Youtuber=%{x}<br>highest_yearly_earnings=%{y}<extra></extra>\",\"legendgroup\":\"India\",\"marker\":{\"color\":\"#DC3912\",\"pattern\":{\"shape\":\"\"}},\"name\":\"India\",\"offsetgroup\":\"India\",\"orientation\":\"v\",\"showlegend\":true,\"textposition\":\"auto\",\"x\":[\"T-Series\",\"KL BRO Biju Rithvik\",\"SET India\",\"Zee TV\",\"StarPlus\",\"Sony SAB\"],\"xaxis\":\"x\",\"y\":[108400000.0,97600000.0,87500000.0,81900000.0,80000000.0,79600000.0],\"yaxis\":\"y\",\"type\":\"bar\"},{\"alignmentgroup\":\"True\",\"hovertemplate\":\"Country=Brazil<br>Youtuber=%{x}<br>highest_yearly_earnings=%{y}<extra></extra>\",\"legendgroup\":\"Brazil\",\"marker\":{\"color\":\"#ab63fa\",\"pattern\":{\"shape\":\"\"}},\"name\":\"Brazil\",\"offsetgroup\":\"Brazil\",\"orientation\":\"v\",\"showlegend\":true,\"textposition\":\"auto\",\"x\":[\"GR6 EXPLODE\"],\"xaxis\":\"x\",\"y\":[78500000.0],\"yaxis\":\"y\",\"type\":\"bar\"}],                        {\"template\":{\"data\":{\"histogram2dcontour\":[{\"type\":\"histogram2dcontour\",\"colorbar\":{\"outlinewidth\":0,\"ticks\":\"\"},\"colorscale\":[[0.0,\"#0d0887\"],[0.1111111111111111,\"#46039f\"],[0.2222222222222222,\"#7201a8\"],[0.3333333333333333,\"#9c179e\"],[0.4444444444444444,\"#bd3786\"],[0.5555555555555556,\"#d8576b\"],[0.6666666666666666,\"#ed7953\"],[0.7777777777777778,\"#fb9f3a\"],[0.8888888888888888,\"#fdca26\"],[1.0,\"#f0f921\"]]}],\"choropleth\":[{\"type\":\"choropleth\",\"colorbar\":{\"outlinewidth\":0,\"ticks\":\"\"}}],\"histogram2d\":[{\"type\":\"histogram2d\",\"colorbar\":{\"outlinewidth\":0,\"ticks\":\"\"},\"colorscale\":[[0.0,\"#0d0887\"],[0.1111111111111111,\"#46039f\"],[0.2222222222222222,\"#7201a8\"],[0.3333333333333333,\"#9c179e\"],[0.4444444444444444,\"#bd3786\"],[0.5555555555555556,\"#d8576b\"],[0.6666666666666666,\"#ed7953\"],[0.7777777777777778,\"#fb9f3a\"],[0.8888888888888888,\"#fdca26\"],[1.0,\"#f0f921\"]]}],\"heatmap\":[{\"type\":\"heatmap\",\"colorbar\":{\"outlinewidth\":0,\"ticks\":\"\"},\"colorscale\":[[0.0,\"#0d0887\"],[0.1111111111111111,\"#46039f\"],[0.2222222222222222,\"#7201a8\"],[0.3333333333333333,\"#9c179e\"],[0.4444444444444444,\"#bd3786\"],[0.5555555555555556,\"#d8576b\"],[0.6666666666666666,\"#ed7953\"],[0.7777777777777778,\"#fb9f3a\"],[0.8888888888888888,\"#fdca26\"],[1.0,\"#f0f921\"]]}],\"heatmapgl\":[{\"type\":\"heatmapgl\",\"colorbar\":{\"outlinewidth\":0,\"ticks\":\"\"},\"colorscale\":[[0.0,\"#0d0887\"],[0.1111111111111111,\"#46039f\"],[0.2222222222222222,\"#7201a8\"],[0.3333333333333333,\"#9c179e\"],[0.4444444444444444,\"#bd3786\"],[0.5555555555555556,\"#d8576b\"],[0.6666666666666666,\"#ed7953\"],[0.7777777777777778,\"#fb9f3a\"],[0.8888888888888888,\"#fdca26\"],[1.0,\"#f0f921\"]]}],\"contourcarpet\":[{\"type\":\"contourcarpet\",\"colorbar\":{\"outlinewidth\":0,\"ticks\":\"\"}}],\"contour\":[{\"type\":\"contour\",\"colorbar\":{\"outlinewidth\":0,\"ticks\":\"\"},\"colorscale\":[[0.0,\"#0d0887\"],[0.1111111111111111,\"#46039f\"],[0.2222222222222222,\"#7201a8\"],[0.3333333333333333,\"#9c179e\"],[0.4444444444444444,\"#bd3786\"],[0.5555555555555556,\"#d8576b\"],[0.6666666666666666,\"#ed7953\"],[0.7777777777777778,\"#fb9f3a\"],[0.8888888888888888,\"#fdca26\"],[1.0,\"#f0f921\"]]}],\"surface\":[{\"type\":\"surface\",\"colorbar\":{\"outlinewidth\":0,\"ticks\":\"\"},\"colorscale\":[[0.0,\"#0d0887\"],[0.1111111111111111,\"#46039f\"],[0.2222222222222222,\"#7201a8\"],[0.3333333333333333,\"#9c179e\"],[0.4444444444444444,\"#bd3786\"],[0.5555555555555556,\"#d8576b\"],[0.6666666666666666,\"#ed7953\"],[0.7777777777777778,\"#fb9f3a\"],[0.8888888888888888,\"#fdca26\"],[1.0,\"#f0f921\"]]}],\"mesh3d\":[{\"type\":\"mesh3d\",\"colorbar\":{\"outlinewidth\":0,\"ticks\":\"\"}}],\"scatter\":[{\"fillpattern\":{\"fillmode\":\"overlay\",\"size\":10,\"solidity\":0.2},\"type\":\"scatter\"}],\"parcoords\":[{\"type\":\"parcoords\",\"line\":{\"colorbar\":{\"outlinewidth\":0,\"ticks\":\"\"}}}],\"scatterpolargl\":[{\"type\":\"scatterpolargl\",\"marker\":{\"colorbar\":{\"outlinewidth\":0,\"ticks\":\"\"}}}],\"bar\":[{\"error_x\":{\"color\":\"#2a3f5f\"},\"error_y\":{\"color\":\"#2a3f5f\"},\"marker\":{\"line\":{\"color\":\"#E5ECF6\",\"width\":0.5},\"pattern\":{\"fillmode\":\"overlay\",\"size\":10,\"solidity\":0.2}},\"type\":\"bar\"}],\"scattergeo\":[{\"type\":\"scattergeo\",\"marker\":{\"colorbar\":{\"outlinewidth\":0,\"ticks\":\"\"}}}],\"scatterpolar\":[{\"type\":\"scatterpolar\",\"marker\":{\"colorbar\":{\"outlinewidth\":0,\"ticks\":\"\"}}}],\"histogram\":[{\"marker\":{\"pattern\":{\"fillmode\":\"overlay\",\"size\":10,\"solidity\":0.2}},\"type\":\"histogram\"}],\"scattergl\":[{\"type\":\"scattergl\",\"marker\":{\"colorbar\":{\"outlinewidth\":0,\"ticks\":\"\"}}}],\"scatter3d\":[{\"type\":\"scatter3d\",\"line\":{\"colorbar\":{\"outlinewidth\":0,\"ticks\":\"\"}},\"marker\":{\"colorbar\":{\"outlinewidth\":0,\"ticks\":\"\"}}}],\"scattermapbox\":[{\"type\":\"scattermapbox\",\"marker\":{\"colorbar\":{\"outlinewidth\":0,\"ticks\":\"\"}}}],\"scatterternary\":[{\"type\":\"scatterternary\",\"marker\":{\"colorbar\":{\"outlinewidth\":0,\"ticks\":\"\"}}}],\"scattercarpet\":[{\"type\":\"scattercarpet\",\"marker\":{\"colorbar\":{\"outlinewidth\":0,\"ticks\":\"\"}}}],\"carpet\":[{\"aaxis\":{\"endlinecolor\":\"#2a3f5f\",\"gridcolor\":\"white\",\"linecolor\":\"white\",\"minorgridcolor\":\"white\",\"startlinecolor\":\"#2a3f5f\"},\"baxis\":{\"endlinecolor\":\"#2a3f5f\",\"gridcolor\":\"white\",\"linecolor\":\"white\",\"minorgridcolor\":\"white\",\"startlinecolor\":\"#2a3f5f\"},\"type\":\"carpet\"}],\"table\":[{\"cells\":{\"fill\":{\"color\":\"#EBF0F8\"},\"line\":{\"color\":\"white\"}},\"header\":{\"fill\":{\"color\":\"#C8D4E3\"},\"line\":{\"color\":\"white\"}},\"type\":\"table\"}],\"barpolar\":[{\"marker\":{\"line\":{\"color\":\"#E5ECF6\",\"width\":0.5},\"pattern\":{\"fillmode\":\"overlay\",\"size\":10,\"solidity\":0.2}},\"type\":\"barpolar\"}],\"pie\":[{\"automargin\":true,\"type\":\"pie\"}]},\"layout\":{\"autotypenumbers\":\"strict\",\"colorway\":[\"#636efa\",\"#EF553B\",\"#00cc96\",\"#ab63fa\",\"#FFA15A\",\"#19d3f3\",\"#FF6692\",\"#B6E880\",\"#FF97FF\",\"#FECB52\"],\"font\":{\"color\":\"#2a3f5f\"},\"hovermode\":\"closest\",\"hoverlabel\":{\"align\":\"left\"},\"paper_bgcolor\":\"white\",\"plot_bgcolor\":\"#E5ECF6\",\"polar\":{\"bgcolor\":\"#E5ECF6\",\"angularaxis\":{\"gridcolor\":\"white\",\"linecolor\":\"white\",\"ticks\":\"\"},\"radialaxis\":{\"gridcolor\":\"white\",\"linecolor\":\"white\",\"ticks\":\"\"}},\"ternary\":{\"bgcolor\":\"#E5ECF6\",\"aaxis\":{\"gridcolor\":\"white\",\"linecolor\":\"white\",\"ticks\":\"\"},\"baxis\":{\"gridcolor\":\"white\",\"linecolor\":\"white\",\"ticks\":\"\"},\"caxis\":{\"gridcolor\":\"white\",\"linecolor\":\"white\",\"ticks\":\"\"}},\"coloraxis\":{\"colorbar\":{\"outlinewidth\":0,\"ticks\":\"\"}},\"colorscale\":{\"sequential\":[[0.0,\"#0d0887\"],[0.1111111111111111,\"#46039f\"],[0.2222222222222222,\"#7201a8\"],[0.3333333333333333,\"#9c179e\"],[0.4444444444444444,\"#bd3786\"],[0.5555555555555556,\"#d8576b\"],[0.6666666666666666,\"#ed7953\"],[0.7777777777777778,\"#fb9f3a\"],[0.8888888888888888,\"#fdca26\"],[1.0,\"#f0f921\"]],\"sequentialminus\":[[0.0,\"#0d0887\"],[0.1111111111111111,\"#46039f\"],[0.2222222222222222,\"#7201a8\"],[0.3333333333333333,\"#9c179e\"],[0.4444444444444444,\"#bd3786\"],[0.5555555555555556,\"#d8576b\"],[0.6666666666666666,\"#ed7953\"],[0.7777777777777778,\"#fb9f3a\"],[0.8888888888888888,\"#fdca26\"],[1.0,\"#f0f921\"]],\"diverging\":[[0,\"#8e0152\"],[0.1,\"#c51b7d\"],[0.2,\"#de77ae\"],[0.3,\"#f1b6da\"],[0.4,\"#fde0ef\"],[0.5,\"#f7f7f7\"],[0.6,\"#e6f5d0\"],[0.7,\"#b8e186\"],[0.8,\"#7fbc41\"],[0.9,\"#4d9221\"],[1,\"#276419\"]]},\"xaxis\":{\"gridcolor\":\"white\",\"linecolor\":\"white\",\"ticks\":\"\",\"title\":{\"standoff\":15},\"zerolinecolor\":\"white\",\"automargin\":true,\"zerolinewidth\":2},\"yaxis\":{\"gridcolor\":\"white\",\"linecolor\":\"white\",\"ticks\":\"\",\"title\":{\"standoff\":15},\"zerolinecolor\":\"white\",\"automargin\":true,\"zerolinewidth\":2},\"scene\":{\"xaxis\":{\"backgroundcolor\":\"#E5ECF6\",\"gridcolor\":\"white\",\"linecolor\":\"white\",\"showbackground\":true,\"ticks\":\"\",\"zerolinecolor\":\"white\",\"gridwidth\":2},\"yaxis\":{\"backgroundcolor\":\"#E5ECF6\",\"gridcolor\":\"white\",\"linecolor\":\"white\",\"showbackground\":true,\"ticks\":\"\",\"zerolinecolor\":\"white\",\"gridwidth\":2},\"zaxis\":{\"backgroundcolor\":\"#E5ECF6\",\"gridcolor\":\"white\",\"linecolor\":\"white\",\"showbackground\":true,\"ticks\":\"\",\"zerolinecolor\":\"white\",\"gridwidth\":2}},\"shapedefaults\":{\"line\":{\"color\":\"#2a3f5f\"}},\"annotationdefaults\":{\"arrowcolor\":\"#2a3f5f\",\"arrowhead\":0,\"arrowwidth\":1},\"geo\":{\"bgcolor\":\"white\",\"landcolor\":\"#E5ECF6\",\"subunitcolor\":\"white\",\"showland\":true,\"showlakes\":true,\"lakecolor\":\"white\"},\"title\":{\"x\":0.05},\"mapbox\":{\"style\":\"light\"}}},\"xaxis\":{\"anchor\":\"y\",\"domain\":[0.0,1.0],\"title\":{\"text\":\"Youtuber\"},\"categoryorder\":\"total descending\"},\"yaxis\":{\"anchor\":\"x\",\"domain\":[0.0,1.0],\"title\":{\"text\":\"highest_yearly_earnings\"}},\"legend\":{\"title\":{\"text\":\"Country\"},\"tracegroupgap\":0},\"margin\":{\"t\":60},\"barmode\":\"relative\"},                        {\"responsive\": true}                    ).then(function(){\n",
       "                            \n",
       "var gd = document.getElementById('fbb5ef46-6b9b-4e1f-94da-b4cac32208cb');\n",
       "var x = new MutationObserver(function (mutations, observer) {{\n",
       "        var display = window.getComputedStyle(gd).display;\n",
       "        if (!display || display === 'none') {{\n",
       "            console.log([gd, 'removed!']);\n",
       "            Plotly.purge(gd);\n",
       "            observer.disconnect();\n",
       "        }}\n",
       "}});\n",
       "\n",
       "// Listen for the removal of the full notebook cells\n",
       "var notebookContainer = gd.closest('#notebook-container');\n",
       "if (notebookContainer) {{\n",
       "    x.observe(notebookContainer, {childList: true});\n",
       "}}\n",
       "\n",
       "// Listen for the clearing of the current output cell\n",
       "var outputEl = gd.closest('.output');\n",
       "if (outputEl) {{\n",
       "    x.observe(outputEl, {childList: true});\n",
       "}}\n",
       "\n",
       "                        })                };                });            </script>        </div>"
      ]
     },
     "metadata": {},
     "output_type": "display_data"
    }
   ],
   "source": [
    "fig2 = px.bar(top10_earnings,x='Youtuber',y='highest_yearly_earnings', color = 'Country', color_discrete_map={\"India\": '#DC3912', 'United States': '#3366CC'})\n",
    "fig2.update_layout(xaxis_categoryorder = 'total descending')\n",
    "fig2"
   ]
  },
  {
   "cell_type": "markdown",
   "id": "cfd3b35d-ec20-45df-89bd-7d27d80066d9",
   "metadata": {},
   "source": [
    "This leads us to the point that it isn't all about subscribers if you are looking to make the highest earnings, there can be other variables that influence such as location. Although the US makes up 50% of the Youtubers in the top 10 subscribed, they only make up for 20% of the top 10 earners."
   ]
  },
  {
   "cell_type": "markdown",
   "id": "5ad233c0-edeb-4fed-9ed5-a0a3c92f62d5",
   "metadata": {},
   "source": [
    "South Korea has the top Youtuber in earnings but none in the top subscribers. \n",
    "India has only 30% of top subscribers but 60% of the top earners.\n",
    "\n",
    "Begs to ask the question, what are the main factors in both subscribership & est. highest earnings?\n"
   ]
  },
  {
   "cell_type": "code",
   "execution_count": 184,
   "id": "3931dc85-a222-4c20-8f2f-0be69a969034",
   "metadata": {
    "tags": []
   },
   "outputs": [
    {
     "data": {
      "image/png": "[encoded data removed]",
      "text/plain": [
       "<Figure size 3000x2000 with 2 Axes>"
      ]
     },
     "metadata": {},
     "output_type": "display_data"
    }
   ],
   "source": [
    "numbersdf = df.select_dtypes(include=['number'])  \n",
    "numbers_heatmap = numbersdf.corr()\n",
    "plt.figure(figsize=(30,20))\n",
    "matrix0 = np.triu(np.ones_like(numbers_heatmap, dtype=bool))\n",
    "np.fill_diagonal(matrix0,False)\n",
    "sns.heatmap(numbers_heatmap, annot=True, cmap='flare', fmt=\".2f\",linewidths=1,mask = matrix0)\n",
    "plt.title('Numbers Heatmap')\n",
    "plt.show()"
   ]
  },
  {
   "cell_type": "markdown",
   "id": "43c492a1-c345-4594-925e-98ce5d8ac21e",
   "metadata": {},
   "source": [
    "After looking at this correlation heat map, I filter out the most impactful variables to subscribers and highest_monthly_earnings. In additon, I added some interesting variables that didn't have much of an effect.\n"
   ]
  },
  {
   "cell_type": "code",
   "execution_count": 164,
   "id": "0ce0a5f3-b551-4110-bb93-c1fccd809822",
   "metadata": {
    "tags": []
   },
   "outputs": [],
   "source": [
    "#creating a subset with the variables I want to see after the saturated heat map\n",
    "subset_numbersdf = numbersdf[['subscribers','highest_yearly_earnings','video views', 'uploads', 'subscribers_for_last_30_days', 'video_views_for_the_last_30_days']]"
   ]
  },
  {
   "cell_type": "code",
   "execution_count": 185,
   "id": "c4c681d2-30ca-4ea9-be64-f5562f03f540",
   "metadata": {
    "tags": []
   },
   "outputs": [
    {
     "data": {
      "image/png": "[encoded data removed]",
      "text/plain": [
       "<Figure size 750x500 with 2 Axes>"
      ]
     },
     "metadata": {},
     "output_type": "display_data"
    }
   ],
   "source": [
    "subset_numbers_heatmap = subset_numbersdf.corr()\n",
    "plt.figure(figsize=(7.5,5))\n",
    "\n",
    "matrix = np.triu(np.ones_like(subset_numbers_heatmap, dtype=bool))\n",
    "np.fill_diagonal(matrix,False)\n",
    "sns.heatmap(subset_numbers_heatmap, annot=True, cmap='flare', fmt=\".2f\",linewidths=1,mask=matrix)\n",
    "plt.title('Subset Numbers Heatmap')\n",
    "plt.show()"
   ]
  },
  {
   "cell_type": "markdown",
   "id": "8757466b-e072-4a15-a75a-a8a87c43ff3c",
   "metadata": {},
   "source": [
    "Some suprising news comes out of this, it looks as if highest_yearly_earnings is most impacted by recent activity rather than variables that span longer than 30 days, and subscribers is mostly impacted by video views."
   ]
  },
  {
   "cell_type": "markdown",
   "id": "74bce928-08f1-4d2e-ba64-c0635402cc73",
   "metadata": {},
   "source": [
    "If your goal was to make as much money in the year, you would have to attain as many followers and video views as quickly as possible."
   ]
  },
  {
   "cell_type": "markdown",
   "id": "a92d75bd-d7bc-45a2-bbeb-11266b2a87ff",
   "metadata": {},
   "source": [
    "If your goal was to get subscribers,  you would want to mostly focus on video views over time."
   ]
  },
  {
   "cell_type": "markdown",
   "id": "ac1f6870-e818-4b1e-9b1b-5d3e33e28a1c",
   "metadata": {},
   "source": [
    "It would be interesting to see if our top 10 Youtubers that we pulled before go along with these newfound conclusions!"
   ]
  },
  {
   "cell_type": "code",
   "execution_count": null,
   "id": "b5ae3fee-9022-4c7a-9236-98118c95ea3c",
   "metadata": {},
   "outputs": [],
   "source": []
  },
  {
   "cell_type": "code",
   "execution_count": null,
   "id": "9ed14d7c-4c28-478a-bc6e-c0b20edd3d67",
   "metadata": {},
   "outputs": [],
   "source": []
  },
  {
   "cell_type": "code",
   "execution_count": null,
   "id": "b2a9f24f-ffa6-4cb1-abb0-559ba9903c3a",
   "metadata": {},
   "outputs": [],
   "source": []
  },
  {
   "cell_type": "code",
   "execution_count": null,
   "id": "1d1a89e0-e106-40ff-af87-c3136a94efe4",
   "metadata": {},
   "outputs": [],
   "source": []
  },
  {
   "cell_type": "code",
   "execution_count": null,
   "id": "a35a2532-8361-4ae8-9290-0fddfaa41481",
   "metadata": {},
   "outputs": [],
   "source": []
  },
  {
   "cell_type": "markdown",
   "id": "e2dcb16c-3a68-405b-a500-b6c23a84c59e",
   "metadata": {
    "tags": []
   },
   "source": [
    "This analysis was also with just the quantitative data, lets see how the qualitative data impacts our success."
   ]
  },
  {
   "cell_type": "code",
   "execution_count": null,
   "id": "6a20e194-cfb2-4129-91f1-7ef89fbd2066",
   "metadata": {},
   "outputs": [],
   "source": []
  },
  {
   "cell_type": "code",
   "execution_count": null,
   "id": "9efc1106-fcaa-417e-8ec5-566fe3faef12",
   "metadata": {},
   "outputs": [],
   "source": []
  },
  {
   "cell_type": "code",
   "execution_count": 97,
   "id": "18dcd473-abf1-4085-a2dd-f2ffc2b43790",
   "metadata": {
    "tags": []
   },
   "outputs": [
    {
     "name": "stderr",
     "output_type": "stream",
     "text": [
      "/var/folders/bf/8_s8z7kn3l979_b34wzrg6yr0000gn/T/ipykernel_97684/139739729.py:1: FutureWarning: The default value of numeric_only in DataFrameGroupBy.sum is deprecated. In a future version, numeric_only will default to False. Either specify numeric_only or select only columns which should be valid for the function.\n",
      "  sub_country = df.groupby('Country').sum().sort_values(by=['subscribers'],ascending=False)\n"
     ]
    },
    {
     "data": {
      "text/html": [
       "<div>\n",
       "<style scoped>\n",
       "    .dataframe tbody tr th:only-of-type {\n",
       "        vertical-align: middle;\n",
       "    }\n",
       "\n",
       "    .dataframe tbody tr th {\n",
       "        vertical-align: top;\n",
       "    }\n",
       "\n",
       "    .dataframe thead th {\n",
       "        text-align: right;\n",
       "    }\n",
       "</style>\n",
       "<table border=\"1\" class=\"dataframe\">\n",
       "  <thead>\n",
       "    <tr style=\"text-align: right;\">\n",
       "      <th></th>\n",
       "      <th>rank</th>\n",
       "      <th>subscribers</th>\n",
       "      <th>video views</th>\n",
       "      <th>uploads</th>\n",
       "      <th>video_views_rank</th>\n",
       "      <th>country_rank</th>\n",
       "      <th>channel_type_rank</th>\n",
       "      <th>video_views_for_the_last_30_days</th>\n",
       "      <th>lowest_monthly_earnings</th>\n",
       "      <th>highest_monthly_earnings</th>\n",
       "      <th>lowest_yearly_earnings</th>\n",
       "      <th>highest_yearly_earnings</th>\n",
       "      <th>subscribers_for_last_30_days</th>\n",
       "      <th>created_year</th>\n",
       "      <th>created_date</th>\n",
       "      <th>Gross tertiary education enrollment (%)</th>\n",
       "      <th>Population</th>\n",
       "      <th>Unemployment rate</th>\n",
       "      <th>Urban_population</th>\n",
       "      <th>Latitude</th>\n",
       "      <th>Longitude</th>\n",
       "      <th>x</th>\n",
       "    </tr>\n",
       "    <tr>\n",
       "      <th>Country</th>\n",
       "      <th></th>\n",
       "      <th></th>\n",
       "      <th></th>\n",
       "      <th></th>\n",
       "      <th></th>\n",
       "      <th></th>\n",
       "      <th></th>\n",
       "      <th></th>\n",
       "      <th></th>\n",
       "      <th></th>\n",
       "      <th></th>\n",
       "      <th></th>\n",
       "      <th></th>\n",
       "      <th></th>\n",
       "      <th></th>\n",
       "      <th></th>\n",
       "      <th></th>\n",
       "      <th></th>\n",
       "      <th></th>\n",
       "      <th></th>\n",
       "      <th></th>\n",
       "      <th></th>\n",
       "    </tr>\n",
       "  </thead>\n",
       "  <tbody>\n",
       "    <tr>\n",
       "      <th>United States</th>\n",
       "      <td>150984.0</td>\n",
       "      <td>7.084500e+09</td>\n",
       "      <td>3.690292e+12</td>\n",
       "      <td>1299605.0</td>\n",
       "      <td>68829154.0</td>\n",
       "      <td>153348.0</td>\n",
       "      <td>126564.0</td>\n",
       "      <td>5.362141e+10</td>\n",
       "      <td>11351605.11</td>\n",
       "      <td>1.816076e+08</td>\n",
       "      <td>1.360415e+08</td>\n",
       "      <td>2.179397e+09</td>\n",
       "      <td>68915203.0</td>\n",
       "      <td>623631.0</td>\n",
       "      <td>4623.0</td>\n",
       "      <td>27430.2</td>\n",
       "      <td>1.020825e+11</td>\n",
       "      <td>4571.70</td>\n",
       "      <td>8.417620e+10</td>\n",
       "      <td>11535.064640</td>\n",
       "      <td>-29766.709101</td>\n",
       "      <td>0.0</td>\n",
       "    </tr>\n",
       "    <tr>\n",
       "      <th>India</th>\n",
       "      <td>83531.0</td>\n",
       "      <td>4.333400e+09</td>\n",
       "      <td>2.299037e+12</td>\n",
       "      <td>3730053.0</td>\n",
       "      <td>17644342.0</td>\n",
       "      <td>37002.0</td>\n",
       "      <td>22688.0</td>\n",
       "      <td>3.974132e+10</td>\n",
       "      <td>9840719.25</td>\n",
       "      <td>1.572862e+08</td>\n",
       "      <td>1.179759e+08</td>\n",
       "      <td>1.889354e+09</td>\n",
       "      <td>59740000.0</td>\n",
       "      <td>340309.0</td>\n",
       "      <td>2711.0</td>\n",
       "      <td>4720.8</td>\n",
       "      <td>2.295582e+11</td>\n",
       "      <td>900.48</td>\n",
       "      <td>7.913330e+10</td>\n",
       "      <td>3459.738912</td>\n",
       "      <td>13265.763840</td>\n",
       "      <td>0.0</td>\n",
       "    </tr>\n",
       "    <tr>\n",
       "      <th>Brazil</th>\n",
       "      <td>36187.0</td>\n",
       "      <td>1.221800e+09</td>\n",
       "      <td>4.812090e+11</td>\n",
       "      <td>168178.0</td>\n",
       "      <td>4293900.0</td>\n",
       "      <td>6961.0</td>\n",
       "      <td>9950.0</td>\n",
       "      <td>1.383949e+10</td>\n",
       "      <td>1811314.00</td>\n",
       "      <td>2.884909e+07</td>\n",
       "      <td>2.177564e+07</td>\n",
       "      <td>3.478070e+08</td>\n",
       "      <td>7200000.0</td>\n",
       "      <td>122765.0</td>\n",
       "      <td>1010.0</td>\n",
       "      <td>3180.6</td>\n",
       "      <td>1.317868e+10</td>\n",
       "      <td>748.96</td>\n",
       "      <td>1.136098e+10</td>\n",
       "      <td>-882.570248</td>\n",
       "      <td>-3219.367360</td>\n",
       "      <td>0.0</td>\n",
       "    </tr>\n",
       "    <tr>\n",
       "      <th>United Kingdom</th>\n",
       "      <td>22111.0</td>\n",
       "      <td>9.174000e+08</td>\n",
       "      <td>4.305665e+11</td>\n",
       "      <td>86816.0</td>\n",
       "      <td>10830787.0</td>\n",
       "      <td>12581.0</td>\n",
       "      <td>19156.0</td>\n",
       "      <td>3.664467e+09</td>\n",
       "      <td>916087.48</td>\n",
       "      <td>1.464408e+07</td>\n",
       "      <td>1.100671e+07</td>\n",
       "      <td>1.759100e+08</td>\n",
       "      <td>4801130.0</td>\n",
       "      <td>86454.0</td>\n",
       "      <td>712.0</td>\n",
       "      <td>2580.0</td>\n",
       "      <td>2.873879e+09</td>\n",
       "      <td>165.55</td>\n",
       "      <td>2.404058e+09</td>\n",
       "      <td>2381.256193</td>\n",
       "      <td>-147.746839</td>\n",
       "      <td>0.0</td>\n",
       "    </tr>\n",
       "    <tr>\n",
       "      <th>Mexico</th>\n",
       "      <td>18527.0</td>\n",
       "      <td>6.269000e+08</td>\n",
       "      <td>1.982199e+11</td>\n",
       "      <td>33410.0</td>\n",
       "      <td>15009450.0</td>\n",
       "      <td>17159.0</td>\n",
       "      <td>23770.0</td>\n",
       "      <td>1.860700e+09</td>\n",
       "      <td>449684.00</td>\n",
       "      <td>7.218781e+06</td>\n",
       "      <td>5.388860e+06</td>\n",
       "      <td>8.625057e+07</td>\n",
       "      <td>3000000.0</td>\n",
       "      <td>66457.0</td>\n",
       "      <td>512.0</td>\n",
       "      <td>1326.6</td>\n",
       "      <td>4.158463e+09</td>\n",
       "      <td>112.86</td>\n",
       "      <td>3.386686e+09</td>\n",
       "      <td>779.938533</td>\n",
       "      <td>-3384.241872</td>\n",
       "      <td>0.0</td>\n",
       "    </tr>\n",
       "    <tr>\n",
       "      <th>Indonesia</th>\n",
       "      <td>14787.0</td>\n",
       "      <td>5.341000e+08</td>\n",
       "      <td>1.510107e+11</td>\n",
       "      <td>678321.0</td>\n",
       "      <td>4376602.0</td>\n",
       "      <td>4518.0</td>\n",
       "      <td>8471.0</td>\n",
       "      <td>4.742892e+09</td>\n",
       "      <td>612711.02</td>\n",
       "      <td>9.857800e+06</td>\n",
       "      <td>7.311100e+06</td>\n",
       "      <td>1.175791e+08</td>\n",
       "      <td>12400001.0</td>\n",
       "      <td>56424.0</td>\n",
       "      <td>486.0</td>\n",
       "      <td>1016.4</td>\n",
       "      <td>7.565710e+09</td>\n",
       "      <td>131.32</td>\n",
       "      <td>4.242272e+09</td>\n",
       "      <td>-22.099700</td>\n",
       "      <td>3189.797156</td>\n",
       "      <td>0.0</td>\n",
       "    </tr>\n",
       "    <tr>\n",
       "      <th>South Korea</th>\n",
       "      <td>8228.0</td>\n",
       "      <td>4.817000e+08</td>\n",
       "      <td>2.255917e+11</td>\n",
       "      <td>129724.0</td>\n",
       "      <td>32857.0</td>\n",
       "      <td>162.0</td>\n",
       "      <td>1240.0</td>\n",
       "      <td>6.773280e+09</td>\n",
       "      <td>1667442.00</td>\n",
       "      <td>2.662310e+07</td>\n",
       "      <td>1.996520e+07</td>\n",
       "      <td>3.202286e+08</td>\n",
       "      <td>7100000.0</td>\n",
       "      <td>34204.0</td>\n",
       "      <td>231.0</td>\n",
       "      <td>1603.1</td>\n",
       "      <td>8.790547e+08</td>\n",
       "      <td>70.55</td>\n",
       "      <td>7.158142e+08</td>\n",
       "      <td>610.431869</td>\n",
       "      <td>2172.037674</td>\n",
       "      <td>0.0</td>\n",
       "    </tr>\n",
       "    <tr>\n",
       "      <th>Russia</th>\n",
       "      <td>8218.0</td>\n",
       "      <td>4.072000e+08</td>\n",
       "      <td>2.329963e+11</td>\n",
       "      <td>19558.0</td>\n",
       "      <td>7689769.0</td>\n",
       "      <td>3415.0</td>\n",
       "      <td>6646.0</td>\n",
       "      <td>2.894754e+09</td>\n",
       "      <td>723602.00</td>\n",
       "      <td>1.157253e+07</td>\n",
       "      <td>8.660023e+06</td>\n",
       "      <td>1.387213e+08</td>\n",
       "      <td>5100010.0</td>\n",
       "      <td>32224.0</td>\n",
       "      <td>275.0</td>\n",
       "      <td>1310.4</td>\n",
       "      <td>2.309977e+09</td>\n",
       "      <td>73.44</td>\n",
       "      <td>1.722942e+09</td>\n",
       "      <td>984.384160</td>\n",
       "      <td>1685.100096</td>\n",
       "      <td>0.0</td>\n",
       "    </tr>\n",
       "    <tr>\n",
       "      <th>Thailand</th>\n",
       "      <td>8629.0</td>\n",
       "      <td>3.865000e+08</td>\n",
       "      <td>2.643180e+11</td>\n",
       "      <td>858953.0</td>\n",
       "      <td>4066125.0</td>\n",
       "      <td>4164.0</td>\n",
       "      <td>6847.0</td>\n",
       "      <td>1.711991e+09</td>\n",
       "      <td>412500.01</td>\n",
       "      <td>6.602600e+06</td>\n",
       "      <td>4.952200e+06</td>\n",
       "      <td>7.934850e+07</td>\n",
       "      <td>1800000.0</td>\n",
       "      <td>36199.0</td>\n",
       "      <td>230.0</td>\n",
       "      <td>887.4</td>\n",
       "      <td>1.253260e+09</td>\n",
       "      <td>13.50</td>\n",
       "      <td>6.353028e+08</td>\n",
       "      <td>285.660576</td>\n",
       "      <td>1817.865738</td>\n",
       "      <td>0.0</td>\n",
       "    </tr>\n",
       "    <tr>\n",
       "      <th>Spain</th>\n",
       "      <td>14222.0</td>\n",
       "      <td>3.851000e+08</td>\n",
       "      <td>1.325207e+11</td>\n",
       "      <td>70160.0</td>\n",
       "      <td>10702000.0</td>\n",
       "      <td>12843.0</td>\n",
       "      <td>14635.0</td>\n",
       "      <td>9.992880e+08</td>\n",
       "      <td>249973.03</td>\n",
       "      <td>4.040768e+06</td>\n",
       "      <td>2.997875e+06</td>\n",
       "      <td>4.815941e+07</td>\n",
       "      <td>1800601.0</td>\n",
       "      <td>44243.0</td>\n",
       "      <td>326.0</td>\n",
       "      <td>1955.8</td>\n",
       "      <td>1.035689e+09</td>\n",
       "      <td>307.12</td>\n",
       "      <td>8.344030e+08</td>\n",
       "      <td>890.200674</td>\n",
       "      <td>-82.482840</td>\n",
       "      <td>0.0</td>\n",
       "    </tr>\n",
       "  </tbody>\n",
       "</table>\n",
       "</div>"
      ],
      "text/plain": [
       "                    rank   subscribers   video views    uploads  \\\n",
       "Country                                                           \n",
       "United States   150984.0  7.084500e+09  3.690292e+12  1299605.0   \n",
       "India            83531.0  4.333400e+09  2.299037e+12  3730053.0   \n",
       "Brazil           36187.0  1.221800e+09  4.812090e+11   168178.0   \n",
       "United Kingdom   22111.0  9.174000e+08  4.305665e+11    86816.0   \n",
       "Mexico           18527.0  6.269000e+08  1.982199e+11    33410.0   \n",
       "Indonesia        14787.0  5.341000e+08  1.510107e+11   678321.0   \n",
       "South Korea       8228.0  4.817000e+08  2.255917e+11   129724.0   \n",
       "Russia            8218.0  4.072000e+08  2.329963e+11    19558.0   \n",
       "Thailand          8629.0  3.865000e+08  2.643180e+11   858953.0   \n",
       "Spain            14222.0  3.851000e+08  1.325207e+11    70160.0   \n",
       "\n",
       "                video_views_rank  country_rank  channel_type_rank  \\\n",
       "Country                                                             \n",
       "United States         68829154.0      153348.0           126564.0   \n",
       "India                 17644342.0       37002.0            22688.0   \n",
       "Brazil                 4293900.0        6961.0             9950.0   \n",
       "United Kingdom        10830787.0       12581.0            19156.0   \n",
       "Mexico                15009450.0       17159.0            23770.0   \n",
       "Indonesia              4376602.0        4518.0             8471.0   \n",
       "South Korea              32857.0         162.0             1240.0   \n",
       "Russia                 7689769.0        3415.0             6646.0   \n",
       "Thailand               4066125.0        4164.0             6847.0   \n",
       "Spain                 10702000.0       12843.0            14635.0   \n",
       "\n",
       "                video_views_for_the_last_30_days  lowest_monthly_earnings  \\\n",
       "Country                                                                     \n",
       "United States                       5.362141e+10              11351605.11   \n",
       "India                               3.974132e+10               9840719.25   \n",
       "Brazil                              1.383949e+10               1811314.00   \n",
       "United Kingdom                      3.664467e+09                916087.48   \n",
       "Mexico                              1.860700e+09                449684.00   \n",
       "Indonesia                           4.742892e+09                612711.02   \n",
       "South Korea                         6.773280e+09               1667442.00   \n",
       "Russia                              2.894754e+09                723602.00   \n",
       "Thailand                            1.711991e+09                412500.01   \n",
       "Spain                               9.992880e+08                249973.03   \n",
       "\n",
       "                highest_monthly_earnings  lowest_yearly_earnings  \\\n",
       "Country                                                            \n",
       "United States               1.816076e+08            1.360415e+08   \n",
       "India                       1.572862e+08            1.179759e+08   \n",
       "Brazil                      2.884909e+07            2.177564e+07   \n",
       "United Kingdom              1.464408e+07            1.100671e+07   \n",
       "Mexico                      7.218781e+06            5.388860e+06   \n",
       "Indonesia                   9.857800e+06            7.311100e+06   \n",
       "South Korea                 2.662310e+07            1.996520e+07   \n",
       "Russia                      1.157253e+07            8.660023e+06   \n",
       "Thailand                    6.602600e+06            4.952200e+06   \n",
       "Spain                       4.040768e+06            2.997875e+06   \n",
       "\n",
       "                highest_yearly_earnings  subscribers_for_last_30_days  \\\n",
       "Country                                                                 \n",
       "United States              2.179397e+09                    68915203.0   \n",
       "India                      1.889354e+09                    59740000.0   \n",
       "Brazil                     3.478070e+08                     7200000.0   \n",
       "United Kingdom             1.759100e+08                     4801130.0   \n",
       "Mexico                     8.625057e+07                     3000000.0   \n",
       "Indonesia                  1.175791e+08                    12400001.0   \n",
       "South Korea                3.202286e+08                     7100000.0   \n",
       "Russia                     1.387213e+08                     5100010.0   \n",
       "Thailand                   7.934850e+07                     1800000.0   \n",
       "Spain                      4.815941e+07                     1800601.0   \n",
       "\n",
       "                created_year  created_date  \\\n",
       "Country                                      \n",
       "United States       623631.0        4623.0   \n",
       "India               340309.0        2711.0   \n",
       "Brazil              122765.0        1010.0   \n",
       "United Kingdom       86454.0         712.0   \n",
       "Mexico               66457.0         512.0   \n",
       "Indonesia            56424.0         486.0   \n",
       "South Korea          34204.0         231.0   \n",
       "Russia               32224.0         275.0   \n",
       "Thailand             36199.0         230.0   \n",
       "Spain                44243.0         326.0   \n",
       "\n",
       "                Gross tertiary education enrollment (%)    Population  \\\n",
       "Country                                                                 \n",
       "United States                                   27430.2  1.020825e+11   \n",
       "India                                            4720.8  2.295582e+11   \n",
       "Brazil                                           3180.6  1.317868e+10   \n",
       "United Kingdom                                   2580.0  2.873879e+09   \n",
       "Mexico                                           1326.6  4.158463e+09   \n",
       "Indonesia                                        1016.4  7.565710e+09   \n",
       "South Korea                                      1603.1  8.790547e+08   \n",
       "Russia                                           1310.4  2.309977e+09   \n",
       "Thailand                                          887.4  1.253260e+09   \n",
       "Spain                                            1955.8  1.035689e+09   \n",
       "\n",
       "                Unemployment rate  Urban_population      Latitude  \\\n",
       "Country                                                             \n",
       "United States             4571.70      8.417620e+10  11535.064640   \n",
       "India                      900.48      7.913330e+10   3459.738912   \n",
       "Brazil                     748.96      1.136098e+10   -882.570248   \n",
       "United Kingdom             165.55      2.404058e+09   2381.256193   \n",
       "Mexico                     112.86      3.386686e+09    779.938533   \n",
       "Indonesia                  131.32      4.242272e+09    -22.099700   \n",
       "South Korea                 70.55      7.158142e+08    610.431869   \n",
       "Russia                      73.44      1.722942e+09    984.384160   \n",
       "Thailand                    13.50      6.353028e+08    285.660576   \n",
       "Spain                      307.12      8.344030e+08    890.200674   \n",
       "\n",
       "                   Longitude    x  \n",
       "Country                            \n",
       "United States  -29766.709101  0.0  \n",
       "India           13265.763840  0.0  \n",
       "Brazil          -3219.367360  0.0  \n",
       "United Kingdom   -147.746839  0.0  \n",
       "Mexico          -3384.241872  0.0  \n",
       "Indonesia        3189.797156  0.0  \n",
       "South Korea      2172.037674  0.0  \n",
       "Russia           1685.100096  0.0  \n",
       "Thailand         1817.865738  0.0  \n",
       "Spain             -82.482840  0.0  "
      ]
     },
     "execution_count": 97,
     "metadata": {},
     "output_type": "execute_result"
    }
   ],
   "source": [
    "sub_country = df.groupby('Country').sum().sort_values(by=['subscribers'],ascending=False)\n",
    "sub_country.head(10)"
   ]
  }
 ],
 "metadata": {
  "kernelspec": {
   "display_name": "Python 3 (ipykernel)",
   "language": "python",
   "name": "python3"
  },
  "language_info": {
   "codemirror_mode": {
    "name": "ipython",
    "version": 3
   },
   "file_extension": ".py",
   "mimetype": "text/x-python",
   "name": "python",
   "nbconvert_exporter": "python",
   "pygments_lexer": "ipython3",
   "version": "3.11.3"
  }
 },
 "nbformat": 4,
 "nbformat_minor": 5
}
