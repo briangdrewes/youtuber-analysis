{
 "cells": [
  {
   "cell_type": "markdown",
   "id": "fdb0bca7-425a-4d0a-938a-005358d78aba",
   "metadata": {
    "tags": []
   },
   "source": [
    "#### Table of Contents\n",
    "- 1.0 Introduction\n",
    "  - 1.1 Importing Modules & Dataset\n",
    "  - 1.2 Column Overview (From Kaggle)\n",
    "  - 1.3 Data Cleaning\n",
    "  - 1.4 Added Columns\n",
    "---\n",
    "- 2.0 Country EDA\n",
    "  - 2.1 Creating countrydf (Groupby Country)\n",
    "  - 2.2 Country Visualizations\n",
    "  - 2.3 Country-Subset Visualizations\n",
    "  - 2.4 Country Takeaways & Conculsions\n",
    "---\n",
    "- 3.0 Category EDA\n",
    "  - 3.1 Creating categorydf (Groupby Category)\n",
    "  - 3.2 Category Visualizations\n",
    "  - 3.3 Category Takeaways & Conclusions\n",
    "---\n",
    "- 4.0 Top 10 Analysis\n",
    "  - 4.1 Creating Top 10 Subgroups\n",
    "  - 4.2 Top 10 Subscribers vs. Top 10 Earners\n",
    "  - 4.3 Top 10 Visualizations\n",
    "---\n",
    "- 5.0 Created Columns Analysis\n",
    "  - 5.1 Earnings per Subscriber Visualization\n",
    "  - 5.2 View Conversions Visualizations\n",
    "  - 5.3 Links Analysis\n",
    "\n",
    "---\n",
    "- 6.0 Conclusions / Future Work"
   ]
  },
  {
   "cell_type": "markdown",
   "id": "9235cc19-a56a-4ab7-8529-3cab7d8bfeee",
   "metadata": {
    "tags": []
   },
   "source": [
    "# 1.0 Introduction\n",
    "\n",
    "Hello reader, my goal in this study is to analyze the variables that either contribute or correlate with a specific Youtuber around their success in 2023, specifically in their subscribers and earnings. The goal is to understand which variables are most influential on success for a Youtuber, in which at the same time we must figure out how to measure success.\n",
    "\n",
    "The main variables I'll be analyzing are Category, Enrollment %, Country, Population, Uploads, and Video Views. I chose these because they can have varying degrees of impact depending on the type of viewer and for their purpose.\n",
    "\n",
    "Although these there are many factors that can contribute to a Youtubers success that we may not understand yet, we will figure out how to measure success and look to predict future success with the information available.\n",
    "\n",
    "HERE IS MY GITHUB FOR CODE: https://github.com/briangdrewes/youtuber-analysis\n",
    "\n",
    "### Data\n",
    "\n",
    "I used a dataset from Kaggle: https://www.kaggle.com/datasets/nelgiriyewithana/global-youtube-statistics-2023"
   ]
  },
  {
   "cell_type": "markdown",
   "id": "9bb5fd4f-e8e7-43ee-bafd-7d171309e559",
   "metadata": {
    "jp-MarkdownHeadingCollapsed": true,
    "tags": []
   },
   "source": [
    "### 1.1 Importing Modules & Dataset"
   ]
  },
  {
   "cell_type": "code",
   "execution_count": 5,
   "id": "c35a274c-af47-40b9-81de-24e21116f44e",
   "metadata": {
    "tags": []
   },
   "outputs": [],
   "source": [
    "import pandas as pd\n",
    "import numpy as np\n",
    "import plotly.express as px\n",
    "import seaborn as sns\n",
    "from matplotlib import pyplot as plt\n",
    "pd.options.display.max_columns = None\n",
    "import geopandas as gpd\n",
    "import geoplot as gp\n",
    "import plotly.figure_factory as ff\n",
    "import plotly.graph_objects as go\n",
    "from plotly.subplots import make_subplots\n",
    "import matplotlib.patches"
   ]
  },
  {
   "cell_type": "code",
   "execution_count": 6,
   "id": "1593e399-2e4e-458e-81c5-1cd032957e38",
   "metadata": {},
   "outputs": [
    {
     "data": {
      "text/html": [
       "<div>\n",
       "<style scoped>\n",
       "    .dataframe tbody tr th:only-of-type {\n",
       "        vertical-align: middle;\n",
       "    }\n",
       "\n",
       "    .dataframe tbody tr th {\n",
       "        vertical-align: top;\n",
       "    }\n",
       "\n",
       "    .dataframe thead th {\n",
       "        text-align: right;\n",
       "    }\n",
       "</style>\n",
       "<table border=\"1\" class=\"dataframe\">\n",
       "  <thead>\n",
       "    <tr style=\"text-align: right;\">\n",
       "      <th></th>\n",
       "      <th>rank</th>\n",
       "      <th>Youtuber</th>\n",
       "      <th>subscribers</th>\n",
       "      <th>video views</th>\n",
       "      <th>category</th>\n",
       "      <th>Title</th>\n",
       "      <th>uploads</th>\n",
       "      <th>Country</th>\n",
       "      <th>Abbreviation</th>\n",
       "      <th>channel_type</th>\n",
       "      <th>video_views_rank</th>\n",
       "      <th>country_rank</th>\n",
       "      <th>channel_type_rank</th>\n",
       "      <th>video_views_for_the_last_30_days</th>\n",
       "      <th>lowest_monthly_earnings</th>\n",
       "      <th>highest_monthly_earnings</th>\n",
       "      <th>lowest_yearly_earnings</th>\n",
       "      <th>highest_yearly_earnings</th>\n",
       "      <th>subscribers_for_last_30_days</th>\n",
       "      <th>created_year</th>\n",
       "      <th>created_month</th>\n",
       "      <th>created_date</th>\n",
       "      <th>Gross tertiary education enrollment (%)</th>\n",
       "      <th>Population</th>\n",
       "      <th>Unemployment rate</th>\n",
       "      <th>Urban_population</th>\n",
       "      <th>Latitude</th>\n",
       "      <th>Longitude</th>\n",
       "    </tr>\n",
       "  </thead>\n",
       "  <tbody>\n",
       "    <tr>\n",
       "      <th>0</th>\n",
       "      <td>1</td>\n",
       "      <td>T-Series</td>\n",
       "      <td>245000000</td>\n",
       "      <td>2.280000e+11</td>\n",
       "      <td>Music</td>\n",
       "      <td>T-Series</td>\n",
       "      <td>20082</td>\n",
       "      <td>India</td>\n",
       "      <td>IN</td>\n",
       "      <td>Music</td>\n",
       "      <td>1.0</td>\n",
       "      <td>1.0</td>\n",
       "      <td>1.0</td>\n",
       "      <td>2.258000e+09</td>\n",
       "      <td>564600.0</td>\n",
       "      <td>9000000.00</td>\n",
       "      <td>6800000.00</td>\n",
       "      <td>1.084000e+08</td>\n",
       "      <td>2000000.0</td>\n",
       "      <td>2006.0</td>\n",
       "      <td>Mar</td>\n",
       "      <td>13.0</td>\n",
       "      <td>28.1</td>\n",
       "      <td>1.366418e+09</td>\n",
       "      <td>5.36</td>\n",
       "      <td>471031528.0</td>\n",
       "      <td>20.593684</td>\n",
       "      <td>78.962880</td>\n",
       "    </tr>\n",
       "    <tr>\n",
       "      <th>1</th>\n",
       "      <td>2</td>\n",
       "      <td>YouTube Movies</td>\n",
       "      <td>170000000</td>\n",
       "      <td>0.000000e+00</td>\n",
       "      <td>Film &amp; Animation</td>\n",
       "      <td>youtubemovies</td>\n",
       "      <td>1</td>\n",
       "      <td>United States</td>\n",
       "      <td>US</td>\n",
       "      <td>Games</td>\n",
       "      <td>4055159.0</td>\n",
       "      <td>7670.0</td>\n",
       "      <td>7423.0</td>\n",
       "      <td>1.200000e+01</td>\n",
       "      <td>0.0</td>\n",
       "      <td>0.05</td>\n",
       "      <td>0.04</td>\n",
       "      <td>5.800000e-01</td>\n",
       "      <td>NaN</td>\n",
       "      <td>2006.0</td>\n",
       "      <td>Mar</td>\n",
       "      <td>5.0</td>\n",
       "      <td>88.2</td>\n",
       "      <td>3.282395e+08</td>\n",
       "      <td>14.70</td>\n",
       "      <td>270663028.0</td>\n",
       "      <td>37.090240</td>\n",
       "      <td>-95.712891</td>\n",
       "    </tr>\n",
       "    <tr>\n",
       "      <th>2</th>\n",
       "      <td>3</td>\n",
       "      <td>MrBeast</td>\n",
       "      <td>166000000</td>\n",
       "      <td>2.836884e+10</td>\n",
       "      <td>Entertainment</td>\n",
       "      <td>MrBeast</td>\n",
       "      <td>741</td>\n",
       "      <td>United States</td>\n",
       "      <td>US</td>\n",
       "      <td>Entertainment</td>\n",
       "      <td>48.0</td>\n",
       "      <td>1.0</td>\n",
       "      <td>1.0</td>\n",
       "      <td>1.348000e+09</td>\n",
       "      <td>337000.0</td>\n",
       "      <td>5400000.00</td>\n",
       "      <td>4000000.00</td>\n",
       "      <td>6.470000e+07</td>\n",
       "      <td>8000000.0</td>\n",
       "      <td>2012.0</td>\n",
       "      <td>Feb</td>\n",
       "      <td>20.0</td>\n",
       "      <td>88.2</td>\n",
       "      <td>3.282395e+08</td>\n",
       "      <td>14.70</td>\n",
       "      <td>270663028.0</td>\n",
       "      <td>37.090240</td>\n",
       "      <td>-95.712891</td>\n",
       "    </tr>\n",
       "    <tr>\n",
       "      <th>3</th>\n",
       "      <td>4</td>\n",
       "      <td>Cocomelon - Nursery Rhymes</td>\n",
       "      <td>162000000</td>\n",
       "      <td>1.640000e+11</td>\n",
       "      <td>Education</td>\n",
       "      <td>Cocomelon - Nursery Rhymes</td>\n",
       "      <td>966</td>\n",
       "      <td>United States</td>\n",
       "      <td>US</td>\n",
       "      <td>Education</td>\n",
       "      <td>2.0</td>\n",
       "      <td>2.0</td>\n",
       "      <td>1.0</td>\n",
       "      <td>1.975000e+09</td>\n",
       "      <td>493800.0</td>\n",
       "      <td>7900000.00</td>\n",
       "      <td>5900000.00</td>\n",
       "      <td>9.480000e+07</td>\n",
       "      <td>1000000.0</td>\n",
       "      <td>2006.0</td>\n",
       "      <td>Sep</td>\n",
       "      <td>1.0</td>\n",
       "      <td>88.2</td>\n",
       "      <td>3.282395e+08</td>\n",
       "      <td>14.70</td>\n",
       "      <td>270663028.0</td>\n",
       "      <td>37.090240</td>\n",
       "      <td>-95.712891</td>\n",
       "    </tr>\n",
       "    <tr>\n",
       "      <th>4</th>\n",
       "      <td>5</td>\n",
       "      <td>SET India</td>\n",
       "      <td>159000000</td>\n",
       "      <td>1.480000e+11</td>\n",
       "      <td>Shows</td>\n",
       "      <td>SET India</td>\n",
       "      <td>116536</td>\n",
       "      <td>India</td>\n",
       "      <td>IN</td>\n",
       "      <td>Entertainment</td>\n",
       "      <td>3.0</td>\n",
       "      <td>2.0</td>\n",
       "      <td>2.0</td>\n",
       "      <td>1.824000e+09</td>\n",
       "      <td>455900.0</td>\n",
       "      <td>7300000.00</td>\n",
       "      <td>5500000.00</td>\n",
       "      <td>8.750000e+07</td>\n",
       "      <td>1000000.0</td>\n",
       "      <td>2006.0</td>\n",
       "      <td>Sep</td>\n",
       "      <td>20.0</td>\n",
       "      <td>28.1</td>\n",
       "      <td>1.366418e+09</td>\n",
       "      <td>5.36</td>\n",
       "      <td>471031528.0</td>\n",
       "      <td>20.593684</td>\n",
       "      <td>78.962880</td>\n",
       "    </tr>\n",
       "    <tr>\n",
       "      <th>5</th>\n",
       "      <td>6</td>\n",
       "      <td>Music</td>\n",
       "      <td>119000000</td>\n",
       "      <td>0.000000e+00</td>\n",
       "      <td>NaN</td>\n",
       "      <td>Music</td>\n",
       "      <td>0</td>\n",
       "      <td>NaN</td>\n",
       "      <td>NaN</td>\n",
       "      <td>Music</td>\n",
       "      <td>4057944.0</td>\n",
       "      <td>NaN</td>\n",
       "      <td>NaN</td>\n",
       "      <td>NaN</td>\n",
       "      <td>0.0</td>\n",
       "      <td>0.00</td>\n",
       "      <td>0.00</td>\n",
       "      <td>0.000000e+00</td>\n",
       "      <td>NaN</td>\n",
       "      <td>2013.0</td>\n",
       "      <td>Sep</td>\n",
       "      <td>24.0</td>\n",
       "      <td>NaN</td>\n",
       "      <td>NaN</td>\n",
       "      <td>NaN</td>\n",
       "      <td>NaN</td>\n",
       "      <td>NaN</td>\n",
       "      <td>NaN</td>\n",
       "    </tr>\n",
       "  </tbody>\n",
       "</table>\n",
       "</div>"
      ],
      "text/plain": [
       "   rank                    Youtuber  subscribers   video views  \\\n",
       "0     1                    T-Series    245000000  2.280000e+11   \n",
       "1     2              YouTube Movies    170000000  0.000000e+00   \n",
       "2     3                     MrBeast    166000000  2.836884e+10   \n",
       "3     4  Cocomelon - Nursery Rhymes    162000000  1.640000e+11   \n",
       "4     5                   SET India    159000000  1.480000e+11   \n",
       "5     6                       Music    119000000  0.000000e+00   \n",
       "\n",
       "           category                       Title  uploads        Country  \\\n",
       "0             Music                    T-Series    20082          India   \n",
       "1  Film & Animation               youtubemovies        1  United States   \n",
       "2     Entertainment                     MrBeast      741  United States   \n",
       "3         Education  Cocomelon - Nursery Rhymes      966  United States   \n",
       "4             Shows                   SET India   116536          India   \n",
       "5               NaN                       Music        0            NaN   \n",
       "\n",
       "  Abbreviation   channel_type  video_views_rank  country_rank  \\\n",
       "0           IN          Music               1.0           1.0   \n",
       "1           US          Games         4055159.0        7670.0   \n",
       "2           US  Entertainment              48.0           1.0   \n",
       "3           US      Education               2.0           2.0   \n",
       "4           IN  Entertainment               3.0           2.0   \n",
       "5          NaN          Music         4057944.0           NaN   \n",
       "\n",
       "   channel_type_rank  video_views_for_the_last_30_days  \\\n",
       "0                1.0                      2.258000e+09   \n",
       "1             7423.0                      1.200000e+01   \n",
       "2                1.0                      1.348000e+09   \n",
       "3                1.0                      1.975000e+09   \n",
       "4                2.0                      1.824000e+09   \n",
       "5                NaN                               NaN   \n",
       "\n",
       "   lowest_monthly_earnings  highest_monthly_earnings  lowest_yearly_earnings  \\\n",
       "0                 564600.0                9000000.00              6800000.00   \n",
       "1                      0.0                      0.05                    0.04   \n",
       "2                 337000.0                5400000.00              4000000.00   \n",
       "3                 493800.0                7900000.00              5900000.00   \n",
       "4                 455900.0                7300000.00              5500000.00   \n",
       "5                      0.0                      0.00                    0.00   \n",
       "\n",
       "   highest_yearly_earnings  subscribers_for_last_30_days  created_year  \\\n",
       "0             1.084000e+08                     2000000.0        2006.0   \n",
       "1             5.800000e-01                           NaN        2006.0   \n",
       "2             6.470000e+07                     8000000.0        2012.0   \n",
       "3             9.480000e+07                     1000000.0        2006.0   \n",
       "4             8.750000e+07                     1000000.0        2006.0   \n",
       "5             0.000000e+00                           NaN        2013.0   \n",
       "\n",
       "  created_month  created_date  Gross tertiary education enrollment (%)  \\\n",
       "0           Mar          13.0                                     28.1   \n",
       "1           Mar           5.0                                     88.2   \n",
       "2           Feb          20.0                                     88.2   \n",
       "3           Sep           1.0                                     88.2   \n",
       "4           Sep          20.0                                     28.1   \n",
       "5           Sep          24.0                                      NaN   \n",
       "\n",
       "     Population  Unemployment rate  Urban_population   Latitude  Longitude  \n",
       "0  1.366418e+09               5.36       471031528.0  20.593684  78.962880  \n",
       "1  3.282395e+08              14.70       270663028.0  37.090240 -95.712891  \n",
       "2  3.282395e+08              14.70       270663028.0  37.090240 -95.712891  \n",
       "3  3.282395e+08              14.70       270663028.0  37.090240 -95.712891  \n",
       "4  1.366418e+09               5.36       471031528.0  20.593684  78.962880  \n",
       "5           NaN                NaN               NaN        NaN        NaN  "
      ]
     },
     "execution_count": 6,
     "metadata": {},
     "output_type": "execute_result"
    }
   ],
   "source": [
    "rawdf = pd.read_csv('Global_YouTube_Statistics.csv',encoding ='latin-1')\n",
    "rawdf.head(6)"
   ]
  },
  {
   "cell_type": "markdown",
   "id": "13eb91b6-bc1f-4a9a-9d1d-3cfc1e9975d8",
   "metadata": {
    "jp-MarkdownHeadingCollapsed": true,
    "tags": []
   },
   "source": [
    "### 1.2 Column Overview (From Kaggle)"
   ]
  },
  {
   "cell_type": "markdown",
   "id": "2dd35871-07d6-4cf1-87b4-bf8a93b40bb9",
   "metadata": {},
   "source": [
    "**rank**: _Position of the YouTube channel based on the number of subscribers_ \\\n",
    "**Youtuber**: _Name of the YouTube channel_ \\\n",
    "**subscribers**: _Number of subscribers to the channel_ \\\n",
    "**video views**: _Total views across all videos on the channel_ \\\n",
    "**category**: _Category or niche of the channel_ \\\n",
    "**Title**: _Title of the YouTube channel_ \\\n",
    "**uploads**: _Total number of videos uploaded on the channel_ \\\n",
    "**Country**: _Country where the YouTube channel originates_ \\\n",
    "**Abbreviation**: _Abbreviation of the country_ \\\n",
    "**channel_type**: _Type of the YouTube channel (e.g., individual, brand)_ \\\n",
    "**video_views_rank**: _Ranking of the channel based on total video views_ \\\n",
    "**country_rank**: _Ranking of the channel based on the number of subscribers within its country_ \\\n",
    "**channel_type_rank**: _Ranking of the channel based on its type (individual or brand)_ \\\n",
    "**video_views_for_the_last_30_days**: _Total video views in the last 30 days_ \\\n",
    "**lowest_monthly_earnings**: _Lowest estimated monthly earnings from the channel_ \\\n",
    "**highest_monthly_earnings**: _Highest estimated monthly earnings from the channel_ \\\n",
    "**lowest_yearly_earnings**: _Lowest estimated yearly earnings from the channel_ \\\n",
    "**highest_yearly_earnings**: _Highest estimated yearly earnings from the channel_ \\\n",
    "**subscribers_for_last_30_days**: _Number of new subscribers gained in the last 30 days_ \\\n",
    "**created_year**: _Year when the YouTube channel was created_ \\\n",
    "**created_month**: _Month when the YouTube channel was created_ \\\n",
    "**created_date**: _Exact date of the YouTube channel's creation_ \\\n",
    "**Gross tertiary education enrollment (%)**: _Gross tertiary education enrollment (%): Percentage of the population enrolled in tertiary education in the country_ \\\n",
    "**Population**: _Total population of the country_ \\\n",
    "**Unemployment rate**: _Unemployment rate in the country_ \\\n",
    "**Urban_population**: _Percentage of the population living in urban areas_ \\\n",
    "**Latitude**: _Latitude coordinate of the country's location_ \\\n",
    "**Longitude**: _Longitude coordinate of the country's location_ "
   ]
  },
  {
   "cell_type": "markdown",
   "id": "2f70c3eb-32a2-4c04-b2db-0ea4cdd8235f",
   "metadata": {
    "jp-MarkdownHeadingCollapsed": true,
    "tags": []
   },
   "source": [
    "### 1.3 Data Cleaning"
   ]
  },
  {
   "cell_type": "markdown",
   "id": "aefaa35e-d647-433f-9274-cc09d3585823",
   "metadata": {},
   "source": [
    "From playing around in the dataset, I saw that there were certain Youtuber's that were errors, you can see here as 'Music' at rank 6 is not a Youtuber, but possibly just a bug in reading a category of music.\n",
    "\n",
    "To single these out, I searched for video views less than 1, and it is pretty clear that these are errors since they have large amounts of subscribers with no earnings estimates or video views, with many NaN values"
   ]
  },
  {
   "cell_type": "code",
   "execution_count": 12,
   "id": "34d9b5f7-0b23-4660-9019-e124121d0a0b",
   "metadata": {
    "tags": []
   },
   "outputs": [
    {
     "data": {
      "text/html": [
       "<div>\n",
       "<style scoped>\n",
       "    .dataframe tbody tr th:only-of-type {\n",
       "        vertical-align: middle;\n",
       "    }\n",
       "\n",
       "    .dataframe tbody tr th {\n",
       "        vertical-align: top;\n",
       "    }\n",
       "\n",
       "    .dataframe thead th {\n",
       "        text-align: right;\n",
       "    }\n",
       "</style>\n",
       "<table border=\"1\" class=\"dataframe\">\n",
       "  <thead>\n",
       "    <tr style=\"text-align: right;\">\n",
       "      <th></th>\n",
       "      <th>rank</th>\n",
       "      <th>Youtuber</th>\n",
       "      <th>subscribers</th>\n",
       "      <th>video views</th>\n",
       "      <th>category</th>\n",
       "      <th>Title</th>\n",
       "      <th>uploads</th>\n",
       "      <th>Country</th>\n",
       "      <th>Abbreviation</th>\n",
       "      <th>channel_type</th>\n",
       "      <th>video_views_rank</th>\n",
       "      <th>country_rank</th>\n",
       "      <th>channel_type_rank</th>\n",
       "      <th>video_views_for_the_last_30_days</th>\n",
       "      <th>lowest_monthly_earnings</th>\n",
       "      <th>highest_monthly_earnings</th>\n",
       "      <th>lowest_yearly_earnings</th>\n",
       "      <th>highest_yearly_earnings</th>\n",
       "      <th>subscribers_for_last_30_days</th>\n",
       "      <th>created_year</th>\n",
       "      <th>created_month</th>\n",
       "      <th>created_date</th>\n",
       "      <th>Gross tertiary education enrollment (%)</th>\n",
       "      <th>Population</th>\n",
       "      <th>Unemployment rate</th>\n",
       "      <th>Urban_population</th>\n",
       "      <th>Latitude</th>\n",
       "      <th>Longitude</th>\n",
       "    </tr>\n",
       "  </thead>\n",
       "  <tbody>\n",
       "    <tr>\n",
       "      <th>1</th>\n",
       "      <td>2</td>\n",
       "      <td>YouTube Movies</td>\n",
       "      <td>170000000</td>\n",
       "      <td>0.0</td>\n",
       "      <td>Film &amp; Animation</td>\n",
       "      <td>youtubemovies</td>\n",
       "      <td>1</td>\n",
       "      <td>United States</td>\n",
       "      <td>US</td>\n",
       "      <td>Games</td>\n",
       "      <td>4055159.0</td>\n",
       "      <td>7670.0</td>\n",
       "      <td>7423.0</td>\n",
       "      <td>12.0</td>\n",
       "      <td>0.0</td>\n",
       "      <td>0.05</td>\n",
       "      <td>0.04</td>\n",
       "      <td>0.58</td>\n",
       "      <td>NaN</td>\n",
       "      <td>2006.0</td>\n",
       "      <td>Mar</td>\n",
       "      <td>5.0</td>\n",
       "      <td>88.2</td>\n",
       "      <td>328239523.0</td>\n",
       "      <td>14.7</td>\n",
       "      <td>270663028.0</td>\n",
       "      <td>37.09024</td>\n",
       "      <td>-95.712891</td>\n",
       "    </tr>\n",
       "    <tr>\n",
       "      <th>5</th>\n",
       "      <td>6</td>\n",
       "      <td>Music</td>\n",
       "      <td>119000000</td>\n",
       "      <td>0.0</td>\n",
       "      <td>NaN</td>\n",
       "      <td>Music</td>\n",
       "      <td>0</td>\n",
       "      <td>NaN</td>\n",
       "      <td>NaN</td>\n",
       "      <td>Music</td>\n",
       "      <td>4057944.0</td>\n",
       "      <td>NaN</td>\n",
       "      <td>NaN</td>\n",
       "      <td>NaN</td>\n",
       "      <td>0.0</td>\n",
       "      <td>0.00</td>\n",
       "      <td>0.00</td>\n",
       "      <td>0.00</td>\n",
       "      <td>NaN</td>\n",
       "      <td>2013.0</td>\n",
       "      <td>Sep</td>\n",
       "      <td>24.0</td>\n",
       "      <td>NaN</td>\n",
       "      <td>NaN</td>\n",
       "      <td>NaN</td>\n",
       "      <td>NaN</td>\n",
       "      <td>NaN</td>\n",
       "      <td>NaN</td>\n",
       "    </tr>\n",
       "    <tr>\n",
       "      <th>12</th>\n",
       "      <td>13</td>\n",
       "      <td>Gaming</td>\n",
       "      <td>93600000</td>\n",
       "      <td>0.0</td>\n",
       "      <td>NaN</td>\n",
       "      <td>Gaming</td>\n",
       "      <td>0</td>\n",
       "      <td>NaN</td>\n",
       "      <td>NaN</td>\n",
       "      <td>Games</td>\n",
       "      <td>4057944.0</td>\n",
       "      <td>NaN</td>\n",
       "      <td>1.0</td>\n",
       "      <td>NaN</td>\n",
       "      <td>0.0</td>\n",
       "      <td>0.00</td>\n",
       "      <td>0.00</td>\n",
       "      <td>0.00</td>\n",
       "      <td>NaN</td>\n",
       "      <td>2013.0</td>\n",
       "      <td>Dec</td>\n",
       "      <td>15.0</td>\n",
       "      <td>NaN</td>\n",
       "      <td>NaN</td>\n",
       "      <td>NaN</td>\n",
       "      <td>NaN</td>\n",
       "      <td>NaN</td>\n",
       "      <td>NaN</td>\n",
       "    </tr>\n",
       "    <tr>\n",
       "      <th>18</th>\n",
       "      <td>19</td>\n",
       "      <td>Sports</td>\n",
       "      <td>75000000</td>\n",
       "      <td>0.0</td>\n",
       "      <td>NaN</td>\n",
       "      <td>sports</td>\n",
       "      <td>3</td>\n",
       "      <td>United States</td>\n",
       "      <td>US</td>\n",
       "      <td>Entertainment</td>\n",
       "      <td>3898122.0</td>\n",
       "      <td>6266.0</td>\n",
       "      <td>5395.0</td>\n",
       "      <td>16.0</td>\n",
       "      <td>0.0</td>\n",
       "      <td>0.06</td>\n",
       "      <td>0.05</td>\n",
       "      <td>0.77</td>\n",
       "      <td>NaN</td>\n",
       "      <td>2006.0</td>\n",
       "      <td>Jan</td>\n",
       "      <td>30.0</td>\n",
       "      <td>88.2</td>\n",
       "      <td>328239523.0</td>\n",
       "      <td>14.7</td>\n",
       "      <td>270663028.0</td>\n",
       "      <td>37.09024</td>\n",
       "      <td>-95.712891</td>\n",
       "    </tr>\n",
       "    <tr>\n",
       "      <th>102</th>\n",
       "      <td>103</td>\n",
       "      <td>News</td>\n",
       "      <td>36300000</td>\n",
       "      <td>0.0</td>\n",
       "      <td>NaN</td>\n",
       "      <td>News</td>\n",
       "      <td>0</td>\n",
       "      <td>NaN</td>\n",
       "      <td>NaN</td>\n",
       "      <td>NaN</td>\n",
       "      <td>4057944.0</td>\n",
       "      <td>NaN</td>\n",
       "      <td>NaN</td>\n",
       "      <td>NaN</td>\n",
       "      <td>0.0</td>\n",
       "      <td>0.00</td>\n",
       "      <td>0.00</td>\n",
       "      <td>0.00</td>\n",
       "      <td>NaN</td>\n",
       "      <td>2013.0</td>\n",
       "      <td>Sep</td>\n",
       "      <td>9.0</td>\n",
       "      <td>NaN</td>\n",
       "      <td>NaN</td>\n",
       "      <td>NaN</td>\n",
       "      <td>NaN</td>\n",
       "      <td>NaN</td>\n",
       "      <td>NaN</td>\n",
       "    </tr>\n",
       "    <tr>\n",
       "      <th>173</th>\n",
       "      <td>174</td>\n",
       "      <td>Popular on YouTube</td>\n",
       "      <td>29300000</td>\n",
       "      <td>0.0</td>\n",
       "      <td>NaN</td>\n",
       "      <td>Popular on Youtube</td>\n",
       "      <td>3</td>\n",
       "      <td>NaN</td>\n",
       "      <td>NaN</td>\n",
       "      <td>Education</td>\n",
       "      <td>4019724.0</td>\n",
       "      <td>NaN</td>\n",
       "      <td>4847.0</td>\n",
       "      <td>1.0</td>\n",
       "      <td>0.0</td>\n",
       "      <td>0.00</td>\n",
       "      <td>0.00</td>\n",
       "      <td>0.05</td>\n",
       "      <td>NaN</td>\n",
       "      <td>2017.0</td>\n",
       "      <td>Aug</td>\n",
       "      <td>7.0</td>\n",
       "      <td>NaN</td>\n",
       "      <td>NaN</td>\n",
       "      <td>NaN</td>\n",
       "      <td>NaN</td>\n",
       "      <td>NaN</td>\n",
       "      <td>NaN</td>\n",
       "    </tr>\n",
       "    <tr>\n",
       "      <th>360</th>\n",
       "      <td>361</td>\n",
       "      <td>Minecraft - Topic</td>\n",
       "      <td>20900000</td>\n",
       "      <td>0.0</td>\n",
       "      <td>NaN</td>\n",
       "      <td>Minecraft - Topic</td>\n",
       "      <td>0</td>\n",
       "      <td>NaN</td>\n",
       "      <td>NaN</td>\n",
       "      <td>Games</td>\n",
       "      <td>4057944.0</td>\n",
       "      <td>NaN</td>\n",
       "      <td>24.0</td>\n",
       "      <td>NaN</td>\n",
       "      <td>0.0</td>\n",
       "      <td>0.00</td>\n",
       "      <td>0.00</td>\n",
       "      <td>0.00</td>\n",
       "      <td>300000.0</td>\n",
       "      <td>2013.0</td>\n",
       "      <td>Dec</td>\n",
       "      <td>20.0</td>\n",
       "      <td>NaN</td>\n",
       "      <td>NaN</td>\n",
       "      <td>NaN</td>\n",
       "      <td>NaN</td>\n",
       "      <td>NaN</td>\n",
       "      <td>NaN</td>\n",
       "    </tr>\n",
       "    <tr>\n",
       "      <th>592</th>\n",
       "      <td>593</td>\n",
       "      <td>Live</td>\n",
       "      <td>16100000</td>\n",
       "      <td>0.0</td>\n",
       "      <td>NaN</td>\n",
       "      <td>Live</td>\n",
       "      <td>0</td>\n",
       "      <td>NaN</td>\n",
       "      <td>NaN</td>\n",
       "      <td>NaN</td>\n",
       "      <td>4057944.0</td>\n",
       "      <td>NaN</td>\n",
       "      <td>NaN</td>\n",
       "      <td>NaN</td>\n",
       "      <td>0.0</td>\n",
       "      <td>0.00</td>\n",
       "      <td>0.00</td>\n",
       "      <td>0.00</td>\n",
       "      <td>NaN</td>\n",
       "      <td>2015.0</td>\n",
       "      <td>Jan</td>\n",
       "      <td>13.0</td>\n",
       "      <td>NaN</td>\n",
       "      <td>NaN</td>\n",
       "      <td>NaN</td>\n",
       "      <td>NaN</td>\n",
       "      <td>NaN</td>\n",
       "      <td>NaN</td>\n",
       "    </tr>\n",
       "  </tbody>\n",
       "</table>\n",
       "</div>"
      ],
      "text/plain": [
       "     rank            Youtuber  subscribers  video views          category  \\\n",
       "1       2      YouTube Movies    170000000          0.0  Film & Animation   \n",
       "5       6               Music    119000000          0.0               NaN   \n",
       "12     13              Gaming     93600000          0.0               NaN   \n",
       "18     19              Sports     75000000          0.0               NaN   \n",
       "102   103                News     36300000          0.0               NaN   \n",
       "173   174  Popular on YouTube     29300000          0.0               NaN   \n",
       "360   361   Minecraft - Topic     20900000          0.0               NaN   \n",
       "592   593                Live     16100000          0.0               NaN   \n",
       "\n",
       "                  Title  uploads        Country Abbreviation   channel_type  \\\n",
       "1         youtubemovies        1  United States           US          Games   \n",
       "5                 Music        0            NaN          NaN          Music   \n",
       "12               Gaming        0            NaN          NaN          Games   \n",
       "18               sports        3  United States           US  Entertainment   \n",
       "102                News        0            NaN          NaN            NaN   \n",
       "173  Popular on Youtube        3            NaN          NaN      Education   \n",
       "360   Minecraft - Topic        0            NaN          NaN          Games   \n",
       "592                Live        0            NaN          NaN            NaN   \n",
       "\n",
       "     video_views_rank  country_rank  channel_type_rank  \\\n",
       "1           4055159.0        7670.0             7423.0   \n",
       "5           4057944.0           NaN                NaN   \n",
       "12          4057944.0           NaN                1.0   \n",
       "18          3898122.0        6266.0             5395.0   \n",
       "102         4057944.0           NaN                NaN   \n",
       "173         4019724.0           NaN             4847.0   \n",
       "360         4057944.0           NaN               24.0   \n",
       "592         4057944.0           NaN                NaN   \n",
       "\n",
       "     video_views_for_the_last_30_days  lowest_monthly_earnings  \\\n",
       "1                                12.0                      0.0   \n",
       "5                                 NaN                      0.0   \n",
       "12                                NaN                      0.0   \n",
       "18                               16.0                      0.0   \n",
       "102                               NaN                      0.0   \n",
       "173                               1.0                      0.0   \n",
       "360                               NaN                      0.0   \n",
       "592                               NaN                      0.0   \n",
       "\n",
       "     highest_monthly_earnings  lowest_yearly_earnings  \\\n",
       "1                        0.05                    0.04   \n",
       "5                        0.00                    0.00   \n",
       "12                       0.00                    0.00   \n",
       "18                       0.06                    0.05   \n",
       "102                      0.00                    0.00   \n",
       "173                      0.00                    0.00   \n",
       "360                      0.00                    0.00   \n",
       "592                      0.00                    0.00   \n",
       "\n",
       "     highest_yearly_earnings  subscribers_for_last_30_days  created_year  \\\n",
       "1                       0.58                           NaN        2006.0   \n",
       "5                       0.00                           NaN        2013.0   \n",
       "12                      0.00                           NaN        2013.0   \n",
       "18                      0.77                           NaN        2006.0   \n",
       "102                     0.00                           NaN        2013.0   \n",
       "173                     0.05                           NaN        2017.0   \n",
       "360                     0.00                      300000.0        2013.0   \n",
       "592                     0.00                           NaN        2015.0   \n",
       "\n",
       "    created_month  created_date  Gross tertiary education enrollment (%)  \\\n",
       "1             Mar           5.0                                     88.2   \n",
       "5             Sep          24.0                                      NaN   \n",
       "12            Dec          15.0                                      NaN   \n",
       "18            Jan          30.0                                     88.2   \n",
       "102           Sep           9.0                                      NaN   \n",
       "173           Aug           7.0                                      NaN   \n",
       "360           Dec          20.0                                      NaN   \n",
       "592           Jan          13.0                                      NaN   \n",
       "\n",
       "      Population  Unemployment rate  Urban_population  Latitude  Longitude  \n",
       "1    328239523.0               14.7       270663028.0  37.09024 -95.712891  \n",
       "5            NaN                NaN               NaN       NaN        NaN  \n",
       "12           NaN                NaN               NaN       NaN        NaN  \n",
       "18   328239523.0               14.7       270663028.0  37.09024 -95.712891  \n",
       "102          NaN                NaN               NaN       NaN        NaN  \n",
       "173          NaN                NaN               NaN       NaN        NaN  \n",
       "360          NaN                NaN               NaN       NaN        NaN  \n",
       "592          NaN                NaN               NaN       NaN        NaN  "
      ]
     },
     "execution_count": 12,
     "metadata": {},
     "output_type": "execute_result"
    }
   ],
   "source": [
    "rawdf[rawdf['video views'] < 1]"
   ]
  },
  {
   "cell_type": "code",
   "execution_count": 11,
   "id": "4bf4f5cf-6459-4fa7-b18b-e7b18dd6bb10",
   "metadata": {
    "tags": []
   },
   "outputs": [],
   "source": [
    "df = rawdf.drop(rawdf[rawdf['video views'] < 1].index)"
   ]
  },
  {
   "cell_type": "markdown",
   "id": "e62b7eb4-bf0a-4eae-9e9d-901f9a387c1f",
   "metadata": {},
   "source": [
    "After further exploration, we can see that channel_type and category are different."
   ]
  },
  {
   "cell_type": "code",
   "execution_count": 18,
   "id": "d41912a8-bf13-462f-bff3-70a3c4b6e553",
   "metadata": {
    "tags": []
   },
   "outputs": [
    {
     "data": {
      "text/plain": [
       "array(['Music', 'Entertainment', 'Education', 'Shows', 'People & Blogs',\n",
       "       'Gaming', 'Sports', 'Film & Animation', 'Howto & Style',\n",
       "       'News & Politics', 'Comedy', 'Trailers', 'Nonprofits & Activism',\n",
       "       nan, 'Science & Technology', 'Movies', 'Pets & Animals',\n",
       "       'Autos & Vehicles', 'Travel & Events'], dtype=object)"
      ]
     },
     "execution_count": 18,
     "metadata": {},
     "output_type": "execute_result"
    }
   ],
   "source": [
    "df.category.unique()"
   ]
  },
  {
   "cell_type": "code",
   "execution_count": 19,
   "id": "b491726d-6840-4b08-aa8a-47ca9dce58a5",
   "metadata": {
    "tags": []
   },
   "outputs": [
    {
     "data": {
      "text/plain": [
       "array(['Music', 'Entertainment', 'Education', 'People', 'Sports', 'Film',\n",
       "       'News', nan, 'Games', 'Comedy', 'Howto', 'Nonprofit', 'Autos',\n",
       "       'Tech', 'Animals'], dtype=object)"
      ]
     },
     "execution_count": 19,
     "metadata": {},
     "output_type": "execute_result"
    }
   ],
   "source": [
    "df.channel_type.unique()"
   ]
  },
  {
   "cell_type": "markdown",
   "id": "19a14d2b-d94a-4c7a-ac00-912e7b6c5d6b",
   "metadata": {},
   "source": [
    "In order to remove the NaN values, and get accurate depiction of the category/channel type, I researched what the category types are for YouTube, and it was convenient that category was close to fully accurate, with only a few NaN values which I was able to take over from channel_type where missing. Alongside that, I had to do a few individual corrections. I also spot checked randomly to see if channels were lining up."
   ]
  },
  {
   "cell_type": "code",
   "execution_count": 20,
   "id": "e6dbf89f-88a5-4479-afc6-625ae433fa49",
   "metadata": {
    "tags": []
   },
   "outputs": [],
   "source": [
    "#created a function to take in an incorrect string from channel_type and replace with the correct style for category, for those NaN values.\n",
    "\n",
    "def cat_cleaner(string):\n",
    "    if string == 'Animals': \n",
    "        return 'Pets & Animals'\n",
    "    elif string == 'Autos': \n",
    "        return 'Autos & Vehicles'\n",
    "    elif string == 'Film': \n",
    "        return 'Film & Animation'\n",
    "    elif string == 'Games': \n",
    "        return 'Gaming'\n",
    "    elif string == 'Howto': \n",
    "        return 'Howto & Style'\n",
    "    elif string == 'News': \n",
    "        return 'News & Politics'\n",
    "    elif string == 'Nonprofit': \n",
    "        return 'Nonprofits & Activism'\n",
    "    elif string == 'People': \n",
    "        return 'People & Blogs'\n",
    "    elif string == 'Tech': \n",
    "        return 'Science & Technology'\n",
    "    else:\n",
    "        return string "
   ]
  },
  {
   "cell_type": "code",
   "execution_count": 21,
   "id": "76f73edb-ae38-4476-a7dc-ff9fdd352277",
   "metadata": {
    "tags": []
   },
   "outputs": [],
   "source": [
    "for index, row in df.iterrows():\n",
    "    if df.category.isnull()[index]:\n",
    "        df.category[index] = cat_cleaner(df.channel_type[index])"
   ]
  },
  {
   "cell_type": "code",
   "execution_count": 22,
   "id": "0f7232b6-8331-43d7-bd57-b4833740dfaf",
   "metadata": {
    "tags": []
   },
   "outputs": [],
   "source": [
    "#adjusting a few specific cases I saw in the top few records\n",
    "df[df.Youtuber == 'Busy Fun Ltd']['category'].index\n",
    "df.at[445, 'category'] = 'Comedy'\n",
    "df[df.Youtuber == 'KL BRO Biju Rithvik'].Country.index\n",
    "df.at[302, 'Country'] = 'India'\n",
    "df[df.Youtuber == 'BeatboxJCOP'].Country.index\n",
    "df.at[483, 'Country'] = 'South Korea'"
   ]
  },
  {
   "cell_type": "markdown",
   "id": "bc0c64da-0d73-451e-be35-5eb2d9ca89a3",
   "metadata": {
    "jp-MarkdownHeadingCollapsed": true,
    "tags": []
   },
   "source": [
    "### 1.4 Added Columns"
   ]
  },
  {
   "cell_type": "markdown",
   "id": "119f78f0-d2cb-40fd-b400-3c0941d13c55",
   "metadata": {},
   "source": [
    "I will add a couple columns to the dataframe that I thought would be interesting to analyze later in the project."
   ]
  },
  {
   "cell_type": "markdown",
   "id": "53cac957-0524-40a1-ab58-04e9ff1403d0",
   "metadata": {},
   "source": [
    "**youtuber_count**: _Each youtuber is assigned a 1, this is used for aggregate groupby objects to record the amount of youtubers_ \\\n",
    "**earnings_per_sub**: _Highest Yearly Earnings divided by subscribers, a metric to how much a youtuber is estimated to make with the addition of 1 subscriber_ \\\n",
    "**links**: _The amount of links in the youtuber about page, I manually went on the pages of the top 10 youtubers to do a small analysis_ \\\n",
    "**overall_view_conversion**: _Subscribers divided by the amount of video views, looking to show how many video views it takes to convert 1 subscriber_ \\\n",
    "**last_30day_view_conversion**: _View conversion for the last 30 days_\n"
   ]
  },
  {
   "cell_type": "code",
   "execution_count": 26,
   "id": "16a4bb72-c69d-4455-b32c-7710c69ef57e",
   "metadata": {
    "tags": []
   },
   "outputs": [],
   "source": [
    "# adding Youtuber Count to analyze how many Youtubers in certain categories or countries\n",
    "df['x'] = 1\n",
    "df = df.rename({'x':'youtuber_count'},axis=1)"
   ]
  },
  {
   "cell_type": "code",
   "execution_count": 28,
   "id": "3d254f7e-f6fa-47ba-a713-015f30644b87",
   "metadata": {
    "tags": []
   },
   "outputs": [],
   "source": [
    "#seeing how much a youtuber is estimated to make per subscriber\n",
    "df['earnings_per_sub'] = df.loc[:,'highest_yearly_earnings'] /df.loc[:,'subscribers'] "
   ]
  },
  {
   "cell_type": "code",
   "execution_count": 27,
   "id": "41426fde-1488-4ae8-8de3-bc4e8b464165",
   "metadata": {
    "tags": []
   },
   "outputs": [],
   "source": [
    "#adding links to top 10 youtubers to see what impact a youtuber receives when adding n amount of links in their about page\n",
    "#df['links'] = 0 #adding a new column 'links' and setting to 0, for this project I will manually add the links but future works could be webscraped\n",
    "df.at[df[df.Youtuber == 'T-Series'].links.index[0],'links'] = 5\n",
    "df.at[df[df.Youtuber == \"MrBeast\"].links.index[0],'links'] = 2\n",
    "df.at[df[df.Youtuber == \"Cocomelon - Nursery Rhymes\"].links.index[0],'links'] = 6\n",
    "df.at[df[df.Youtuber == \"SET India\"].links.index[0],'links'] = 5\n",
    "df.at[df[df.Youtuber == \"ýýý Kids Diana Show\"].links.index[0],'links'] = 8\n",
    "df.at[df[df.Youtuber == \"PewDiePie\"].links.index[0],'links'] = 2\n",
    "df.at[df[df.Youtuber == \"Like Nastya\"].links.index[0],'links'] = 5\n",
    "df.at[df[df.Youtuber == \"Vlad and Niki\"].links.index[0],'links'] = 2\n",
    "df.at[df[df.Youtuber == \"Zee Music Company\"].links.index[0],'links'] = 4\n",
    "df.at[df[df.Youtuber == \"WWE\"].links.index[0],'links'] = 6\n",
    "df.at[df[df.Youtuber == \"Zee TV\"].links.index[0],'links'] = 2\n",
    "df.at[df[df.Youtuber ==\"StarPlus\"].links.index[0],'links'] = 4\n",
    "df.at[df[df.Youtuber ==\"Sony SAB\"].links.index[0],'links'] = 5\n",
    "df.at[df[df.Youtuber ==\"GR6 EXPLODE\"].links.index[0],'links'] = 1\n",
    "df.at[df[df.Youtuber ==\"ýýýýýýýýý KIMPRO\"].links.index[0],'links'] = 1\n",
    "df.at[df[df.Youtuber ==\"DaFuq!?Boom!\"].links.index[0],'links'] = 3\n",
    "df.at[df[df.Youtuber ==\"ViralHog\"].links.index[0],'links'] = 7\n",
    "df.at[df[df.Youtuber ==\"KL BRO Biju Rithvik\"].links.index[0],'links'] = 0\n",
    "df.at[df[df.Youtuber ==\"GH'S\"].links.index[0],'links'] = 4\n",
    "df.at[df[df.Youtuber ==\"Filaretiki\"].links.index[0],'links'] = 3\n",
    "df.at[df[df.Youtuber ==\"BeatboxJCOP\"].links.index[0],'links'] = 3\n"
   ]
  },
  {
   "cell_type": "code",
   "execution_count": 30,
   "id": "f37d1d48-468a-4c3a-bf17-d633e5abdb66",
   "metadata": {
    "tags": []
   },
   "outputs": [],
   "source": [
    "#adding view conversions to see how many views it takes to convert to subscribers\n",
    "df['overall_view_conversion'] = df.loc[:,'subscribers'] /df.loc[:,'video views'] \n",
    "df['last_30day_view_conversion'] = df.loc[:,'subscribers_for_last_30_days'] /df.loc[:,'video_views_for_the_last_30_days'] "
   ]
  },
  {
   "cell_type": "markdown",
   "id": "80bdb4e9-fbd0-4502-80be-bb9501378074",
   "metadata": {
    "tags": []
   },
   "source": [
    "# 2.0 Country EDA\n",
    "\n",
    "Country was one of the variables that first caught my attention. I know YouTube is big in the US, but it will be interesting to see what other countries have a significant YouTube presence. It will also be interesting to see how successful creators are depending on their country or if opportunity is available everywhere to be a YouTube creator. YouTube has its own factors that personalize content for viewers, and country is sure to have some part in that. Let's see what the data says."
   ]
  },
  {
   "cell_type": "markdown",
   "id": "7a96679c-73b4-499a-bc87-b55e411bed0c",
   "metadata": {},
   "source": [
    "### 2.1 Creating countrydf (Groupby Country)"
   ]
  },
  {
   "cell_type": "code",
   "execution_count": 36,
   "id": "2e8e843a-860d-4961-a265-46e92fab6e1d",
   "metadata": {
    "tags": []
   },
   "outputs": [
    {
     "name": "stderr",
     "output_type": "stream",
     "text": [
      "/var/folders/bf/8_s8z7kn3l979_b34wzrg6yr0000gn/T/ipykernel_54286/3839819257.py:1: FutureWarning:\n",
      "\n",
      "The default value of numeric_only in DataFrameGroupBy.sum is deprecated. In a future version, numeric_only will default to False. Either specify numeric_only or select only columns which should be valid for the function.\n",
      "\n"
     ]
    },
    {
     "data": {
      "text/html": [
       "<div>\n",
       "<style scoped>\n",
       "    .dataframe tbody tr th:only-of-type {\n",
       "        vertical-align: middle;\n",
       "    }\n",
       "\n",
       "    .dataframe tbody tr th {\n",
       "        vertical-align: top;\n",
       "    }\n",
       "\n",
       "    .dataframe thead th {\n",
       "        text-align: right;\n",
       "    }\n",
       "</style>\n",
       "<table border=\"1\" class=\"dataframe\">\n",
       "  <thead>\n",
       "    <tr style=\"text-align: right;\">\n",
       "      <th></th>\n",
       "      <th>rank</th>\n",
       "      <th>subscribers</th>\n",
       "      <th>video views</th>\n",
       "      <th>uploads</th>\n",
       "      <th>video_views_rank</th>\n",
       "      <th>country_rank</th>\n",
       "      <th>channel_type_rank</th>\n",
       "      <th>video_views_for_the_last_30_days</th>\n",
       "      <th>lowest_monthly_earnings</th>\n",
       "      <th>highest_monthly_earnings</th>\n",
       "      <th>lowest_yearly_earnings</th>\n",
       "      <th>highest_yearly_earnings</th>\n",
       "      <th>subscribers_for_last_30_days</th>\n",
       "      <th>created_year</th>\n",
       "      <th>created_date</th>\n",
       "      <th>Gross tertiary education enrollment (%)</th>\n",
       "      <th>Population</th>\n",
       "      <th>Unemployment rate</th>\n",
       "      <th>Urban_population</th>\n",
       "      <th>Latitude</th>\n",
       "      <th>Longitude</th>\n",
       "      <th>links</th>\n",
       "      <th>youtuber_count</th>\n",
       "      <th>earnings_per_sub</th>\n",
       "      <th>overall_view_conversion</th>\n",
       "      <th>last_30day_view_conversion</th>\n",
       "      <th>sizer</th>\n",
       "    </tr>\n",
       "    <tr>\n",
       "      <th>Country</th>\n",
       "      <th></th>\n",
       "      <th></th>\n",
       "      <th></th>\n",
       "      <th></th>\n",
       "      <th></th>\n",
       "      <th></th>\n",
       "      <th></th>\n",
       "      <th></th>\n",
       "      <th></th>\n",
       "      <th></th>\n",
       "      <th></th>\n",
       "      <th></th>\n",
       "      <th></th>\n",
       "      <th></th>\n",
       "      <th></th>\n",
       "      <th></th>\n",
       "      <th></th>\n",
       "      <th></th>\n",
       "      <th></th>\n",
       "      <th></th>\n",
       "      <th></th>\n",
       "      <th></th>\n",
       "      <th></th>\n",
       "      <th></th>\n",
       "      <th></th>\n",
       "      <th></th>\n",
       "      <th></th>\n",
       "    </tr>\n",
       "  </thead>\n",
       "  <tbody>\n",
       "    <tr>\n",
       "      <th>United States</th>\n",
       "      <td>150984</td>\n",
       "      <td>7084500000</td>\n",
       "      <td>3.690292e+12</td>\n",
       "      <td>1299605</td>\n",
       "      <td>68829154.0</td>\n",
       "      <td>153348.0</td>\n",
       "      <td>126564.0</td>\n",
       "      <td>5.362141e+10</td>\n",
       "      <td>11351605.11</td>\n",
       "      <td>1.816076e+08</td>\n",
       "      <td>1.360415e+08</td>\n",
       "      <td>2.179397e+09</td>\n",
       "      <td>68915203.0</td>\n",
       "      <td>623631.0</td>\n",
       "      <td>4623.0</td>\n",
       "      <td>27430.2</td>\n",
       "      <td>1.020825e+11</td>\n",
       "      <td>4571.70</td>\n",
       "      <td>8.417620e+10</td>\n",
       "      <td>11535.064640</td>\n",
       "      <td>-29766.709101</td>\n",
       "      <td>37</td>\n",
       "      <td>311</td>\n",
       "      <td>96.851000</td>\n",
       "      <td>8808.979858</td>\n",
       "      <td>1.789411</td>\n",
       "      <td>1</td>\n",
       "    </tr>\n",
       "    <tr>\n",
       "      <th>India</th>\n",
       "      <td>83531</td>\n",
       "      <td>4333400000</td>\n",
       "      <td>2.299037e+12</td>\n",
       "      <td>3730053</td>\n",
       "      <td>17644342.0</td>\n",
       "      <td>37002.0</td>\n",
       "      <td>22688.0</td>\n",
       "      <td>3.974132e+10</td>\n",
       "      <td>9840719.25</td>\n",
       "      <td>1.572862e+08</td>\n",
       "      <td>1.179759e+08</td>\n",
       "      <td>1.889354e+09</td>\n",
       "      <td>59740000.0</td>\n",
       "      <td>340309.0</td>\n",
       "      <td>2711.0</td>\n",
       "      <td>4720.8</td>\n",
       "      <td>2.295582e+11</td>\n",
       "      <td>900.48</td>\n",
       "      <td>7.913330e+10</td>\n",
       "      <td>3459.738912</td>\n",
       "      <td>13265.763840</td>\n",
       "      <td>25</td>\n",
       "      <td>169</td>\n",
       "      <td>69.903893</td>\n",
       "      <td>1.308250</td>\n",
       "      <td>0.397329</td>\n",
       "      <td>1</td>\n",
       "    </tr>\n",
       "    <tr>\n",
       "      <th>Brazil</th>\n",
       "      <td>36187</td>\n",
       "      <td>1221800000</td>\n",
       "      <td>4.812090e+11</td>\n",
       "      <td>168178</td>\n",
       "      <td>4293900.0</td>\n",
       "      <td>6961.0</td>\n",
       "      <td>9950.0</td>\n",
       "      <td>1.383949e+10</td>\n",
       "      <td>1811314.00</td>\n",
       "      <td>2.884909e+07</td>\n",
       "      <td>2.177564e+07</td>\n",
       "      <td>3.478070e+08</td>\n",
       "      <td>7200000.0</td>\n",
       "      <td>122765.0</td>\n",
       "      <td>1010.0</td>\n",
       "      <td>3180.6</td>\n",
       "      <td>1.317868e+10</td>\n",
       "      <td>748.96</td>\n",
       "      <td>1.136098e+10</td>\n",
       "      <td>-882.570248</td>\n",
       "      <td>-3219.367360</td>\n",
       "      <td>1</td>\n",
       "      <td>62</td>\n",
       "      <td>16.656028</td>\n",
       "      <td>0.327876</td>\n",
       "      <td>0.058896</td>\n",
       "      <td>1</td>\n",
       "    </tr>\n",
       "    <tr>\n",
       "      <th>United Kingdom</th>\n",
       "      <td>22111</td>\n",
       "      <td>917400000</td>\n",
       "      <td>4.305665e+11</td>\n",
       "      <td>86816</td>\n",
       "      <td>10830787.0</td>\n",
       "      <td>12581.0</td>\n",
       "      <td>19156.0</td>\n",
       "      <td>3.664467e+09</td>\n",
       "      <td>916087.48</td>\n",
       "      <td>1.464408e+07</td>\n",
       "      <td>1.100671e+07</td>\n",
       "      <td>1.759100e+08</td>\n",
       "      <td>4801130.0</td>\n",
       "      <td>86454.0</td>\n",
       "      <td>712.0</td>\n",
       "      <td>2580.0</td>\n",
       "      <td>2.873879e+09</td>\n",
       "      <td>165.55</td>\n",
       "      <td>2.404058e+09</td>\n",
       "      <td>2381.256193</td>\n",
       "      <td>-147.746839</td>\n",
       "      <td>0</td>\n",
       "      <td>43</td>\n",
       "      <td>9.207987</td>\n",
       "      <td>0.122947</td>\n",
       "      <td>0.144399</td>\n",
       "      <td>1</td>\n",
       "    </tr>\n",
       "    <tr>\n",
       "      <th>Mexico</th>\n",
       "      <td>18527</td>\n",
       "      <td>626900000</td>\n",
       "      <td>1.982199e+11</td>\n",
       "      <td>33410</td>\n",
       "      <td>15009450.0</td>\n",
       "      <td>17159.0</td>\n",
       "      <td>23770.0</td>\n",
       "      <td>1.860700e+09</td>\n",
       "      <td>449684.00</td>\n",
       "      <td>7.218781e+06</td>\n",
       "      <td>5.388860e+06</td>\n",
       "      <td>8.625057e+07</td>\n",
       "      <td>3000000.0</td>\n",
       "      <td>66457.0</td>\n",
       "      <td>512.0</td>\n",
       "      <td>1326.6</td>\n",
       "      <td>4.158463e+09</td>\n",
       "      <td>112.86</td>\n",
       "      <td>3.386686e+09</td>\n",
       "      <td>779.938533</td>\n",
       "      <td>-3384.241872</td>\n",
       "      <td>0</td>\n",
       "      <td>33</td>\n",
       "      <td>5.277333</td>\n",
       "      <td>0.153290</td>\n",
       "      <td>0.082467</td>\n",
       "      <td>1</td>\n",
       "    </tr>\n",
       "  </tbody>\n",
       "</table>\n",
       "</div>"
      ],
      "text/plain": [
       "                  rank  subscribers   video views  uploads  video_views_rank  \\\n",
       "Country                                                                        \n",
       "United States   150984   7084500000  3.690292e+12  1299605        68829154.0   \n",
       "India            83531   4333400000  2.299037e+12  3730053        17644342.0   \n",
       "Brazil           36187   1221800000  4.812090e+11   168178         4293900.0   \n",
       "United Kingdom   22111    917400000  4.305665e+11    86816        10830787.0   \n",
       "Mexico           18527    626900000  1.982199e+11    33410        15009450.0   \n",
       "\n",
       "                country_rank  channel_type_rank  \\\n",
       "Country                                           \n",
       "United States       153348.0           126564.0   \n",
       "India                37002.0            22688.0   \n",
       "Brazil                6961.0             9950.0   \n",
       "United Kingdom       12581.0            19156.0   \n",
       "Mexico               17159.0            23770.0   \n",
       "\n",
       "                video_views_for_the_last_30_days  lowest_monthly_earnings  \\\n",
       "Country                                                                     \n",
       "United States                       5.362141e+10              11351605.11   \n",
       "India                               3.974132e+10               9840719.25   \n",
       "Brazil                              1.383949e+10               1811314.00   \n",
       "United Kingdom                      3.664467e+09                916087.48   \n",
       "Mexico                              1.860700e+09                449684.00   \n",
       "\n",
       "                highest_monthly_earnings  lowest_yearly_earnings  \\\n",
       "Country                                                            \n",
       "United States               1.816076e+08            1.360415e+08   \n",
       "India                       1.572862e+08            1.179759e+08   \n",
       "Brazil                      2.884909e+07            2.177564e+07   \n",
       "United Kingdom              1.464408e+07            1.100671e+07   \n",
       "Mexico                      7.218781e+06            5.388860e+06   \n",
       "\n",
       "                highest_yearly_earnings  subscribers_for_last_30_days  \\\n",
       "Country                                                                 \n",
       "United States              2.179397e+09                    68915203.0   \n",
       "India                      1.889354e+09                    59740000.0   \n",
       "Brazil                     3.478070e+08                     7200000.0   \n",
       "United Kingdom             1.759100e+08                     4801130.0   \n",
       "Mexico                     8.625057e+07                     3000000.0   \n",
       "\n",
       "                created_year  created_date  \\\n",
       "Country                                      \n",
       "United States       623631.0        4623.0   \n",
       "India               340309.0        2711.0   \n",
       "Brazil              122765.0        1010.0   \n",
       "United Kingdom       86454.0         712.0   \n",
       "Mexico               66457.0         512.0   \n",
       "\n",
       "                Gross tertiary education enrollment (%)    Population  \\\n",
       "Country                                                                 \n",
       "United States                                   27430.2  1.020825e+11   \n",
       "India                                            4720.8  2.295582e+11   \n",
       "Brazil                                           3180.6  1.317868e+10   \n",
       "United Kingdom                                   2580.0  2.873879e+09   \n",
       "Mexico                                           1326.6  4.158463e+09   \n",
       "\n",
       "                Unemployment rate  Urban_population      Latitude  \\\n",
       "Country                                                             \n",
       "United States             4571.70      8.417620e+10  11535.064640   \n",
       "India                      900.48      7.913330e+10   3459.738912   \n",
       "Brazil                     748.96      1.136098e+10   -882.570248   \n",
       "United Kingdom             165.55      2.404058e+09   2381.256193   \n",
       "Mexico                     112.86      3.386686e+09    779.938533   \n",
       "\n",
       "                   Longitude  links  youtuber_count  earnings_per_sub  \\\n",
       "Country                                                                 \n",
       "United States  -29766.709101     37             311         96.851000   \n",
       "India           13265.763840     25             169         69.903893   \n",
       "Brazil          -3219.367360      1              62         16.656028   \n",
       "United Kingdom   -147.746839      0              43          9.207987   \n",
       "Mexico          -3384.241872      0              33          5.277333   \n",
       "\n",
       "                overall_view_conversion  last_30day_view_conversion  sizer  \n",
       "Country                                                                     \n",
       "United States               8808.979858                    1.789411      1  \n",
       "India                          1.308250                    0.397329      1  \n",
       "Brazil                         0.327876                    0.058896      1  \n",
       "United Kingdom                 0.122947                    0.144399      1  \n",
       "Mexico                         0.153290                    0.082467      1  "
      ]
     },
     "execution_count": 36,
     "metadata": {},
     "output_type": "execute_result"
    }
   ],
   "source": [
    "countrydf = df.groupby('Country').sum().sort_values('subscribers',ascending=False)\n",
    "countrydf['sizer'] = 1 #added this to help with sizing in plotly express scatterplots\n",
    "countrydf.head()"
   ]
  },
  {
   "cell_type": "markdown",
   "id": "8bd5acb9-7de1-48d1-8291-a91e0380dec1",
   "metadata": {},
   "source": [
    "Just a quick look we can see that the US and India have a massive amount of subscribers and highest yearly earnings as compared to the next few."
   ]
  },
  {
   "cell_type": "markdown",
   "id": "5817f60d-33ed-4c74-bff8-24584cd0f169",
   "metadata": {
    "tags": []
   },
   "source": [
    "### 2.2 Country Visualizations"
   ]
  },
  {
   "cell_type": "markdown",
   "id": "1d4d3172-7c56-4d02-ae14-c44baf8de9fe",
   "metadata": {},
   "source": [
    "I wanted to see the overall trend of countries in respect to subscribers and highest yearly earnings visibily, as viewing in a dataframe can be difficult."
   ]
  },
  {
   "cell_type": "code",
   "execution_count": 109,
   "id": "b5b90187-9e4f-4e04-b4c5-8c6852222375",
   "metadata": {
    "tags": []
   },
   "outputs": [
    {
     "data": {
      "application/vnd.plotly.v1+json": {
       "config": {
        "plotlyServerURL": "https://plot.ly"
       },
       "data": [
        {
         "hovertemplate": "color=United States<br>Total Country Subscribers=%{x}<br>Highest Yearly Earnings=%{y}<br>sizer=%{marker.size}<extra></extra>",
         "legendgroup": "United States",
         "marker": {
          "color": "#636efa",
          "size": [
           1
          ],
          "sizemode": "area",
          "sizeref": 0.0064,
          "symbol": "circle"
         },
         "mode": "markers",
         "name": "United States",
         "orientation": "v",
         "showlegend": true,
         "type": "scatter",
         "x": [
          7084500000
         ],
         "xaxis": "x",
         "y": [
          2179396599.33
         ],
         "yaxis": "y"
        },
        {
         "hovertemplate": "color=India<br>Total Country Subscribers=%{x}<br>Highest Yearly Earnings=%{y}<br>sizer=%{marker.size}<extra></extra>",
         "legendgroup": "India",
         "marker": {
          "color": "#EF553B",
          "size": [
           1
          ],
          "sizemode": "area",
          "sizeref": 0.0064,
          "symbol": "circle"
         },
         "mode": "markers",
         "name": "India",
         "orientation": "v",
         "showlegend": true,
         "type": "scatter",
         "x": [
          4333400000
         ],
         "xaxis": "x",
         "y": [
          1889353748.92
         ],
         "yaxis": "y"
        },
        {
         "hovertemplate": "color=Brazil<br>Total Country Subscribers=%{x}<br>Highest Yearly Earnings=%{y}<br>sizer=%{marker.size}<extra></extra>",
         "legendgroup": "Brazil",
         "marker": {
          "color": "#00cc96",
          "size": [
           1
          ],
          "sizemode": "area",
          "sizeref": 0.0064,
          "symbol": "circle"
         },
         "mode": "markers",
         "name": "Brazil",
         "orientation": "v",
         "showlegend": true,
         "type": "scatter",
         "x": [
          1221800000
         ],
         "xaxis": "x",
         "y": [
          347807000
         ],
         "yaxis": "y"
        },
        {
         "hovertemplate": "color=United Kingdom<br>Total Country Subscribers=%{x}<br>Highest Yearly Earnings=%{y}<br>sizer=%{marker.size}<extra></extra>",
         "legendgroup": "United Kingdom",
         "marker": {
          "color": "#ab63fa",
          "size": [
           1
          ],
          "sizemode": "area",
          "sizeref": 0.0064,
          "symbol": "circle"
         },
         "mode": "markers",
         "name": "United Kingdom",
         "orientation": "v",
         "showlegend": true,
         "type": "scatter",
         "x": [
          917400000
         ],
         "xaxis": "x",
         "y": [
          175909994.05
         ],
         "yaxis": "y"
        },
        {
         "hovertemplate": "color=Mexico<br>Total Country Subscribers=%{x}<br>Highest Yearly Earnings=%{y}<br>sizer=%{marker.size}<extra></extra>",
         "legendgroup": "Mexico",
         "marker": {
          "color": "#FFA15A",
          "size": [
           1
          ],
          "sizemode": "area",
          "sizeref": 0.0064,
          "symbol": "circle"
         },
         "mode": "markers",
         "name": "Mexico",
         "orientation": "v",
         "showlegend": true,
         "type": "scatter",
         "x": [
          626900000
         ],
         "xaxis": "x",
         "y": [
          86250569
         ],
         "yaxis": "y"
        }
       ],
       "layout": {
        "autosize": false,
        "height": 550,
        "legend": {
         "bgcolor": "White",
         "bordercolor": "Black",
         "borderwidth": 2,
         "font": {
          "color": "black",
          "size": 10
         },
         "itemsizing": "constant",
         "title": {
          "text": "        Country"
         },
         "tracegroupgap": 0,
         "x": 0.6,
         "y": 0
        },
        "template": {
         "data": {
          "bar": [
           {
            "error_x": {
             "color": "#2a3f5f"
            },
            "error_y": {
             "color": "#2a3f5f"
            },
            "marker": {
             "line": {
              "color": "#E5ECF6",
              "width": 0.5
             },
             "pattern": {
              "fillmode": "overlay",
              "size": 10,
              "solidity": 0.2
             }
            },
            "type": "bar"
           }
          ],
          "barpolar": [
           {
            "marker": {
             "line": {
              "color": "#E5ECF6",
              "width": 0.5
             },
             "pattern": {
              "fillmode": "overlay",
              "size": 10,
              "solidity": 0.2
             }
            },
            "type": "barpolar"
           }
          ],
          "carpet": [
           {
            "aaxis": {
             "endlinecolor": "#2a3f5f",
             "gridcolor": "white",
             "linecolor": "white",
             "minorgridcolor": "white",
             "startlinecolor": "#2a3f5f"
            },
            "baxis": {
             "endlinecolor": "#2a3f5f",
             "gridcolor": "white",
             "linecolor": "white",
             "minorgridcolor": "white",
             "startlinecolor": "#2a3f5f"
            },
            "type": "carpet"
           }
          ],
          "choropleth": [
           {
            "colorbar": {
             "outlinewidth": 0,
             "ticks": ""
            },
            "type": "choropleth"
           }
          ],
          "contour": [
           {
            "colorbar": {
             "outlinewidth": 0,
             "ticks": ""
            },
            "colorscale": [
             [
              0,
              "#0d0887"
             ],
             [
              0.1111111111111111,
              "#46039f"
             ],
             [
              0.2222222222222222,
              "#7201a8"
             ],
             [
              0.3333333333333333,
              "#9c179e"
             ],
             [
              0.4444444444444444,
              "#bd3786"
             ],
             [
              0.5555555555555556,
              "#d8576b"
             ],
             [
              0.6666666666666666,
              "#ed7953"
             ],
             [
              0.7777777777777778,
              "#fb9f3a"
             ],
             [
              0.8888888888888888,
              "#fdca26"
             ],
             [
              1,
              "#f0f921"
             ]
            ],
            "type": "contour"
           }
          ],
          "contourcarpet": [
           {
            "colorbar": {
             "outlinewidth": 0,
             "ticks": ""
            },
            "type": "contourcarpet"
           }
          ],
          "heatmap": [
           {
            "colorbar": {
             "outlinewidth": 0,
             "ticks": ""
            },
            "colorscale": [
             [
              0,
              "#0d0887"
             ],
             [
              0.1111111111111111,
              "#46039f"
             ],
             [
              0.2222222222222222,
              "#7201a8"
             ],
             [
              0.3333333333333333,
              "#9c179e"
             ],
             [
              0.4444444444444444,
              "#bd3786"
             ],
             [
              0.5555555555555556,
              "#d8576b"
             ],
             [
              0.6666666666666666,
              "#ed7953"
             ],
             [
              0.7777777777777778,
              "#fb9f3a"
             ],
             [
              0.8888888888888888,
              "#fdca26"
             ],
             [
              1,
              "#f0f921"
             ]
            ],
            "type": "heatmap"
           }
          ],
          "heatmapgl": [
           {
            "colorbar": {
             "outlinewidth": 0,
             "ticks": ""
            },
            "colorscale": [
             [
              0,
              "#0d0887"
             ],
             [
              0.1111111111111111,
              "#46039f"
             ],
             [
              0.2222222222222222,
              "#7201a8"
             ],
             [
              0.3333333333333333,
              "#9c179e"
             ],
             [
              0.4444444444444444,
              "#bd3786"
             ],
             [
              0.5555555555555556,
              "#d8576b"
             ],
             [
              0.6666666666666666,
              "#ed7953"
             ],
             [
              0.7777777777777778,
              "#fb9f3a"
             ],
             [
              0.8888888888888888,
              "#fdca26"
             ],
             [
              1,
              "#f0f921"
             ]
            ],
            "type": "heatmapgl"
           }
          ],
          "histogram": [
           {
            "marker": {
             "pattern": {
              "fillmode": "overlay",
              "size": 10,
              "solidity": 0.2
             }
            },
            "type": "histogram"
           }
          ],
          "histogram2d": [
           {
            "colorbar": {
             "outlinewidth": 0,
             "ticks": ""
            },
            "colorscale": [
             [
              0,
              "#0d0887"
             ],
             [
              0.1111111111111111,
              "#46039f"
             ],
             [
              0.2222222222222222,
              "#7201a8"
             ],
             [
              0.3333333333333333,
              "#9c179e"
             ],
             [
              0.4444444444444444,
              "#bd3786"
             ],
             [
              0.5555555555555556,
              "#d8576b"
             ],
             [
              0.6666666666666666,
              "#ed7953"
             ],
             [
              0.7777777777777778,
              "#fb9f3a"
             ],
             [
              0.8888888888888888,
              "#fdca26"
             ],
             [
              1,
              "#f0f921"
             ]
            ],
            "type": "histogram2d"
           }
          ],
          "histogram2dcontour": [
           {
            "colorbar": {
             "outlinewidth": 0,
             "ticks": ""
            },
            "colorscale": [
             [
              0,
              "#0d0887"
             ],
             [
              0.1111111111111111,
              "#46039f"
             ],
             [
              0.2222222222222222,
              "#7201a8"
             ],
             [
              0.3333333333333333,
              "#9c179e"
             ],
             [
              0.4444444444444444,
              "#bd3786"
             ],
             [
              0.5555555555555556,
              "#d8576b"
             ],
             [
              0.6666666666666666,
              "#ed7953"
             ],
             [
              0.7777777777777778,
              "#fb9f3a"
             ],
             [
              0.8888888888888888,
              "#fdca26"
             ],
             [
              1,
              "#f0f921"
             ]
            ],
            "type": "histogram2dcontour"
           }
          ],
          "mesh3d": [
           {
            "colorbar": {
             "outlinewidth": 0,
             "ticks": ""
            },
            "type": "mesh3d"
           }
          ],
          "parcoords": [
           {
            "line": {
             "colorbar": {
              "outlinewidth": 0,
              "ticks": ""
             }
            },
            "type": "parcoords"
           }
          ],
          "pie": [
           {
            "automargin": true,
            "type": "pie"
           }
          ],
          "scatter": [
           {
            "fillpattern": {
             "fillmode": "overlay",
             "size": 10,
             "solidity": 0.2
            },
            "type": "scatter"
           }
          ],
          "scatter3d": [
           {
            "line": {
             "colorbar": {
              "outlinewidth": 0,
              "ticks": ""
             }
            },
            "marker": {
             "colorbar": {
              "outlinewidth": 0,
              "ticks": ""
             }
            },
            "type": "scatter3d"
           }
          ],
          "scattercarpet": [
           {
            "marker": {
             "colorbar": {
              "outlinewidth": 0,
              "ticks": ""
             }
            },
            "type": "scattercarpet"
           }
          ],
          "scattergeo": [
           {
            "marker": {
             "colorbar": {
              "outlinewidth": 0,
              "ticks": ""
             }
            },
            "type": "scattergeo"
           }
          ],
          "scattergl": [
           {
            "marker": {
             "colorbar": {
              "outlinewidth": 0,
              "ticks": ""
             }
            },
            "type": "scattergl"
           }
          ],
          "scattermapbox": [
           {
            "marker": {
             "colorbar": {
              "outlinewidth": 0,
              "ticks": ""
             }
            },
            "type": "scattermapbox"
           }
          ],
          "scatterpolar": [
           {
            "marker": {
             "colorbar": {
              "outlinewidth": 0,
              "ticks": ""
             }
            },
            "type": "scatterpolar"
           }
          ],
          "scatterpolargl": [
           {
            "marker": {
             "colorbar": {
              "outlinewidth": 0,
              "ticks": ""
             }
            },
            "type": "scatterpolargl"
           }
          ],
          "scatterternary": [
           {
            "marker": {
             "colorbar": {
              "outlinewidth": 0,
              "ticks": ""
             }
            },
            "type": "scatterternary"
           }
          ],
          "surface": [
           {
            "colorbar": {
             "outlinewidth": 0,
             "ticks": ""
            },
            "colorscale": [
             [
              0,
              "#0d0887"
             ],
             [
              0.1111111111111111,
              "#46039f"
             ],
             [
              0.2222222222222222,
              "#7201a8"
             ],
             [
              0.3333333333333333,
              "#9c179e"
             ],
             [
              0.4444444444444444,
              "#bd3786"
             ],
             [
              0.5555555555555556,
              "#d8576b"
             ],
             [
              0.6666666666666666,
              "#ed7953"
             ],
             [
              0.7777777777777778,
              "#fb9f3a"
             ],
             [
              0.8888888888888888,
              "#fdca26"
             ],
             [
              1,
              "#f0f921"
             ]
            ],
            "type": "surface"
           }
          ],
          "table": [
           {
            "cells": {
             "fill": {
              "color": "#EBF0F8"
             },
             "line": {
              "color": "white"
             }
            },
            "header": {
             "fill": {
              "color": "#C8D4E3"
             },
             "line": {
              "color": "white"
             }
            },
            "type": "table"
           }
          ]
         },
         "layout": {
          "annotationdefaults": {
           "arrowcolor": "#2a3f5f",
           "arrowhead": 0,
           "arrowwidth": 1
          },
          "autotypenumbers": "strict",
          "coloraxis": {
           "colorbar": {
            "outlinewidth": 0,
            "ticks": ""
           }
          },
          "colorscale": {
           "diverging": [
            [
             0,
             "#8e0152"
            ],
            [
             0.1,
             "#c51b7d"
            ],
            [
             0.2,
             "#de77ae"
            ],
            [
             0.3,
             "#f1b6da"
            ],
            [
             0.4,
             "#fde0ef"
            ],
            [
             0.5,
             "#f7f7f7"
            ],
            [
             0.6,
             "#e6f5d0"
            ],
            [
             0.7,
             "#b8e186"
            ],
            [
             0.8,
             "#7fbc41"
            ],
            [
             0.9,
             "#4d9221"
            ],
            [
             1,
             "#276419"
            ]
           ],
           "sequential": [
            [
             0,
             "#0d0887"
            ],
            [
             0.1111111111111111,
             "#46039f"
            ],
            [
             0.2222222222222222,
             "#7201a8"
            ],
            [
             0.3333333333333333,
             "#9c179e"
            ],
            [
             0.4444444444444444,
             "#bd3786"
            ],
            [
             0.5555555555555556,
             "#d8576b"
            ],
            [
             0.6666666666666666,
             "#ed7953"
            ],
            [
             0.7777777777777778,
             "#fb9f3a"
            ],
            [
             0.8888888888888888,
             "#fdca26"
            ],
            [
             1,
             "#f0f921"
            ]
           ],
           "sequentialminus": [
            [
             0,
             "#0d0887"
            ],
            [
             0.1111111111111111,
             "#46039f"
            ],
            [
             0.2222222222222222,
             "#7201a8"
            ],
            [
             0.3333333333333333,
             "#9c179e"
            ],
            [
             0.4444444444444444,
             "#bd3786"
            ],
            [
             0.5555555555555556,
             "#d8576b"
            ],
            [
             0.6666666666666666,
             "#ed7953"
            ],
            [
             0.7777777777777778,
             "#fb9f3a"
            ],
            [
             0.8888888888888888,
             "#fdca26"
            ],
            [
             1,
             "#f0f921"
            ]
           ]
          },
          "colorway": [
           "#636efa",
           "#EF553B",
           "#00cc96",
           "#ab63fa",
           "#FFA15A",
           "#19d3f3",
           "#FF6692",
           "#B6E880",
           "#FF97FF",
           "#FECB52"
          ],
          "font": {
           "color": "#2a3f5f"
          },
          "geo": {
           "bgcolor": "white",
           "lakecolor": "white",
           "landcolor": "#E5ECF6",
           "showlakes": true,
           "showland": true,
           "subunitcolor": "white"
          },
          "hoverlabel": {
           "align": "left"
          },
          "hovermode": "closest",
          "mapbox": {
           "style": "light"
          },
          "paper_bgcolor": "white",
          "plot_bgcolor": "#E5ECF6",
          "polar": {
           "angularaxis": {
            "gridcolor": "white",
            "linecolor": "white",
            "ticks": ""
           },
           "bgcolor": "#E5ECF6",
           "radialaxis": {
            "gridcolor": "white",
            "linecolor": "white",
            "ticks": ""
           }
          },
          "scene": {
           "xaxis": {
            "backgroundcolor": "#E5ECF6",
            "gridcolor": "white",
            "gridwidth": 2,
            "linecolor": "white",
            "showbackground": true,
            "ticks": "",
            "zerolinecolor": "white"
           },
           "yaxis": {
            "backgroundcolor": "#E5ECF6",
            "gridcolor": "white",
            "gridwidth": 2,
            "linecolor": "white",
            "showbackground": true,
            "ticks": "",
            "zerolinecolor": "white"
           },
           "zaxis": {
            "backgroundcolor": "#E5ECF6",
            "gridcolor": "white",
            "gridwidth": 2,
            "linecolor": "white",
            "showbackground": true,
            "ticks": "",
            "zerolinecolor": "white"
           }
          },
          "shapedefaults": {
           "line": {
            "color": "#2a3f5f"
           }
          },
          "ternary": {
           "aaxis": {
            "gridcolor": "white",
            "linecolor": "white",
            "ticks": ""
           },
           "baxis": {
            "gridcolor": "white",
            "linecolor": "white",
            "ticks": ""
           },
           "bgcolor": "#E5ECF6",
           "caxis": {
            "gridcolor": "white",
            "linecolor": "white",
            "ticks": ""
           }
          },
          "title": {
           "x": 0.05
          },
          "xaxis": {
           "automargin": true,
           "gridcolor": "white",
           "linecolor": "white",
           "ticks": "",
           "title": {
            "standoff": 15
           },
           "zerolinecolor": "white",
           "zerolinewidth": 2
          },
          "yaxis": {
           "automargin": true,
           "gridcolor": "white",
           "linecolor": "white",
           "ticks": "",
           "title": {
            "standoff": 15
           },
           "zerolinecolor": "white",
           "zerolinewidth": 2
          }
         }
        },
        "title": {
         "text": "Top 5 Countries: Earnings vs. Subscribers",
         "x": 0.5
        },
        "width": 500,
        "xaxis": {
         "anchor": "y",
         "autorange": true,
         "domain": [
          0,
          1
         ],
         "range": [
          20428047.027026415,
          7690971952.972974
         ],
         "title": {
          "text": "Total Country Subscribers"
         },
         "type": "linear"
        },
        "yaxis": {
         "anchor": "x",
         "autorange": true,
         "domain": [
          0,
          1
         ],
         "range": [
          -103408223.77027169,
          2369055392.1002717
         ],
         "title": {
          "text": "Highest Yearly Earnings"
         },
         "type": "linear"
        }
       }
      },
      "image/png": "[encoded data removed]",
      "text/html": [
       "<div>                            <div id=\"cbad7a96-324b-4dc0-9678-9fcc25ea5ce0\" class=\"plotly-graph-div\" style=\"height:550px; width:500px;\"></div>            <script type=\"text/javascript\">                require([\"plotly\"], function(Plotly) {                    window.PLOTLYENV=window.PLOTLYENV || {};                                    if (document.getElementById(\"cbad7a96-324b-4dc0-9678-9fcc25ea5ce0\")) {                    Plotly.newPlot(                        \"cbad7a96-324b-4dc0-9678-9fcc25ea5ce0\",                        [{\"hovertemplate\":\"color=United States<br>Total Country Subscribers=%{x}<br>Highest Yearly Earnings=%{y}<br>sizer=%{marker.size}<extra></extra>\",\"legendgroup\":\"United States\",\"marker\":{\"color\":\"#636efa\",\"size\":[1],\"sizemode\":\"area\",\"sizeref\":0.0064,\"symbol\":\"circle\"},\"mode\":\"markers\",\"name\":\"United States\",\"orientation\":\"v\",\"showlegend\":true,\"x\":[7084500000],\"xaxis\":\"x\",\"y\":[2179396599.33],\"yaxis\":\"y\",\"type\":\"scatter\"},{\"hovertemplate\":\"color=India<br>Total Country Subscribers=%{x}<br>Highest Yearly Earnings=%{y}<br>sizer=%{marker.size}<extra></extra>\",\"legendgroup\":\"India\",\"marker\":{\"color\":\"#EF553B\",\"size\":[1],\"sizemode\":\"area\",\"sizeref\":0.0064,\"symbol\":\"circle\"},\"mode\":\"markers\",\"name\":\"India\",\"orientation\":\"v\",\"showlegend\":true,\"x\":[4333400000],\"xaxis\":\"x\",\"y\":[1889353748.92],\"yaxis\":\"y\",\"type\":\"scatter\"},{\"hovertemplate\":\"color=Brazil<br>Total Country Subscribers=%{x}<br>Highest Yearly Earnings=%{y}<br>sizer=%{marker.size}<extra></extra>\",\"legendgroup\":\"Brazil\",\"marker\":{\"color\":\"#00cc96\",\"size\":[1],\"sizemode\":\"area\",\"sizeref\":0.0064,\"symbol\":\"circle\"},\"mode\":\"markers\",\"name\":\"Brazil\",\"orientation\":\"v\",\"showlegend\":true,\"x\":[1221800000],\"xaxis\":\"x\",\"y\":[347807000.0],\"yaxis\":\"y\",\"type\":\"scatter\"},{\"hovertemplate\":\"color=United Kingdom<br>Total Country Subscribers=%{x}<br>Highest Yearly Earnings=%{y}<br>sizer=%{marker.size}<extra></extra>\",\"legendgroup\":\"United Kingdom\",\"marker\":{\"color\":\"#ab63fa\",\"size\":[1],\"sizemode\":\"area\",\"sizeref\":0.0064,\"symbol\":\"circle\"},\"mode\":\"markers\",\"name\":\"United Kingdom\",\"orientation\":\"v\",\"showlegend\":true,\"x\":[917400000],\"xaxis\":\"x\",\"y\":[175909994.05],\"yaxis\":\"y\",\"type\":\"scatter\"},{\"hovertemplate\":\"color=Mexico<br>Total Country Subscribers=%{x}<br>Highest Yearly Earnings=%{y}<br>sizer=%{marker.size}<extra></extra>\",\"legendgroup\":\"Mexico\",\"marker\":{\"color\":\"#FFA15A\",\"size\":[1],\"sizemode\":\"area\",\"sizeref\":0.0064,\"symbol\":\"circle\"},\"mode\":\"markers\",\"name\":\"Mexico\",\"orientation\":\"v\",\"showlegend\":true,\"x\":[626900000],\"xaxis\":\"x\",\"y\":[86250569.0],\"yaxis\":\"y\",\"type\":\"scatter\"}],                        {\"template\":{\"data\":{\"histogram2dcontour\":[{\"type\":\"histogram2dcontour\",\"colorbar\":{\"outlinewidth\":0,\"ticks\":\"\"},\"colorscale\":[[0.0,\"#0d0887\"],[0.1111111111111111,\"#46039f\"],[0.2222222222222222,\"#7201a8\"],[0.3333333333333333,\"#9c179e\"],[0.4444444444444444,\"#bd3786\"],[0.5555555555555556,\"#d8576b\"],[0.6666666666666666,\"#ed7953\"],[0.7777777777777778,\"#fb9f3a\"],[0.8888888888888888,\"#fdca26\"],[1.0,\"#f0f921\"]]}],\"choropleth\":[{\"type\":\"choropleth\",\"colorbar\":{\"outlinewidth\":0,\"ticks\":\"\"}}],\"histogram2d\":[{\"type\":\"histogram2d\",\"colorbar\":{\"outlinewidth\":0,\"ticks\":\"\"},\"colorscale\":[[0.0,\"#0d0887\"],[0.1111111111111111,\"#46039f\"],[0.2222222222222222,\"#7201a8\"],[0.3333333333333333,\"#9c179e\"],[0.4444444444444444,\"#bd3786\"],[0.5555555555555556,\"#d8576b\"],[0.6666666666666666,\"#ed7953\"],[0.7777777777777778,\"#fb9f3a\"],[0.8888888888888888,\"#fdca26\"],[1.0,\"#f0f921\"]]}],\"heatmap\":[{\"type\":\"heatmap\",\"colorbar\":{\"outlinewidth\":0,\"ticks\":\"\"},\"colorscale\":[[0.0,\"#0d0887\"],[0.1111111111111111,\"#46039f\"],[0.2222222222222222,\"#7201a8\"],[0.3333333333333333,\"#9c179e\"],[0.4444444444444444,\"#bd3786\"],[0.5555555555555556,\"#d8576b\"],[0.6666666666666666,\"#ed7953\"],[0.7777777777777778,\"#fb9f3a\"],[0.8888888888888888,\"#fdca26\"],[1.0,\"#f0f921\"]]}],\"heatmapgl\":[{\"type\":\"heatmapgl\",\"colorbar\":{\"outlinewidth\":0,\"ticks\":\"\"},\"colorscale\":[[0.0,\"#0d0887\"],[0.1111111111111111,\"#46039f\"],[0.2222222222222222,\"#7201a8\"],[0.3333333333333333,\"#9c179e\"],[0.4444444444444444,\"#bd3786\"],[0.5555555555555556,\"#d8576b\"],[0.6666666666666666,\"#ed7953\"],[0.7777777777777778,\"#fb9f3a\"],[0.8888888888888888,\"#fdca26\"],[1.0,\"#f0f921\"]]}],\"contourcarpet\":[{\"type\":\"contourcarpet\",\"colorbar\":{\"outlinewidth\":0,\"ticks\":\"\"}}],\"contour\":[{\"type\":\"contour\",\"colorbar\":{\"outlinewidth\":0,\"ticks\":\"\"},\"colorscale\":[[0.0,\"#0d0887\"],[0.1111111111111111,\"#46039f\"],[0.2222222222222222,\"#7201a8\"],[0.3333333333333333,\"#9c179e\"],[0.4444444444444444,\"#bd3786\"],[0.5555555555555556,\"#d8576b\"],[0.6666666666666666,\"#ed7953\"],[0.7777777777777778,\"#fb9f3a\"],[0.8888888888888888,\"#fdca26\"],[1.0,\"#f0f921\"]]}],\"surface\":[{\"type\":\"surface\",\"colorbar\":{\"outlinewidth\":0,\"ticks\":\"\"},\"colorscale\":[[0.0,\"#0d0887\"],[0.1111111111111111,\"#46039f\"],[0.2222222222222222,\"#7201a8\"],[0.3333333333333333,\"#9c179e\"],[0.4444444444444444,\"#bd3786\"],[0.5555555555555556,\"#d8576b\"],[0.6666666666666666,\"#ed7953\"],[0.7777777777777778,\"#fb9f3a\"],[0.8888888888888888,\"#fdca26\"],[1.0,\"#f0f921\"]]}],\"mesh3d\":[{\"type\":\"mesh3d\",\"colorbar\":{\"outlinewidth\":0,\"ticks\":\"\"}}],\"scatter\":[{\"fillpattern\":{\"fillmode\":\"overlay\",\"size\":10,\"solidity\":0.2},\"type\":\"scatter\"}],\"parcoords\":[{\"type\":\"parcoords\",\"line\":{\"colorbar\":{\"outlinewidth\":0,\"ticks\":\"\"}}}],\"scatterpolargl\":[{\"type\":\"scatterpolargl\",\"marker\":{\"colorbar\":{\"outlinewidth\":0,\"ticks\":\"\"}}}],\"bar\":[{\"error_x\":{\"color\":\"#2a3f5f\"},\"error_y\":{\"color\":\"#2a3f5f\"},\"marker\":{\"line\":{\"color\":\"#E5ECF6\",\"width\":0.5},\"pattern\":{\"fillmode\":\"overlay\",\"size\":10,\"solidity\":0.2}},\"type\":\"bar\"}],\"scattergeo\":[{\"type\":\"scattergeo\",\"marker\":{\"colorbar\":{\"outlinewidth\":0,\"ticks\":\"\"}}}],\"scatterpolar\":[{\"type\":\"scatterpolar\",\"marker\":{\"colorbar\":{\"outlinewidth\":0,\"ticks\":\"\"}}}],\"histogram\":[{\"marker\":{\"pattern\":{\"fillmode\":\"overlay\",\"size\":10,\"solidity\":0.2}},\"type\":\"histogram\"}],\"scattergl\":[{\"type\":\"scattergl\",\"marker\":{\"colorbar\":{\"outlinewidth\":0,\"ticks\":\"\"}}}],\"scatter3d\":[{\"type\":\"scatter3d\",\"line\":{\"colorbar\":{\"outlinewidth\":0,\"ticks\":\"\"}},\"marker\":{\"colorbar\":{\"outlinewidth\":0,\"ticks\":\"\"}}}],\"scattermapbox\":[{\"type\":\"scattermapbox\",\"marker\":{\"colorbar\":{\"outlinewidth\":0,\"ticks\":\"\"}}}],\"scatterternary\":[{\"type\":\"scatterternary\",\"marker\":{\"colorbar\":{\"outlinewidth\":0,\"ticks\":\"\"}}}],\"scattercarpet\":[{\"type\":\"scattercarpet\",\"marker\":{\"colorbar\":{\"outlinewidth\":0,\"ticks\":\"\"}}}],\"carpet\":[{\"aaxis\":{\"endlinecolor\":\"#2a3f5f\",\"gridcolor\":\"white\",\"linecolor\":\"white\",\"minorgridcolor\":\"white\",\"startlinecolor\":\"#2a3f5f\"},\"baxis\":{\"endlinecolor\":\"#2a3f5f\",\"gridcolor\":\"white\",\"linecolor\":\"white\",\"minorgridcolor\":\"white\",\"startlinecolor\":\"#2a3f5f\"},\"type\":\"carpet\"}],\"table\":[{\"cells\":{\"fill\":{\"color\":\"#EBF0F8\"},\"line\":{\"color\":\"white\"}},\"header\":{\"fill\":{\"color\":\"#C8D4E3\"},\"line\":{\"color\":\"white\"}},\"type\":\"table\"}],\"barpolar\":[{\"marker\":{\"line\":{\"color\":\"#E5ECF6\",\"width\":0.5},\"pattern\":{\"fillmode\":\"overlay\",\"size\":10,\"solidity\":0.2}},\"type\":\"barpolar\"}],\"pie\":[{\"automargin\":true,\"type\":\"pie\"}]},\"layout\":{\"autotypenumbers\":\"strict\",\"colorway\":[\"#636efa\",\"#EF553B\",\"#00cc96\",\"#ab63fa\",\"#FFA15A\",\"#19d3f3\",\"#FF6692\",\"#B6E880\",\"#FF97FF\",\"#FECB52\"],\"font\":{\"color\":\"#2a3f5f\"},\"hovermode\":\"closest\",\"hoverlabel\":{\"align\":\"left\"},\"paper_bgcolor\":\"white\",\"plot_bgcolor\":\"#E5ECF6\",\"polar\":{\"bgcolor\":\"#E5ECF6\",\"angularaxis\":{\"gridcolor\":\"white\",\"linecolor\":\"white\",\"ticks\":\"\"},\"radialaxis\":{\"gridcolor\":\"white\",\"linecolor\":\"white\",\"ticks\":\"\"}},\"ternary\":{\"bgcolor\":\"#E5ECF6\",\"aaxis\":{\"gridcolor\":\"white\",\"linecolor\":\"white\",\"ticks\":\"\"},\"baxis\":{\"gridcolor\":\"white\",\"linecolor\":\"white\",\"ticks\":\"\"},\"caxis\":{\"gridcolor\":\"white\",\"linecolor\":\"white\",\"ticks\":\"\"}},\"coloraxis\":{\"colorbar\":{\"outlinewidth\":0,\"ticks\":\"\"}},\"colorscale\":{\"sequential\":[[0.0,\"#0d0887\"],[0.1111111111111111,\"#46039f\"],[0.2222222222222222,\"#7201a8\"],[0.3333333333333333,\"#9c179e\"],[0.4444444444444444,\"#bd3786\"],[0.5555555555555556,\"#d8576b\"],[0.6666666666666666,\"#ed7953\"],[0.7777777777777778,\"#fb9f3a\"],[0.8888888888888888,\"#fdca26\"],[1.0,\"#f0f921\"]],\"sequentialminus\":[[0.0,\"#0d0887\"],[0.1111111111111111,\"#46039f\"],[0.2222222222222222,\"#7201a8\"],[0.3333333333333333,\"#9c179e\"],[0.4444444444444444,\"#bd3786\"],[0.5555555555555556,\"#d8576b\"],[0.6666666666666666,\"#ed7953\"],[0.7777777777777778,\"#fb9f3a\"],[0.8888888888888888,\"#fdca26\"],[1.0,\"#f0f921\"]],\"diverging\":[[0,\"#8e0152\"],[0.1,\"#c51b7d\"],[0.2,\"#de77ae\"],[0.3,\"#f1b6da\"],[0.4,\"#fde0ef\"],[0.5,\"#f7f7f7\"],[0.6,\"#e6f5d0\"],[0.7,\"#b8e186\"],[0.8,\"#7fbc41\"],[0.9,\"#4d9221\"],[1,\"#276419\"]]},\"xaxis\":{\"gridcolor\":\"white\",\"linecolor\":\"white\",\"ticks\":\"\",\"title\":{\"standoff\":15},\"zerolinecolor\":\"white\",\"automargin\":true,\"zerolinewidth\":2},\"yaxis\":{\"gridcolor\":\"white\",\"linecolor\":\"white\",\"ticks\":\"\",\"title\":{\"standoff\":15},\"zerolinecolor\":\"white\",\"automargin\":true,\"zerolinewidth\":2},\"scene\":{\"xaxis\":{\"backgroundcolor\":\"#E5ECF6\",\"gridcolor\":\"white\",\"linecolor\":\"white\",\"showbackground\":true,\"ticks\":\"\",\"zerolinecolor\":\"white\",\"gridwidth\":2},\"yaxis\":{\"backgroundcolor\":\"#E5ECF6\",\"gridcolor\":\"white\",\"linecolor\":\"white\",\"showbackground\":true,\"ticks\":\"\",\"zerolinecolor\":\"white\",\"gridwidth\":2},\"zaxis\":{\"backgroundcolor\":\"#E5ECF6\",\"gridcolor\":\"white\",\"linecolor\":\"white\",\"showbackground\":true,\"ticks\":\"\",\"zerolinecolor\":\"white\",\"gridwidth\":2}},\"shapedefaults\":{\"line\":{\"color\":\"#2a3f5f\"}},\"annotationdefaults\":{\"arrowcolor\":\"#2a3f5f\",\"arrowhead\":0,\"arrowwidth\":1},\"geo\":{\"bgcolor\":\"white\",\"landcolor\":\"#E5ECF6\",\"subunitcolor\":\"white\",\"showland\":true,\"showlakes\":true,\"lakecolor\":\"white\"},\"title\":{\"x\":0.05},\"mapbox\":{\"style\":\"light\"}}},\"xaxis\":{\"anchor\":\"y\",\"domain\":[0.0,1.0],\"title\":{\"text\":\"Total Country Subscribers\"}},\"yaxis\":{\"anchor\":\"x\",\"domain\":[0.0,1.0],\"title\":{\"text\":\"Highest Yearly Earnings\"}},\"legend\":{\"title\":{\"text\":\"        Country\"},\"tracegroupgap\":0,\"itemsizing\":\"constant\",\"font\":{\"size\":10,\"color\":\"black\"},\"x\":0.6,\"y\":0,\"bgcolor\":\"White\",\"bordercolor\":\"Black\",\"borderwidth\":2},\"title\":{\"text\":\"Top 5 Countries: Earnings vs. Subscribers\",\"x\":0.5},\"autosize\":false,\"height\":550,\"width\":500},                        {\"responsive\": true}                    ).then(function(){\n",
       "                            \n",
       "var gd = document.getElementById('cbad7a96-324b-4dc0-9678-9fcc25ea5ce0');\n",
       "var x = new MutationObserver(function (mutations, observer) {{\n",
       "        var display = window.getComputedStyle(gd).display;\n",
       "        if (!display || display === 'none') {{\n",
       "            console.log([gd, 'removed!']);\n",
       "            Plotly.purge(gd);\n",
       "            observer.disconnect();\n",
       "        }}\n",
       "}});\n",
       "\n",
       "// Listen for the removal of the full notebook cells\n",
       "var notebookContainer = gd.closest('#notebook-container');\n",
       "if (notebookContainer) {{\n",
       "    x.observe(notebookContainer, {childList: true});\n",
       "}}\n",
       "\n",
       "// Listen for the clearing of the current output cell\n",
       "var outputEl = gd.closest('.output');\n",
       "if (outputEl) {{\n",
       "    x.observe(outputEl, {childList: true});\n",
       "}}\n",
       "\n",
       "                        })                };                });            </script>        </div>"
      ]
     },
     "metadata": {},
     "output_type": "display_data"
    }
   ],
   "source": [
    "px.scatter(countrydf.head(5), \n",
    "           x='subscribers',y='highest_yearly_earnings', size = 'sizer', size_max=12.5,\n",
    "               \n",
    "               color=countrydf.head(5).index,\n",
    "                labels = {'subscribers': 'Total Country Subscribers',\n",
    "                          'highest_yearly_earnings': 'Highest Yearly Earnings'},\n",
    "                     title ='Top 5 Countries: Earnings vs. Subscribers' ).update_layout(title_x=0.5,\n",
    "                                                                                autosize=False, height=550, width=500).update_layout(\n",
    "        legend_title=\"        Country\", legend=dict(\n",
    "        x=.6,\n",
    "        y=0,\n",
    "        #title_font_family=\"Sans Serif\",\n",
    "        font=dict(\n",
    "            #family=\"Sans Serif\",\n",
    "            size=10,\n",
    "            color=\"black\"\n",
    "        ),\n",
    "        bgcolor=\"White\",\n",
    "        bordercolor=\"Black\",\n",
    "        borderwidth=2\n",
    "    ))"
   ]
  },
  {
   "cell_type": "code",
   "execution_count": null,
   "id": "5eff2aa4-29a3-4b76-986d-a5faade5d16c",
   "metadata": {},
   "outputs": [],
   "source": []
  },
  {
   "cell_type": "code",
   "execution_count": 40,
   "id": "310b5612-f3ba-4194-9eb6-2acd4297e22b",
   "metadata": {
    "tags": []
   },
   "outputs": [
    {
     "data": {
      "text/plain": [
       "Country\n",
       "United States     311\n",
       "India             169\n",
       "Brazil             62\n",
       "United Kingdom     43\n",
       "Mexico             33\n",
       "Name: youtuber_count, dtype: int64"
      ]
     },
     "execution_count": 40,
     "metadata": {},
     "output_type": "execute_result"
    }
   ],
   "source": [
    "countrydf.youtuber_count.head(5)"
   ]
  },
  {
   "cell_type": "markdown",
   "id": "7b596257-7f0e-4beb-9252-2fd688b5cefc",
   "metadata": {},
   "source": [
    "Here we can see that the more subscribers a country has, the more earnings their YouTubers make in total. With this small pull of 5 countries we can see a general trend that the more YouTubers in a country also shows success in subscribers and earnings. I only took the top five to not overcrowd our visual, and to give a good introduction to country. Below we will get into a more worldy approach of the countries."
   ]
  },
  {
   "cell_type": "code",
   "execution_count": 43,
   "id": "0fecfb91-6e06-42c4-a9c4-f4cbd7f8622c",
   "metadata": {
    "tags": []
   },
   "outputs": [
    {
     "data": {
      "image/png": "[encoded data removed]",
      "text/plain": [
       "<Figure size 1000x750 with 2 Axes>"
      ]
     },
     "metadata": {},
     "output_type": "display_data"
    }
   ],
   "source": [
    "plt.figure(figsize=(10, 7.5))\n",
    "gr1 = df.Country.value_counts() > 1\n",
    "gr1 = gr1.where(gr1 == True).dropna()\n",
    "#filtered out the singular youtubers countries\n",
    "plt.subplot(1, 2, 1)\n",
    "sns.boxplot(data=df[df.Country.isin(gr1.keys())], y='Country', x='subscribers',palette='Blues') #,showfliers=False)\n",
    "plt.title('Boxplot Data Distribution: Country vs. Subscribers')\n",
    "plt.ylabel('Country')\n",
    "plt.xlabel('Subscribers')\n",
    "\n",
    "plt.subplot(1, 2, 2)\n",
    "sns.boxplot(data=df[df.Country.isin(gr1.keys())], y='Country', x='highest_yearly_earnings',palette='Blues')\n",
    "plt.title('Boxplot Data Distribution: Country vs. Highest Earnings')\n",
    "plt.ylabel('Country')\n",
    "plt.xlabel('Highest Yearly Earnings')\n",
    "plt.tight_layout()\n",
    "\n",
    "plt.show()"
   ]
  },
  {
   "cell_type": "markdown",
   "id": "5684225b-cac8-450a-a9e1-bb877fcda3ee",
   "metadata": {},
   "source": [
    "From seeing the distribution of data through boxplots for each country (removing singular youtuber countries) there was some interesting data. India and US seem to be carried by mostly outliers. There were five countries here that specifically piqued my interest, and those are South Korea, Pakistan, Turkey, Italy, and Germany. The reason of interest was their drastically different distribution of earnings as compared to the distribution on the subscriberside. This led me to question are there more opportunities for certain countries?"
   ]
  },
  {
   "cell_type": "code",
   "execution_count": 50,
   "id": "11dd8358-c8f6-4678-aeb3-211b4a5a2c60",
   "metadata": {
    "tags": []
   },
   "outputs": [],
   "source": [
    "subset_countriesdf = df.iloc[:,[2,3,13,17,18,7]] #taking only the columns I am looking to analyze.\n",
    "subset_countriesdf['Country'] = np.where(df['Country'].isin(['South Korea', 'Italy', 'Germany', 'Turkey','Pakistan']) , 'Subset Countries', 'All Countries') #the subset of the countries mentioned earlier"
   ]
  },
  {
   "cell_type": "code",
   "execution_count": 51,
   "id": "cc2eca11-ee6f-466c-984f-1a883eaa0b99",
   "metadata": {
    "tags": []
   },
   "outputs": [
    {
     "data": {
      "text/plain": [
       "Text(0.5, 1.0, 'Mean Earnings, All Countries vs. Subset')"
      ]
     },
     "execution_count": 51,
     "metadata": {},
     "output_type": "execute_result"
    },
    {
     "data": {
      "image/png": "[encoded data removed]",
      "text/plain": [
       "<Figure size 640x480 with 1 Axes>"
      ]
     },
     "metadata": {},
     "output_type": "display_data"
    }
   ],
   "source": [
    "subset_countriesdf_grouped = subset_countriesdf.groupby('Country',as_index=False).mean()\n",
    "plt.bar(subset_countriesdf_grouped.Country, subset_countriesdf_grouped.highest_yearly_earnings , color = 'darkred' )\n",
    "plt.ylabel('Highest Yearly Earnings')\n",
    "plt.title('Mean Earnings, All Countries vs. Subset')"
   ]
  },
  {
   "cell_type": "markdown",
   "id": "53cd2c6d-e3d3-41e8-b9e2-3f6c2e741323",
   "metadata": {},
   "source": [
    "This was an astounding point, the mean of highest earnings among the 5 subset countries were more than double that of the rest of the countries. \\\n",
    "I wanted to explore this further, therefore I created two separate correlation heatmaps to see the differences in the numeric variables among the subset and the full list of countries:"
   ]
  },
  {
   "cell_type": "code",
   "execution_count": 55,
   "id": "fa5f91f9-0f9b-4c90-ba8c-02cf4a93cebe",
   "metadata": {
    "tags": []
   },
   "outputs": [],
   "source": [
    "subset_countriesdf = df[df['Country'].isin(['South Korea', 'Italy', 'Germany', 'Turkey','Pakistan'])].select_dtypes(include=['number'])  #I had to retrieve only the data types of number for the correlation\n",
    "not_subset_countriesdf = df[~df['Country'].isin(['South Korea', 'Italy', 'Germany', 'Turkey','Pakistan'])].select_dtypes(include=['number'])  \n",
    "subset_countriesdf['subscribers_for_last_30_days'].fillna(subset_countriesdf['subscribers_for_last_30_days'].mean(), inplace=True) #I replaced the missing NaN values with the mean of the columns\n",
    "not_subset_countriesdf['subscribers_for_last_30_days'].fillna(not_subset_countriesdf['subscribers_for_last_30_days'].mean(), inplace=True)\n",
    "subset_countriesdf['video_views_for_the_last_30_days'].fillna(subset_countriesdf['video_views_for_the_last_30_days'].mean(), inplace=True)\n",
    "not_subset_countriesdf['video_views_for_the_last_30_days'].fillna(not_subset_countriesdf['video_views_for_the_last_30_days'].mean(), inplace=True)\n",
    "subset_countriesdf=subset_countriesdf[['subscribers','highest_yearly_earnings','video views', 'uploads', 'subscribers_for_last_30_days', 'video_views_for_the_last_30_days']]\n",
    "not_subset_countriesdf=not_subset_countriesdf[['subscribers','highest_yearly_earnings','video views', 'uploads', 'subscribers_for_last_30_days', 'video_views_for_the_last_30_days']]\n",
    "\n",
    "subset_countriesdf_heatmap = subset_countriesdf.corr()\n",
    "not_subset_countriesdf_heatmap = not_subset_countriesdf.corr()"
   ]
  },
  {
   "cell_type": "code",
   "execution_count": 72,
   "id": "ca034b5f-f74a-4ba4-b4a8-a15e7a75ade7",
   "metadata": {
    "tags": []
   },
   "outputs": [
    {
     "data": {
      "image/png": "[encoded data removed]",
      "text/plain": [
       "<Figure size 1250x500 with 4 Axes>"
      ]
     },
     "metadata": {},
     "output_type": "display_data"
    }
   ],
   "source": [
    "\n",
    "plt.figure(figsize=(12.5, 5))\n",
    "\n",
    "plt.subplot(1, 2, 1)\n",
    "matrix7 = np.triu(np.ones_like(subset_countriesdf_heatmap, dtype=bool))\n",
    "np.fill_diagonal(matrix7,False)\n",
    "sns.heatmap(subset_countriesdf_heatmap, annot=True, cmap='flare', fmt=\".2f\",linewidths=1,mask = matrix7)\n",
    "plt.title('Subset Countries')\n",
    "plt.subplot(1, 2, 2)\n",
    "matrix8 = np.triu(np.ones_like(not_subset_countriesdf_heatmap, dtype=bool))\n",
    "np.fill_diagonal(matrix8,False)\n",
    "sns.heatmap(not_subset_countriesdf_heatmap, annot=True, cmap='Blues', fmt=\".2f\",linewidths=1,mask = matrix8)\n",
    "plt.title('All Countries')\n",
    "\n",
    "\n",
    "plt.tight_layout()\n",
    "\n",
    "plt.show()"
   ]
  },
  {
   "cell_type": "markdown",
   "id": "60b155c3-6756-4a01-91a2-c051c45e6609",
   "metadata": {},
   "source": [
    "Extremely interesting takeaway from here, it shows us that some countries earnings are more correlated with last 30 day activity than the rest of the countries. Also, it seems that the countries that are seeing greater increases in earnings due to recent activity are seeing less subscribership overall \\\n",
    "This can lead to many questions.  \\\n",
    "_Does YouTube have algorithmic search that caters better to certain countries in a given month?  \\\n",
    "Could VPNs assist creators by virtually putting themselves into another country or registering as a certain nationality?  \\\n",
    "Are there nationalistic effects so great that it impacts creators for that country?  \\\n",
    "How long does it take for a country to adopt YouTube to the point where creators can be making hundreds of millions of dollars?_  \n"
   ]
  },
  {
   "cell_type": "markdown",
   "id": "0a958054-fbf1-4e28-9b61-c3910e02ebe4",
   "metadata": {},
   "source": [
    "### 2.4 Country Takeaways and Conclusions"
   ]
  },
  {
   "cell_type": "markdown",
   "id": "3229fa8f-9d27-41b6-afc8-8ed9befd7bda",
   "metadata": {},
   "source": [
    "With a little alluding in the last section through questions, I wanted to put together a couple of takeways and conclusions about our exploration through the dataset in the lense of countries.\n",
    "- You don't need to be the first, second or third most popular YouTuber country to be a successful creator. I used the word popular because there are so many different factors to think about that could define that word. Subscribership, earnings, video views, last 30 day metrics, there is no best way and there is A LOT of money being made in many countries.\n",
    "- A data-driven approach to creating in a 'trending' country like the ones in our subset could pay off, however best to capitalize in the 30 day periods that earnings are correlated with.\n",
    "    - VPNs can place virtual location in another country... may be misleading/distrustful\n",
    "    - YouTube may have certain factors in their recommendations to users depending on IP address or country selected when the channel is created\n",
    "- Old-fashioned nationalism may play a factor, Italians may be big YouTuber users and have a pride in their own kin, leading to great surge in views, subscribers, and earnings. More research required."
   ]
  },
  {
   "cell_type": "code",
   "execution_count": null,
   "id": "eed7338e-1d71-464f-b4b8-1ed25321781b",
   "metadata": {},
   "outputs": [],
   "source": []
  }
 ],
 "metadata": {
  "kernelspec": {
   "display_name": "Python 3 (ipykernel)",
   "language": "python",
   "name": "python3"
  },
  "language_info": {
   "codemirror_mode": {
    "name": "ipython",
    "version": 3
   },
   "file_extension": ".py",
   "mimetype": "text/x-python",
   "name": "python",
   "nbconvert_exporter": "python",
   "pygments_lexer": "ipython3",
   "version": "3.11.3"
  }
 },
 "nbformat": 4,
 "nbformat_minor": 5
}
